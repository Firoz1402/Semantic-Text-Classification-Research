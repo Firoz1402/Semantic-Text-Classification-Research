{
 "cells": [
  {
   "cell_type": "code",
   "execution_count": 18,
   "id": "57d471fa",
   "metadata": {},
   "outputs": [],
   "source": [
    "import chardet\n",
    "import pandas as pd\n",
    "from sklearn.preprocessing import LabelEncoder\n",
    "from bs4 import BeautifulSoup\n",
    "import nltk\n",
    "from nltk.corpus import stopwords\n",
    "from nltk.stem.porter import PorterStemmer\n",
    "from nltk.stem import WordNetLemmatizer\n",
    "import string"
   ]
  },
  {
   "cell_type": "code",
   "execution_count": null,
   "id": "094f4d03",
   "metadata": {},
   "outputs": [],
   "source": []
  },
  {
   "cell_type": "code",
   "execution_count": 2,
   "id": "11fa5939",
   "metadata": {},
   "outputs": [],
   "source": [
    "#With utf-8, there was an issue with loading, also latin-1 had too many wrong characters, so\n",
    "# I had to use chardet to find the correct encoding\n",
    "\n",
    "\n",
    "# Detect the encoding of the file\n",
    "with open('../Data/Medical Dataset.csv', 'rb') as f:\n",
    "    result = chardet.detect(f.read())\n",
    "\n",
    "# Get the detected encoding\n",
    "detected_encoding = result['encoding']\n"
   ]
  },
  {
   "cell_type": "code",
   "execution_count": 3,
   "id": "8005c7a1",
   "metadata": {},
   "outputs": [
    {
     "data": {
      "text/plain": [
       "'MacRoman'"
      ]
     },
     "execution_count": 3,
     "metadata": {},
     "output_type": "execute_result"
    }
   ],
   "source": [
    "detected_encoding"
   ]
  },
  {
   "cell_type": "code",
   "execution_count": 4,
   "id": "13f72a38",
   "metadata": {},
   "outputs": [],
   "source": [
    "import pandas as pd\n",
    "\n",
    "# Read the CSV file with the detected encoding\n",
    "df = pd.read_csv('../Data/Medical Dataset.csv', encoding='MacRoman')\n"
   ]
  },
  {
   "cell_type": "code",
   "execution_count": 5,
   "id": "cfa15a6c",
   "metadata": {},
   "outputs": [
    {
     "data": {
      "text/plain": [
       "'the heterogeneity of cancer cells is generally accepted and astem celllike subpopulation that is called ÔøΩcancer stem cellsÔøΩcscs has been identiÔ¨Åed in various types of malignanttumors although the lack of consensus on the deÔ¨Ånitioncscs are widely recognized as a small subpopulation amongcancer cells with the properties of selfrenewal and tumor initiation as cscs play a critical role in the recurrence andmetastasis of cancer   targeting the cscs is thought to bea promising approach for curing cancera large number of past studies have tried to identify andcharacterize the cscs as normal tissuespeciÔ¨Åc stem cellsare considered as the main origin of cancer   the cscsare also thought to be inherited at least partially the characterization of normal tissuespeciÔ¨Åc stem cells thereforemany studies on the identiÔ¨ÅcationpuriÔ¨Åcation of cscs havesimply shared markers of hematopoietic stem cells includingthe most popularly used cell surface markers of cd44 andcd133 [ ] cd44 is a type i transmembrane glycoproteinthat is expressed on hematopoietic Ô¨Åbroblastic and glial cellsand functionally known to mediate cellcell and cellmatrixinteractions previous studies have demonstrated that thecd44 is not only a biomarker but also plays critical roles inthe maintenance of cscs the resistance to various therapiesstresses and the metastasis of cancer cells [ÔøΩ]cd133 is originally identiÔ¨Åed as protein expressing on thecell surface of hematopoietic stem cells   and has subsequently been found to be critical in the maintenance ofÔøΩstemnessÔøΩ of stem cells in various tissues [ÔøΩ] cd133has also been found in some csc [ÔøΩ] which contributesto therapeutic resistance through the activation of akt bcl2and mapkpi3k signaling pathways [ÔøΩ] although theexpressions of cd44 and cd133 in cancer cells likely associate with the resistances to radiotherapy chemotherapy andvarious stresses the diÔøΩerent signiÔ¨Åcance between cd44and cd133 has not yet been well understoodin this study we investigated whether the expression ofcd44 and cd133 in human colorectal cancer cells hct8diÔøΩerently contributed to drug resistance our data indicated 0cstem cells internationalthat the expression of cd133 rather than cd44 closely associated with doxorubicin dxr resistance at least partiallythrough drug excretion and redox regulation materials and methods cell culture human colorectal cancer hct8 cells werecultured in rpmi  medium fujifilm wako purechemical japan supplemented with  fbs gibcoÔøΩthermo fisher scientiÔ¨Åc ma usa at c in a humidiÔ¨Åedatmosphere of  air and  co2 separation of cd44 and cd133positive cells fromhct8 cells we separated the parent hct8 cells intocd44positive cd44 and cd133positive cd133 cellsby a twostep magnetic cell sorting method as described previously [ ] brieÔ¨Çy hct8 cells were collected as a singlecell suspension by trypsinization and then incubated withmagnetic microbeadconjugated antihuman cd44 antibodymiltenyi biotec germany for  min after washing cellswere separated into cd44 and cd44 subpopulations byusing the automacsÔøΩÔøΩ pro separator miltenyi biotecaccording to the manufacturerÔøΩs instruction the puriÔ¨Åedcd44 cells were further expanded and then harvested as asinglecellsuspension to be incubated with magneticmicrobeadconjugated antihuman cd133 antibody miltenyibiotec for  min after washing the cd44cd133 andcd44cd133 subpopulations were separated as describedabove this twostep isolation enabled us to obtain a suÔ¨Écientnumber of cd44 cd44 cd44cd133 and cd44cd133 cells for our experimentsto verify the purity of each subpopulation isolated cellswere stained with pelabelled mouse antihuman cd133clone ac133 miltenyi biotec and fitclabelled mouseantihuman cd44 clone db105 miltenyi biotec according to the supplied protocols flow cytometry analysis wasperformed using a facscalibur becton dickinson asdescribed previously   mouse igg1pe miltenyi biotecand mouse igg1fitc miltenyi biotec were used as a negative control cytotoxicity assays cells were seeded in 96well cultureplates at a density of  ÔøΩ cells per well and cultured overnight the cells were then treated with various concentrationsof dxr fujifilm wako pure chemical in the absence orpresence of verapamil fujifilm wako pure chemicalcytotoxicity assays were performed using the cell proliferation kit i mtt roche applied science germany asdescribed previously   the absorbance was measured at nm using a microplate reader multiskan fc thermofisher scientiÔ¨Åc analysis on the expression of abc transporters theexpressions of the atpbinding cassette subfamilies of bmember  abcb1 or g member  abcg2 were analyzedby Ô¨Çow cytometry brieÔ¨Çy cells were incubated with mouseprimary antibodies against human abcb1 and abcg2bd biosciences ca usa and then labeled by fitcconjugated antimouse igg bd biosciences according tothe manufacturerÔøΩs instruction respective isotype controlswere used as a negative control after washing Ô¨Çow cytometry analysis was performed using a facscalibur analysis of cellular accumulation of dxr the intracellular accumulation of dxr was analyzed by Ô¨Çow cytometrybrieÔ¨Çy cells were treated by  Œºm dxr for  hr in theabsence or presence of  Œºm verapamil or  Œºm buthionine sulfoximine bso sigmaaldrich mo usa cellswere then collected as a singlecell suspension and washedtwice with icecold phosphatebuÔøΩered saline the accumulation of dxr within cells was evaluated by the intracellularÔ¨Çuorescence intensity using a facscalibur the nucleusaccumulation of dxr was analyzed by using cell pelletstreated with  triton x100pbs as assay material asdescribed previously  expressionlevelsanalysisimmunoblot detection of intracellular ros the intracellular roslevel based on the oxidation of ÔøΩÔøΩdichlorodihydroÔ¨Çuorescein diacetate h2dcfda molecular probes thermofisher scientiÔ¨Åc was measured to form the Ô¨Çuorescent compound ÔøΩÔøΩdichloroÔ¨Çuorescein dcf using a facscaliburofphosphorylatedp38 map kinase phosphop38mapk totalp38mapk and nuclear factor erythroid 2related factor nrf2 in the cells were estimated by immunoblotting brieÔ¨Çycell lysate  Œºg of total protein was separated by sodiumdodecyl sulfateÔøΩpolyacrylamide gel electrophoresis sdspage gel transferred to pvdf membranes biorad causa and then incubated with primary antibodies cell signaling technology ma usafollowed by appropriatehrplabeled secondary antibodies dako agilent pathologysolutions ca usa blots were developed by enhancedchemiluminescence using an ecl kit ge healthcare lifesciences pa usa semiquantitation was done by measuringthe density of bands using the image quant las  minibiomolecular imager ge healthcare life sciences asdescribed previously   sirna treatment smallinterfering rna sirnaspeciÔ¨Åc targeting to cd133 on targetplus sirnaand a scramble sirna on targetplus sirna negativecontrol were obtained from dharmacon horizon discovery cambridge uk cells were seeded in 6well plates ÔøΩ cellswell and incubated for  hr transfectionswere performed using dharmafect  sirna transfectionreagents dharmacon according to the manufacturerÔøΩsinstructions analyses were done at  hr after sirnatransfection statistical analysis all of the results are presented as themeans ÔøΩ sd statistical signiÔ¨Åcance was determined by oneway analysis of variance anova followed by tukeyÔøΩs testdr spss ii chicago il diÔøΩerences were considered significant when p   results hct8 cells were separated into various subpopulationsbased on their expressions of cd44 and cd133 first we 0cstem cells internationalparent cellshlffl1hdccd44hlfhlfcd44ÔøΩÔøΩfl1hcd44fl1hahlfhlfcd44cd133ÔøΩÔøΩfl1hcd44cd133fl1hparent cd44ÔøΩÔøΩcd44 cd44133ÔøΩÔøΩ cd44133enilesab fo  noitarefilorp llecparent  cd44ÔøΩÔøΩ cd44 cd44ÔøΩÔøΩcd44bcfigure  continued 0cstem cells internationalenilesabstnuo0ccd44cd133ÔøΩÔøΩ ÔøΩ stnuo0ccd44cd133 ÔøΩ fl2hfl2hsyad stnuo0c ÔøΩ fl2hstnuo0cd ÔøΩ fl2hfigure  the separation of hct8 colorectal cancer cells into diÔøΩerent subpopulations based on the expression of cd44 and cd133 arepresentative dot plots of Ô¨Çow cytometry analysis show the purities of each subpopulation of isolated cells quantitative data in the dotplots are presented as the percentages of positive cells from three independent experiments b representative photos of morphologicalproperties upper and mtt assay on cell growth lower at  hr after the initiation of culture data are presented as the mean ÔøΩ sd fromthree independent experiments c d representative histograms of Ô¨Çow cytometry analysis showed the expressions of cd44 c andcd133 d at baseline and  days after cell culture the dotted vertical lines through histograms indicate the diÔøΩerence in the expressionpeaks between the baseline and at  days after culture quantitative data in the histograms are presented as the mean Ô¨Çuorescentintensity from three independent experimentsseparated the hct8 cells into cd44 and cd44 subpopulations and compared their sensitivity to anticancer drugs ofdxr and cisplatin cisdiaminedichloroplatine cddphowever no diÔøΩerence in the sensitivity to the two drugswas observed between cd44 and cd44 cells data notshown we further tried to purify a small population ofcd133 cells from these cd44 cells cd44 cells almostnegatively expressed with cd133 figure 1a as a resultwe separated hct  cells into diÔøΩerent subpopulationsincluding cd44 cd44 cd44cd133 and cd44cd133 cells the purities of isolated cells in each subpopulation were conÔ¨Årmed to be around  by Ô¨Çow cytometryfigure 1aandphenotype changein diÔøΩerent growthsubpopulations of cells the morphology and proliferationof these cells could not be found obviously diÔøΩerent amongsubpopulations figure 1b the expression of cd44 in allsubpopulations kept stable within  days of reculturingfrom the frozen cells that stocked immediately after isolationinterestingly the expression of cd44 was a tendency todecrease with culture time in cd44 Ô¨Çuorescence intensity ÔøΩ  at baseline vs  ÔøΩ  at  days p  figure 1c and cd44cd133 cells Ô¨Çuorescence intensity ÔøΩ  at baseline vs  ÔøΩ  at  days p  figure 1c but still kept stable in cd44cd133 cells at days after reculturing Ô¨Çuorescence intensity  ÔøΩ at baseline vs  ÔøΩ  at  days p   figure 1cthe expression of cd133 in cd44cd133 cells kept verystable Ô¨Çuorescence intensity  ÔøΩ  at baseline vs ÔøΩ  at  days p   figure 1d and cd44cd133cells did not turn to express cd133 within  days of reculturing Ô¨Çuorescence intensity  ÔøΩ  at baseline vs  ÔøΩ at  days p   figure 1d therefore we usedthe cells within  days after reculturing from the frozenstocked cells in subsequent experiments dxr resistance of cd44cd133 cells next we evaluated the sensitivity of cells to dxr by mtt assay withthe addition of  Œºm of dxr in medium we foundthat the survival of cd44cd133 cells was significantlyhigher than all other subpopulations of cells after  hr of 0cstem cells international ytilibaiv llecÔøΩÔøΩÔøΩÔøΩÔøΩÔøΩÔøΩÔøΩÔøΩÔøΩ\\uf8ffùúámparent cellscd44ÔøΩÔøΩ cellscd44 cellscd44133ÔøΩÔøΩ cellscd44133 cellsdxrbso003hct8doxb24 hfl3h006hct8 cd44ÔøΩÔøΩdoxb24 hfl3h009hct8 cd44doxb24 hsllec tnerapstnuocsllec ÔøΩÔøΩdcstnuocsllec dcstnuocdxr001hct8dox24 hfl3hstnuocadxrverapamil002hct8doxv24 hstnuocfl3h004hct8 cd44ÔøΩÔøΩdox24 h005hct8 cd44ÔøΩÔøΩdoxv24 hstnuocstnuocfl3hfl3h007hct8 cd44dox24 h006hct8 cd44doxv24 hstnuocstnuocfl3hfl3hsllec ÔøΩÔøΩdcsllec dc006hct8 cd44cd133ÔøΩÔøΩdox24 h006hct8 cd44cd133ÔøΩÔøΩdoxv24 hstnuocstnuocstnuocfl3hfl3h00hct8 cd44cd133dox24 h00hct8 cd44cd133doxv24 hstnuocfl3hstnuocstnuocfl3hbfigure  continuedfl3h012hct8 cd133ÔøΩÔøΩdoxb24 hfl3h015hct8 cd44cd133doxb24 hfl3h 0cstnuocstem cells internationalabcg2abcb1stnuocfl1hparent cellscd44ÔøΩÔøΩcellscd44cellscd44133ÔøΩÔøΩ cellscd44133 cells ÔøΩ  ÔøΩ  ÔøΩ  ÔøΩ  ÔøΩ parent cellscd44ÔøΩÔøΩcellscd44cellscd44133ÔøΩÔøΩ cellscd44133 cellscfl1h ÔøΩ  ÔøΩ  ÔøΩ  ÔøΩ  ÔøΩ figure  dxr resistance of diÔøΩerent subpopulations of cells a mtt assay was done to evaluate the cytotoxicity of dxr data are expressedas the percentile of baseline before dxr treatment from three independent experiments ÔøΩÔøΩp   vs all other subpopulations brepresentative histograms of Ô¨Çow cytometry analysis show the accumulation of dxr in cells  hr after the treatment with  Œºm dxrin the absence or presence of  Œºm verapamil and  Œºm bso the dotted vertical lines through histograms indicated the mean levels ofdxr accumulation in cd44cd133 cells for comparing with other subpopulations of cells the results were reproducible in threeindependent experiments c representative histograms of Ô¨Çow cytometry analysis show the expression of the abcb1 or abcg2 indiÔøΩerent subpopulations of cells quantitative data in the histograms are presented as the mean Ô¨Çuorescent intensity from threeindependent experimentsculture p   vs other groups at diÔøΩerent dxr concentrations figure2ato understand the relevant mechanism we measured theintracellular accumulation of dxr in cells by Ô¨Çow cytometrythe accumulation of dxr in cd44cd133 cells wasdetected as the lowest among these subpopulations at  hrafter the exposure to  Œºm dxr figure 2b we furtherfound that the intracellular accumulation of dxr in cd44cd133 cells was obviously increased by the treatment withverapamil an inhibitor for drug eÔ¨Ñux cell membrane transporters of abcb1 and abcg2 figure 2b however theintracellular accumulation of dxr in cd44cd133 cellsdid not change by the treatment with bso a glutathione synthesis inhibitor that indirectly regulates drug eÔ¨Ñux throughabcc1 figure 2b we also conÔ¨Årmed that the expressionof abcb1 p   vs other groups but not abcg2 wasenhanced in cd44cd133 cells figure 2c suggestingthe probable role of abcb1 on dxr resistance in cd44cd133 cellsto further conÔ¨Årm the causal relationship between theenhanced drug eÔ¨Ñux and dxr resistance we evaluatedthe cytotoxicity of dxr in the presence or absence of verapamil unexpectedly verapamil only partially enhanced thecytotoxicity of dxr in either cd44cd133 or cd44cd133 cells figure 3ait is well known that dxr interacts with nuclear dna toinhibit macromolecular biosynthesis therefore we alsoestimated the eÔøΩect of verapamil on the nuclear accumulation of dxr the nuclear accumulation of dxr wasobserved obviously less in cd44cd133 than cd44cd133 cells but tended to have comparable levels withverapamil treatment figure 3b cd44cd133 cells showed better stress tolerance thancd44cd133 cells it is well known that the stress responsekinase p38mapk can be activated by various extracellularstresses and plays critical roles in cell survival and apoptosis although the basal level of phosphorylated p38mapkwas detected very similar between cd44cd133 andcd44cd133 cells p   figure  lower expressionwas observed in cd44cd133 than cd44cd133 cellsafter dxr exposure even under verapamiltreatmentp   figure  this suggests a better tolerance tostress of cd44cd133 cells independent on the accumulation of dxr 0cstem cells internationalÔøΩÔøΩ limaparev ytilibaiv llec limaparev ytilibaiv llec hoursÔøΩÔøΩÔøΩÔøΩÔøΩÔøΩÔøΩÔøΩ \\uf8ffùúámÔøΩÔøΩÔøΩÔøΩÔøΩÔøΩÔøΩÔøΩ\\uf8ffùúámcd44cd133 cellscd44cd133ÔøΩÔøΩ cellsa hoursÔøΩÔøΩÔøΩÔøΩÔøΩÔøΩ ÔøΩÔøΩ limaparevstnuoccd44133ÔøΩÔøΩ cd44133\\uf8ffùúámfl3hÔøΩÔøΩÔøΩÔøΩÔøΩÔøΩÔøΩÔøΩ\\uf8ffùúám  limaparevstnuocfl3hbfigure  dxr resistance and nuclear dxr accumulation in cd44cd133 and cd44cd133 cells in the absence or presence of drug eÔ¨Ñuxinhibitor a mtt assay was done to compare the cytotoxicity of dxr in cd44cd133 and cd44cd133 cells with or without theaddition of  Œºm verapamil data were expressed as a percent of baseline before dxr treatment from three independent experiments ÔøΩÔøΩp   vs cd44cd133 cells b representative histograms of Ô¨Çow cytometry analysis showed the nuclear accumulation of dxr incells  hr after the treatment by  Œºm dxr with or without the addition of  Œºm verapamil the results were reproducible in threeindependent experimentsverapamil ÔøΩÔøΩverapamil phosphop38 mapk totalp38 mapk   noisserpxe evitalercd133 ÔøΩÔøΩp p p   ÔøΩÔøΩ  ÔøΩÔøΩ  ÔøΩÔøΩ  ÔøΩÔøΩ control hours dxr treatmentp p p   ÔøΩÔøΩÔøΩÔøΩcontrol  ÔøΩÔøΩ  ÔøΩÔøΩ  ÔøΩÔøΩ  hours dxr treatmentfigure  diÔøΩerent expression of phosphorylated p38mapk between cd44cd133 and cd44cd133 cells representative blots andsemiquantitative data on the expression of phosphorylated p38mapk and total p38mapk in cells treated with  Œºm dxr in theabsence or presence of  Œºm verapamil the quantitative data are normalized to total p38mapk data are expressed as relative values tocd44cd133 cells without dxr treatment and presented as the mean ÔøΩ sd from three independent experiments 0cstem cells internationaldxr ÔøΩÔøΩdxr ÔøΩÔøΩ limaparevstnuoc limaparevstnuoccd44133cd44133ÔøΩÔøΩstnuocfl1hfl1hstnuocfl1hafl1hverapamil ÔøΩÔøΩverapamil nrf2\\uf8ffùõΩtubulin noisserpxe evitalercd133 ÔøΩÔøΩp  p p   ÔøΩÔøΩ  ÔøΩÔøΩ  ÔøΩÔøΩ  ÔøΩÔøΩ controldxr treatment hours bp p   ÔøΩÔøΩÔøΩÔøΩcontrol  ÔøΩÔøΩ  ÔøΩÔøΩ  ÔøΩÔøΩ dxr treatment hours figure  diÔøΩerent antioxidant capacity between cd44cd133 and cd44cd133 cells a representative histograms of Ô¨Çow cytometryanalysis show the intracellular ros levels  hr after the treatment by  Œºm dxr in the absence or presence of  Œºm verapamil theresults were reproducible in three independent experiments b representative blots and semiquantitative data on the expression of nrf2in cells treated with  Œºm dxr in the absence or presence of  Œºm verapamil the quantitative data are normalized to Œ≤tubulin dataare expressed as relative values to cd44cd133 cells without dxr treatment and presented as the mean ÔøΩ sd from three independentexperiments cd44cd133 cells showed higher antioxidantcapacity than cd44cd133 cells it is also well known thatdxr generates ros and oxidative stress due to ros generation may induce the activation of p38mapk therefore weestimated the ros levels in cells with or without dxr exposure we observed a lower level of ros in cd44cd133 0cstem cells internationalstnuocstnuocstnuocstnuocstnuoc0nm ÔøΩ stnuocfl2h5nm ÔøΩ stnuocfl2h10nm ÔøΩ stnuocfl2h15nm ÔøΩ stnuocfl2h25nm ÔøΩ stnuocfl2h0nm ÔøΩ fl2h25nm ÔøΩ  ytilibaiv llecfl2h50nm ÔøΩ fl2h75nm ÔøΩ fl2h100nm ÔøΩ fl2hÔøΩÔøΩÔøΩÔøΩÔøΩÔøΩÔøΩÔøΩ\\uf8ffùúám cd44133ÔøΩÔøΩ cd44133 cd44133 control sirna cd44133 cd133 sirna abfigure  continued 0cstnuo0cstnuo0cexpression of abcb10nm ÔøΩ 0nmstnuo0c ÔøΩ fl1h5nm ÔøΩ fl1h50nmstnuo0c ÔøΩ fl1hfl1h25nmstnuo0c ÔøΩ stnuo0cfl1h100nm ÔøΩ fl1hstem cells internationalaccumulation of dxrcontrol sirna 5nm ÔøΩ fl3hcd133 sirna 5nm ÔøΩ stnuo0cstnuo0cfl3hcdfigure  the eÔøΩect of silencing cd133 expression on dxr resistance of cd44cd133 cells a representative histograms of Ô¨Çowcytometry analysis on the expression of cd133 in cd44cd133 cells after silencing by diÔøΩerent dosages of targeted sirna quantitativedata in the histograms are presented as the mean Ô¨Çuorescent intensity from three independent experiments b mtt assay was done toevaluate the cytotoxicity to dxr cells were treated with  nm sirna for  hr followed by dxr treatment for another  hr data areexpressed as a percent of baseline before dxr treatment from three independent experiments ÔøΩÔøΩp   vs cd44cd133 cells crepresentative histograms of Ô¨Çow cytometry analysis on the expression of abcb1 in cells after silencing by diÔøΩerent dosages of targetedsirna quantitative data in the histograms are presented as the mean Ô¨Çuorescent intensity from three independent experiments drepresentative histograms of Ô¨Çow cytometry analysis on the accumulation of dxr quantitative data in the histograms are presented asthe mean Ô¨Çuorescent intensity from three independent experimentsthan cd44cd133 cells especially under dxr exposurebut verapamil did not obviously change the ros levelsfigure 5a based on these Ô¨Åndings we speculated thatthe enhanced antioxidant capacity in cd44cd133 cellsmight help to maintain a lower level of phosphorylatedp38mapknrf2 a transcription factor that is well known to beactivated by oxidative stress such as ros and electrophilicsubstances can protect cells against various stresses we alsocompared the expression level of nrf2 between cd44cd133 and cd44cd133 cells western blotting showeda higher expression of nrf2 in cd44cd133 than cd44cd133 cells especially under dxr exposure p  figure 5b and the enhanced expression of nrf2 in cd44cd133 cells was not cancelled by verapamil treatmentp   figure 5b sirna treatment to further conÔ¨Årm the regulatory roleof cd133 in drug resistance we tried to silence cd133expression in cd44cd133 cells by sirna and then estimated cytotoxicity of dxr although the decrease ofcd133 expression was clearly observed by targeted sirnap   vs  nm figure 6a dxr resistance of cd44cd133 cells only partially improved figure 6b unexpectedlythe silencing of cd133 did not change theexpression of abcb1 in cd44cd133 cells even using 0cstem cells internationalexcessive concentrations of cd133 sirna p   vs  nmfigure 6c we also conÔ¨Årmed that the silencing of cd133did not aÔøΩect the accumulation of dxr in cd44cd133cells p   vs control sirna figure 6dthis suggests that beyond the drug excretion and redoxregulation other complex mechanisms are also likelyinvolved in the dxr resistance in cd44cd133 cells discussionby using the wellrecognized cell surface markers of cd44and cd133 for csc identiÔ¨Åcation we tried to separate thehct8 human colon cancer cells into cd44 cd44 cd44cd133 and cd44cd133 subpopulations and then investigated how the expressions of cd44 and cd133 associatedwith drug resistance actually we checked several cancer celllines on the expression of cd44 and cd133 including helacells and a549 cells however both hela cells and a549 cellsshowed almost  expression of cd44 only the hct8cells showed a partial expression of cd44 about  anda rare expression of cd133 therefore we only isolateddiÔøΩerent subpopulations from hct8 cells for this studyfirst we found that the expression level of cd44 keptvery stable in the cd44cd133 cells but gradually declinedin cd44cd133 cells during a cell passaging process on theother hand some of cd44 cells shifted to express cd44 during a cell passaging process figure 1c these Ô¨Åndings suggested the plasticity of cd44 expression in hct8 cellsactually ohata et al reported that cd44 highexpressedcells from human intractable colon cancer patients can diÔøΩerentiate into cd44 lowexpressed cells and a fraction of cd44lowexpressed cells can also generate cd44 highexpressedcells in a xenograft mouse model   however it is unclearwhy the cd44cd133 cells but not cd44cd133 cellsstably maintain the expression level of cd44 unlike theextensive expression of cd44 with high plasticity the expression of cd133 was only observed in very few of the hct8cells with poor plasticitya number of previous studies have demonstrated thatcscs are likely resistant to chemotherapeutic drugs thecd44cd133 cells but not the cd44 and cd44cd133cells showed dxr resistance figure 2a according to thisdata the expression of cd133 but not cd44 seems to beclosely associated with drug resistance actuallythesecd44cd133 cells showed the enhanced expression ofabcb1 and the decreased intracellular accumulation ofdxr figures 2b and 2c liu et al reported that nonsmallcell lung cancer cells treated with lowdose cddp aresuÔ¨Écient to enrich cd133 cells and upregulate abcb1expression through notch signaling which thereforeincreases the crossresistance to dxr   however theinhibition of abcb1 by verapamil only partially improvedthe dxr resistance of cd44cd133 cells in this studyto Ô¨Ånd other potential mechanisms involving in thedxr resistance of cd44cd133 cells we investigatedseveral interesting aspects including the stress protectionand redox regulation we found that p38mapk one of themost popular protein kinases known to be activated byinÔ¨Çammatory cytokines lipopolysaccharide osmotic shockultraviolet light and other stresses was more obviouslyinduced by dxr in cd44cd133 cells than cd44cd133cells figure  moreover the activation of p38 mapk wasnot dependent on the intracellular accumulation of dxrfigure dxr is known to insert between the base pairs of dna oftumor cells and exhibits antitumor eÔøΩects by suppressing thebiosynthesis of both dna and rna through the inhibitionof dna polymerase rna polymerase and topoisomeraseii reactions furthermore it is believed that dxr has theability to generate suÔ¨Écient ros to raise oxidative stressindeed we observed dxrinduced ros generation in bothcd44cd133 and cd44cd133 cells butthe dxrinduced ros generation was detected even higher in cd44cd133 than cd44cd133 cells independent on the intracellular accumulation of dxr figures 5a 2b and 3bsuggesting the enhanced antioxidant capacity in cd44cd133 cellsthe keap1nrf2 control system plays a central role in theantioxidant defense mechanisms nrf2 is known as a transcription factor to activate various genes involving in biological defense mechanisms it has been reported that nrf2 isconstantly expressed in many cancer cells [ÔøΩ] moreover the enhanced expression of nrf2 has been conÔ¨Årmedto associate with poor prognosis of cancer patients [ÔøΩ]in our study nrf2 expression was detected higher in cd44cd133 than cd44cd133 cells and the diÔøΩerence in nrf2expression was observed even clearer between cells with dxradministrationindependent on the dxr accumulationfigure 5b these Ô¨Åndings also clearly indicate theenhanced antioxidant capacity in cd44cd133 cellsalthough the absence of direct evidence by interferenceexperiment pathways involving in the stress protection andredox regulation might at least partially contributed to thedxr resistance of cd44cd133 cellsvery strangely our data showed that the silencing ofcd133 expression in cd44cd133 cells by sirna couldonly partially increase the cytotoxicity of dxr figure 6bbut did not change the expression of abcb1 and the intracellular accumulation of dxr figure 6c other unknownmechanisms beyond the drug excretion and redox regulationare asked to be deÔ¨Åned on the dxr resistance of cd44cd133 cellsbased on data from the present study the expression ofcd133 rather than cd44 more closely associated with theresistance of cancer cells to anticancer drug as complexmechanisms including the drug excretion and redox regulation are likely involved in the drug resistance of cscs multiple approaches may be needed to overcome the big problemof drug resistance in cancer patientsabbreviationsabcb1abcg2atpbinding cassette subfamily b member 1pglycoproteinmultidrug resistance protein1mdr1atpbinding cassette subfamily g member2breast cancer resistanceproteinbcrpcd388 0cabcc1bsocscsdxrmttatpbinding cassette subfamily c member1multidrug resistanceassociated protein1mrp1buthionine sulfoximinecancer stem cellsdoxorubicinadriamycin345dimethylthiazol2yl25diphenyltetrazolium bromidenuclear factor erythroid 2related factor nrf2p38mapk p38 map kinaserossirnareactive oxygen speciessmall interfering rnadata availabilitythe data that support the Ô¨Åndings of this study are availablefrom the corresponding author upon reasonable requestdisclosurethe funder played no role in the study design data collectionand analysis decision to publish or preparation of themanuscriptconflicts of interestthe authors indicate no potential conÔ¨Çicts of interestacknowledgmentsthis work was supported by a grantinaid for the ministryof education science sports culture and technology ofjapan grant numbers  and 16k15622 and thecollaborative research program of the atomic bomb diseaseinstitute of nagasaki universityreferences  r c elble ÔøΩthe role of cancer stem cells in relapse of solidtumorsÔøΩ frontiers in bioscience vol e4 no  pp ÔøΩ   j e visvader ÔøΩcells of origin in cancerÔøΩ nature vol no  pp ÔøΩ   h clevers ÔøΩthe cancer stem cell premises promises andchallengesÔøΩ nature medicine vol  no  pp ÔøΩ   y kinugasa t matsui and n takakura ÔøΩcd44 expressed oncancerassociated Ô¨Åbroblasts is a functional molecule supporting the stemness and drug resistance of malignant cancer cellsin the tumor microenvironmentÔøΩ stem cells vol  no pp ÔøΩ   t ishimoto o nagano t yae et al ÔøΩcd44 variant regulatesredox status in cancer cells by stabilizing the xct subunit ofsystem xc and thereby promotes tumor growthÔøΩ cancer cellvol  no  pp ÔøΩ   m tamada o nagano s tateyama et al ÔøΩmodulation ofglucose metabolism by cd44 contributes to antioxidant statusand drug resistance in cancer cellsÔøΩ cancer research vol no  pp ÔøΩ   r c bates n s edwards g f burns and d e fisher ÔøΩacd44 survival pathway triggers chemoresistance via lyn kinasestem cells internationaland phosphoinositide 3kinaseakt in colon carcinoma cellsÔøΩcancer research vol  no  pp ÔøΩ   l y w bourguignon k peyrollier w xia and e giladÔøΩhyaluronancd44 interaction activates stem cell markernanogandankyrinregulated multidrug eÔ¨Ñux in breast and ovariantumor cellsÔøΩ the journal of biological chemistry vol no  pp ÔøΩ stat3mediated mdr1expressiongene  l y w bourguignon c earle g wong c c spevak andk krueger ÔøΩstem cell marker nanog and stat3 signalingpromote microrna21 expression and chemoresistance inhyaluronancd44activated head and neck squamous cellcarcinoma cellsÔøΩ oncogene vol  no  pp ÔøΩ  k tajima r ohashi y sekido et al ÔøΩosteopontinmediatedenhanced hyaluronan binding induces multidrug resistance inmesothelioma cellsÔøΩ oncogene vol  no  pp ÔøΩ  j ni p j cozzi j l hao et al ÔøΩcd44 variant  is associatedwith prostate cancer metastasis and chemoradioresistanceÔøΩprostate vol  no  pp ÔøΩ   u carling l barkhatov h m reims et al ÔøΩcan we ablateliver lesions close to large portal and hepatic veins with mrguided hifu an experimental study in a porcine modelÔøΩblood vol  no  pp ÔøΩ   y wu and p y wu ÔøΩcd133 as a marker for cancer stem cellsprogresses and concernsÔøΩ stem cells and development vol no  pp ÔøΩ   u m gehling s ergÔøΩn u schumacher et al ÔøΩin vitro diÔøΩerentiation of endothelial cells from ac133positive progenitorcellsÔøΩ blood vol  no  pp ÔøΩ   m peichev a j naiyer d pereira et al ÔøΩexpression ofvegfr2 and ac133 by circulating human cd34 cellsidentiÔ¨Åes a population of functional endothelial precursorsÔøΩblood vol  no  pp ÔøΩ   n uchida d w buck d he et al ÔøΩdirect isolation of humancentral nervous system stem cellsÔøΩ proceedings of the nationalacademy of sciences of the united states of america vol no  pp ÔøΩ   b j cummings n uchida s j tamaki et al ÔøΩhuman neuralstem cells diÔøΩerentiate and promote locomotor recovery inspinal cordinjured miceÔøΩ proceedings of the national academy of sciences of the united states of america vol no  pp ÔøΩ   b bussolati s bruno c grange et al ÔøΩisolation of renal progenitor cells from adult human kidneyÔøΩ the american journalof pathology vol  no  pp ÔøΩ   l riccivitiani d g lombardi e pilozzi et al ÔøΩidentiÔ¨Åcation and expansion of human coloncancerinitiating cellsÔøΩnature vol  no  pp ÔøΩ   c a oÔøΩbrien a pollett s gallinger and j e dick ÔøΩa humancolon cancer cell capable of initiating tumour growth inimmunodeÔ¨Åcient miceÔøΩ nature vol  no  pp ÔøΩ   l lin a liu z peng et al ÔøΩstat3 is necessary for proliferation and survival in colon cancerinitiating cellsÔøΩ cancerresearch vol  no  pp ÔøΩ   n haraguchi m ohkuma h sakashita et al ÔøΩcd133cd44 population eÔ¨Éciently enriches colon cancer initiating cellsÔøΩannals of surgical oncology vol  no  pp ÔøΩ 0cstem cells international  d inoue t suzuki y mitsuishi et al ÔøΩaccumulation ofp62sqstm1 is associated with poor prognosis in patientswith lung adenocarcinomaÔøΩ cancer science vol  no pp ÔøΩ   j q ma h tuersun s j jiao j h zheng j b xiao anda hasim ÔøΩfunctional role of nrf2 in cervical carcinogenesisÔøΩ plos one vol  no  article e0133876   q yang h deng h xia et al ÔøΩhigh nfe2related factor expression predicts poor prognosis in patients with lung cancer a metaanalysis of cohort studiesÔøΩ free radical researchvol  pp ÔøΩ   s sarvi a c mackinnon n avlonitis et al ÔøΩcd133 cancerstemlike cells in small cell lung cancer are highly tumorigenicand chemoresistant but sensitive to a novel neuropeptideantagonistÔøΩ cancer research vol  no  pp ÔøΩ  q zhang s shi y yen j brown j q ta and a d le ÔøΩasubpopulation of cd133 cancer stemlike cells characterized in human oral squamous cell carcinoma confer resistanceto chemotherapyÔøΩ cancer letters vol  no  pp ÔøΩ  s ma t k lee b j zheng k w chan and x y guanÔøΩcd133 hcc cancer stem cells confer chemoresistance bypreferential expression of the aktpkb survival pathwayÔøΩoncogene vol  no  pp ÔøΩ   s bao q wu r e mclendon et al ÔøΩglioma stem cells promote radioresistance by preferential activation of the dnadamage responseÔøΩ nature vol  no  pp ÔøΩ  c yan l luo c y guo et al ÔøΩdoxorubicininduced mitophagy contributes to drug resistance in cancer stem cells fromhct8 human colorectal cancer cellsÔøΩ cancer letters vol pp ÔøΩ   s goto y ihara y urata et al ÔøΩdoxorubicininduced dnaintercalation and scavenging by nuclear glutathionesÔøΩtransferase œù the faseb journal vol  no  pp ÔøΩ  h ohata t ishiguro y aihara et al ÔøΩinduction of the stemlike cell regulator cd44 by rho kinase inhibition cont'"
      ]
     },
     "execution_count": 5,
     "metadata": {},
     "output_type": "execute_result"
    }
   ],
   "source": [
    "df.iloc[-3]['a']"
   ]
  },
  {
   "cell_type": "code",
   "execution_count": 6,
   "id": "b0670eeb",
   "metadata": {},
   "outputs": [
    {
     "data": {
      "text/plain": [
       "Unnamed: 0    0\n",
       "0             0\n",
       "a             0\n",
       "dtype: int64"
      ]
     },
     "execution_count": 6,
     "metadata": {},
     "output_type": "execute_result"
    }
   ],
   "source": [
    "df.isna().sum()"
   ]
  },
  {
   "cell_type": "code",
   "execution_count": 10,
   "id": "cc74724b",
   "metadata": {},
   "outputs": [
    {
     "data": {
      "text/plain": [
       "6574"
      ]
     },
     "execution_count": 10,
     "metadata": {},
     "output_type": "execute_result"
    }
   ],
   "source": [
    "df.duplicated().sum()"
   ]
  },
  {
   "cell_type": "code",
   "execution_count": 8,
   "id": "6bb8fff7",
   "metadata": {},
   "outputs": [],
   "source": [
    "df = df.drop('Unnamed: 0', axis=1)\n",
    "df = df.rename(columns={'0': 'label', 'a':'text'})"
   ]
  },
  {
   "cell_type": "code",
   "execution_count": 9,
   "id": "02ba9477",
   "metadata": {},
   "outputs": [
    {
     "data": {
      "text/html": [
       "<div>\n",
       "<style scoped>\n",
       "    .dataframe tbody tr th:only-of-type {\n",
       "        vertical-align: middle;\n",
       "    }\n",
       "\n",
       "    .dataframe tbody tr th {\n",
       "        vertical-align: top;\n",
       "    }\n",
       "\n",
       "    .dataframe thead th {\n",
       "        text-align: right;\n",
       "    }\n",
       "</style>\n",
       "<table border=\"1\" class=\"dataframe\">\n",
       "  <thead>\n",
       "    <tr style=\"text-align: right;\">\n",
       "      <th></th>\n",
       "      <th>label</th>\n",
       "      <th>text</th>\n",
       "    </tr>\n",
       "  </thead>\n",
       "  <tbody>\n",
       "    <tr>\n",
       "      <th>0</th>\n",
       "      <td>Thyroid_Cancer</td>\n",
       "      <td>Thyroid surgery in  children in a single insti...</td>\n",
       "    </tr>\n",
       "    <tr>\n",
       "      <th>1</th>\n",
       "      <td>Thyroid_Cancer</td>\n",
       "      <td>\" The adopted strategy was the same as that us...</td>\n",
       "    </tr>\n",
       "    <tr>\n",
       "      <th>2</th>\n",
       "      <td>Thyroid_Cancer</td>\n",
       "      <td>coronary arterybypass grafting thrombosis Ô¨Åb...</td>\n",
       "    </tr>\n",
       "    <tr>\n",
       "      <th>3</th>\n",
       "      <td>Thyroid_Cancer</td>\n",
       "      <td>Solitary plasmacytoma SP of the skull is an u...</td>\n",
       "    </tr>\n",
       "    <tr>\n",
       "      <th>4</th>\n",
       "      <td>Thyroid_Cancer</td>\n",
       "      <td>This study aimed to investigate serum matrix ...</td>\n",
       "    </tr>\n",
       "    <tr>\n",
       "      <th>...</th>\n",
       "      <td>...</td>\n",
       "      <td>...</td>\n",
       "    </tr>\n",
       "    <tr>\n",
       "      <th>7565</th>\n",
       "      <td>Colon_Cancer</td>\n",
       "      <td>we report the case of a 24yearold man who pres...</td>\n",
       "    </tr>\n",
       "    <tr>\n",
       "      <th>7566</th>\n",
       "      <td>Colon_Cancer</td>\n",
       "      <td>among synchronous colorectal cancers scrcs rep...</td>\n",
       "    </tr>\n",
       "    <tr>\n",
       "      <th>7567</th>\n",
       "      <td>Colon_Cancer</td>\n",
       "      <td>the heterogeneity of cancer cells is generally...</td>\n",
       "    </tr>\n",
       "    <tr>\n",
       "      <th>7568</th>\n",
       "      <td>Colon_Cancer</td>\n",
       "      <td>\"adipogenesis is the process through which mes...</td>\n",
       "    </tr>\n",
       "    <tr>\n",
       "      <th>7569</th>\n",
       "      <td>Colon_Cancer</td>\n",
       "      <td>the periparturient period is one of the most c...</td>\n",
       "    </tr>\n",
       "  </tbody>\n",
       "</table>\n",
       "<p>7570 rows × 2 columns</p>\n",
       "</div>"
      ],
      "text/plain": [
       "               label                                               text\n",
       "0     Thyroid_Cancer  Thyroid surgery in  children in a single insti...\n",
       "1     Thyroid_Cancer  \" The adopted strategy was the same as that us...\n",
       "2     Thyroid_Cancer  coronary arterybypass grafting thrombosis Ô¨Åb...\n",
       "3     Thyroid_Cancer   Solitary plasmacytoma SP of the skull is an u...\n",
       "4     Thyroid_Cancer   This study aimed to investigate serum matrix ...\n",
       "...              ...                                                ...\n",
       "7565    Colon_Cancer  we report the case of a 24yearold man who pres...\n",
       "7566    Colon_Cancer  among synchronous colorectal cancers scrcs rep...\n",
       "7567    Colon_Cancer  the heterogeneity of cancer cells is generally...\n",
       "7568    Colon_Cancer  \"adipogenesis is the process through which mes...\n",
       "7569    Colon_Cancer  the periparturient period is one of the most c...\n",
       "\n",
       "[7570 rows x 2 columns]"
      ]
     },
     "execution_count": 9,
     "metadata": {},
     "output_type": "execute_result"
    }
   ],
   "source": [
    "df"
   ]
  },
  {
   "cell_type": "code",
   "execution_count": 12,
   "id": "49115c19",
   "metadata": {},
   "outputs": [],
   "source": [
    "\n",
    "encoder = LabelEncoder()\n",
    "df['label']=encoder.fit_transform(df['label'])"
   ]
  },
  {
   "cell_type": "code",
   "execution_count": 16,
   "id": "aef5ef92",
   "metadata": {},
   "outputs": [],
   "source": [
    "#Removing HTML tags from the whole dataset\n",
    "def remove_html_tags(text):\n",
    "    soup = BeautifulSoup(text, \"html.parser\")\n",
    "    return soup.get_text()\n",
    "\n",
    "df['text'] = df['text'].apply(remove_html_tags)"
   ]
  },
  {
   "cell_type": "code",
   "execution_count": 17,
   "id": "12f4cd3f",
   "metadata": {},
   "outputs": [],
   "source": [
    "# Since there was no space after each full stop, NLTK sent_tokenize considered 2 sentences as 1\n",
    "def insert_space_after_full_stop(text):\n",
    "    return text.replace('.', '. ')\n",
    "df['text'] = df['text'].apply(insert_space_after_full_stop)"
   ]
  },
  {
   "cell_type": "code",
   "execution_count": 19,
   "id": "1cad9e38",
   "metadata": {},
   "outputs": [],
   "source": [
    "def lemmatization(text):\n",
    "    lm= WordNetLemmatizer()\n",
    "    text = ' '.join([lm.lemmatize(word, pos='v') for word in text.split()])\n",
    "    return text\n",
    "df['text'] = df['text'].apply(lemmatization)"
   ]
  },
  {
   "cell_type": "code",
   "execution_count": 20,
   "id": "d9b004fd",
   "metadata": {},
   "outputs": [
    {
     "data": {
      "text/html": [
       "<div>\n",
       "<style scoped>\n",
       "    .dataframe tbody tr th:only-of-type {\n",
       "        vertical-align: middle;\n",
       "    }\n",
       "\n",
       "    .dataframe tbody tr th {\n",
       "        vertical-align: top;\n",
       "    }\n",
       "\n",
       "    .dataframe thead th {\n",
       "        text-align: right;\n",
       "    }\n",
       "</style>\n",
       "<table border=\"1\" class=\"dataframe\">\n",
       "  <thead>\n",
       "    <tr style=\"text-align: right;\">\n",
       "      <th></th>\n",
       "      <th>label</th>\n",
       "      <th>text</th>\n",
       "    </tr>\n",
       "  </thead>\n",
       "  <tbody>\n",
       "    <tr>\n",
       "      <th>0</th>\n",
       "      <td>2</td>\n",
       "      <td>Thyroid surgery in children in a single instit...</td>\n",
       "    </tr>\n",
       "    <tr>\n",
       "      <th>1</th>\n",
       "      <td>2</td>\n",
       "      <td>\" The adopt strategy be the same as that use i...</td>\n",
       "    </tr>\n",
       "    <tr>\n",
       "      <th>2</th>\n",
       "      <td>2</td>\n",
       "      <td>coronary arterybypass graft thrombosis Ô¨Åbrin...</td>\n",
       "    </tr>\n",
       "    <tr>\n",
       "      <th>3</th>\n",
       "      <td>2</td>\n",
       "      <td>Solitary plasmacytoma SP of the skull be an un...</td>\n",
       "    </tr>\n",
       "    <tr>\n",
       "      <th>4</th>\n",
       "      <td>2</td>\n",
       "      <td>This study aim to investigate serum matrix met...</td>\n",
       "    </tr>\n",
       "    <tr>\n",
       "      <th>...</th>\n",
       "      <td>...</td>\n",
       "      <td>...</td>\n",
       "    </tr>\n",
       "    <tr>\n",
       "      <th>7565</th>\n",
       "      <td>0</td>\n",
       "      <td>we report the case of a 24yearold man who pres...</td>\n",
       "    </tr>\n",
       "    <tr>\n",
       "      <th>7566</th>\n",
       "      <td>0</td>\n",
       "      <td>among synchronous colorectal cancers scrcs rep...</td>\n",
       "    </tr>\n",
       "    <tr>\n",
       "      <th>7567</th>\n",
       "      <td>0</td>\n",
       "      <td>the heterogeneity of cancer cells be generally...</td>\n",
       "    </tr>\n",
       "    <tr>\n",
       "      <th>7568</th>\n",
       "      <td>0</td>\n",
       "      <td>\"adipogenesis be the process through which mes...</td>\n",
       "    </tr>\n",
       "    <tr>\n",
       "      <th>7569</th>\n",
       "      <td>0</td>\n",
       "      <td>the periparturient period be one of the most c...</td>\n",
       "    </tr>\n",
       "  </tbody>\n",
       "</table>\n",
       "<p>7570 rows × 2 columns</p>\n",
       "</div>"
      ],
      "text/plain": [
       "      label                                               text\n",
       "0         2  Thyroid surgery in children in a single instit...\n",
       "1         2  \" The adopt strategy be the same as that use i...\n",
       "2         2  coronary arterybypass graft thrombosis Ô¨Åbrin...\n",
       "3         2  Solitary plasmacytoma SP of the skull be an un...\n",
       "4         2  This study aim to investigate serum matrix met...\n",
       "...     ...                                                ...\n",
       "7565      0  we report the case of a 24yearold man who pres...\n",
       "7566      0  among synchronous colorectal cancers scrcs rep...\n",
       "7567      0  the heterogeneity of cancer cells be generally...\n",
       "7568      0  \"adipogenesis be the process through which mes...\n",
       "7569      0  the periparturient period be one of the most c...\n",
       "\n",
       "[7570 rows x 2 columns]"
      ]
     },
     "execution_count": 20,
     "metadata": {},
     "output_type": "execute_result"
    }
   ],
   "source": [
    "df"
   ]
  },
  {
   "cell_type": "code",
   "execution_count": 21,
   "id": "ad575c5e",
   "metadata": {},
   "outputs": [],
   "source": [
    "ps = PorterStemmer();\n",
    "def text_transform(text):\n",
    "    text= text.lower()\n",
    "    text = nltk.word_tokenize(text)\n",
    "    y=[]\n",
    "    for i in text:\n",
    "        if i.isalnum():\n",
    "            y.append(i)\n",
    "    \n",
    "    text = y[:]\n",
    "    y.clear()\n",
    "    for i in text:\n",
    "        if i not in stopwords.words('english') and i not in string.punctuation:\n",
    "            y.append(i)\n",
    "    text = y[:]\n",
    "    y.clear()\n",
    "    for i in text:\n",
    "        y.append(ps.stem(i))\n",
    "        \n",
    "    \n",
    "    return \" \".join(y)"
   ]
  },
  {
   "cell_type": "code",
   "execution_count": 31,
   "id": "dee25e8a",
   "metadata": {},
   "outputs": [],
   "source": [
    "df['text'] = df['text'].apply(text_transform)"
   ]
  },
  {
   "cell_type": "code",
   "execution_count": 32,
   "id": "57f5b345",
   "metadata": {},
   "outputs": [
    {
     "data": {
      "text/html": [
       "<div>\n",
       "<style scoped>\n",
       "    .dataframe tbody tr th:only-of-type {\n",
       "        vertical-align: middle;\n",
       "    }\n",
       "\n",
       "    .dataframe tbody tr th {\n",
       "        vertical-align: top;\n",
       "    }\n",
       "\n",
       "    .dataframe thead th {\n",
       "        text-align: right;\n",
       "    }\n",
       "</style>\n",
       "<table border=\"1\" class=\"dataframe\">\n",
       "  <thead>\n",
       "    <tr style=\"text-align: right;\">\n",
       "      <th></th>\n",
       "      <th>label</th>\n",
       "      <th>text</th>\n",
       "    </tr>\n",
       "  </thead>\n",
       "  <tbody>\n",
       "    <tr>\n",
       "      <th>0</th>\n",
       "      <td>2</td>\n",
       "      <td>thyroid surgeri children singl institut osama ...</td>\n",
       "    </tr>\n",
       "    <tr>\n",
       "      <th>1</th>\n",
       "      <td>2</td>\n",
       "      <td>adopt strategi use prior year base four exclus...</td>\n",
       "    </tr>\n",
       "    <tr>\n",
       "      <th>2</th>\n",
       "      <td>2</td>\n",
       "      <td>coronari arterybypass graft thrombosi mutation...</td>\n",
       "    </tr>\n",
       "    <tr>\n",
       "      <th>3</th>\n",
       "      <td>2</td>\n",
       "      <td>solitari plasmacytoma sp skull uncommon clinic...</td>\n",
       "    </tr>\n",
       "    <tr>\n",
       "      <th>4</th>\n",
       "      <td>2</td>\n",
       "      <td>studi aim investig serum matrix metalloprotein...</td>\n",
       "    </tr>\n",
       "    <tr>\n",
       "      <th>...</th>\n",
       "      <td>...</td>\n",
       "      <td>...</td>\n",
       "    </tr>\n",
       "    <tr>\n",
       "      <th>7565</th>\n",
       "      <td>0</td>\n",
       "      <td>report case 24yearold man present chief compla...</td>\n",
       "    </tr>\n",
       "    <tr>\n",
       "      <th>7566</th>\n",
       "      <td>0</td>\n",
       "      <td>among synchron colorect cancer scrc report pre...</td>\n",
       "    </tr>\n",
       "    <tr>\n",
       "      <th>7567</th>\n",
       "      <td>0</td>\n",
       "      <td>heterogen cancer cell gener accept astem celll...</td>\n",
       "    </tr>\n",
       "    <tr>\n",
       "      <th>7568</th>\n",
       "      <td>0</td>\n",
       "      <td>adipogenesi process mesenchymalstem cell msc c...</td>\n",
       "    </tr>\n",
       "    <tr>\n",
       "      <th>7569</th>\n",
       "      <td>0</td>\n",
       "      <td>periparturi period one challeng period dairi c...</td>\n",
       "    </tr>\n",
       "  </tbody>\n",
       "</table>\n",
       "<p>7570 rows × 2 columns</p>\n",
       "</div>"
      ],
      "text/plain": [
       "      label                                               text\n",
       "0         2  thyroid surgeri children singl institut osama ...\n",
       "1         2  adopt strategi use prior year base four exclus...\n",
       "2         2  coronari arterybypass graft thrombosi mutation...\n",
       "3         2  solitari plasmacytoma sp skull uncommon clinic...\n",
       "4         2  studi aim investig serum matrix metalloprotein...\n",
       "...     ...                                                ...\n",
       "7565      0  report case 24yearold man present chief compla...\n",
       "7566      0  among synchron colorect cancer scrc report pre...\n",
       "7567      0  heterogen cancer cell gener accept astem celll...\n",
       "7568      0  adipogenesi process mesenchymalstem cell msc c...\n",
       "7569      0  periparturi period one challeng period dairi c...\n",
       "\n",
       "[7570 rows x 2 columns]"
      ]
     },
     "execution_count": 32,
     "metadata": {},
     "output_type": "execute_result"
    }
   ],
   "source": [
    "df"
   ]
  },
  {
   "cell_type": "code",
   "execution_count": 33,
   "id": "18fd69cb",
   "metadata": {},
   "outputs": [
    {
     "name": "stdout",
     "output_type": "stream",
     "text": [
      "<class 'pandas.core.frame.DataFrame'>\n",
      "RangeIndex: 7570 entries, 0 to 7569\n",
      "Data columns (total 2 columns):\n",
      " #   Column  Non-Null Count  Dtype \n",
      "---  ------  --------------  ----- \n",
      " 0   label   7570 non-null   int64 \n",
      " 1   text    7570 non-null   object\n",
      "dtypes: int64(1), object(1)\n",
      "memory usage: 118.4+ KB\n"
     ]
    }
   ],
   "source": [
    "df.info()"
   ]
  },
  {
   "cell_type": "code",
   "execution_count": 34,
   "id": "cfa54fc6",
   "metadata": {},
   "outputs": [],
   "source": [
    "df.to_csv('../Data/CleanedMedicalDataset.csv', index = False)"
   ]
  },
  {
   "cell_type": "code",
   "execution_count": null,
   "id": "c4bf5f6c",
   "metadata": {},
   "outputs": [],
   "source": []
  }
 ],
 "metadata": {
  "kernelspec": {
   "display_name": "Python 3 (ipykernel)",
   "language": "python",
   "name": "python3"
  },
  "language_info": {
   "codemirror_mode": {
    "name": "ipython",
    "version": 3
   },
   "file_extension": ".py",
   "mimetype": "text/x-python",
   "name": "python",
   "nbconvert_exporter": "python",
   "pygments_lexer": "ipython3",
   "version": "3.7.5"
  }
 },
 "nbformat": 4,
 "nbformat_minor": 5
}
