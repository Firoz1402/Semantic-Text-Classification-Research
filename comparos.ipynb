{
 "cells": [
  {
   "cell_type": "code",
   "execution_count": 1,
   "id": "738e2bb2",
   "metadata": {},
   "outputs": [],
   "source": [
    "import sklearn\n",
    "import pandas as pd\n",
    "import numpy as np"
   ]
  },
  {
   "cell_type": "code",
   "execution_count": 2,
   "id": "7029c067",
   "metadata": {},
   "outputs": [],
   "source": [
    "df = pd.read_csv('cleaned_data.csv')"
   ]
  },
  {
   "cell_type": "code",
   "execution_count": 3,
   "id": "0e1c3c24",
   "metadata": {},
   "outputs": [
    {
     "data": {
      "text/html": [
       "<div>\n",
       "<style scoped>\n",
       "    .dataframe tbody tr th:only-of-type {\n",
       "        vertical-align: middle;\n",
       "    }\n",
       "\n",
       "    .dataframe tbody tr th {\n",
       "        vertical-align: top;\n",
       "    }\n",
       "\n",
       "    .dataframe thead th {\n",
       "        text-align: right;\n",
       "    }\n",
       "</style>\n",
       "<table border=\"1\" class=\"dataframe\">\n",
       "  <thead>\n",
       "    <tr style=\"text-align: right;\">\n",
       "      <th></th>\n",
       "      <th>category</th>\n",
       "      <th>transformed text</th>\n",
       "    </tr>\n",
       "  </thead>\n",
       "  <tbody>\n",
       "    <tr>\n",
       "      <th>0</th>\n",
       "      <td>4</td>\n",
       "      <td>tv futur hand viewer home theatr system plasma...</td>\n",
       "    </tr>\n",
       "    <tr>\n",
       "      <th>1</th>\n",
       "      <td>0</td>\n",
       "      <td>worldcom boss leav book alon former worldcom b...</td>\n",
       "    </tr>\n",
       "    <tr>\n",
       "      <th>2</th>\n",
       "      <td>3</td>\n",
       "      <td>tiger wari farrel gambl leicest say rush make ...</td>\n",
       "    </tr>\n",
       "    <tr>\n",
       "      <th>3</th>\n",
       "      <td>3</td>\n",
       "      <td>yead face newcastl fa cup premiership side new...</td>\n",
       "    </tr>\n",
       "    <tr>\n",
       "      <th>4</th>\n",
       "      <td>1</td>\n",
       "      <td>ocean twelv raid box offic ocean twelv crime c...</td>\n",
       "    </tr>\n",
       "  </tbody>\n",
       "</table>\n",
       "</div>"
      ],
      "text/plain": [
       "   category                                   transformed text\n",
       "0         4  tv futur hand viewer home theatr system plasma...\n",
       "1         0  worldcom boss leav book alon former worldcom b...\n",
       "2         3  tiger wari farrel gambl leicest say rush make ...\n",
       "3         3  yead face newcastl fa cup premiership side new...\n",
       "4         1  ocean twelv raid box offic ocean twelv crime c..."
      ]
     },
     "execution_count": 3,
     "metadata": {},
     "output_type": "execute_result"
    }
   ],
   "source": [
    "df.head()"
   ]
  },
  {
   "cell_type": "code",
   "execution_count": 4,
   "id": "7644f7be",
   "metadata": {},
   "outputs": [],
   "source": [
    "from sklearn.feature_extraction.text import CountVectorizer\n",
    "cv= CountVectorizer(max_features=2000)"
   ]
  },
  {
   "cell_type": "code",
   "execution_count": 5,
   "id": "a537d8e8",
   "metadata": {},
   "outputs": [],
   "source": [
    "x= cv.fit_transform(df['transformed text']).toarray()\n",
    "y= df['category'].values"
   ]
  },
  {
   "cell_type": "code",
   "execution_count": 7,
   "id": "421d0c21",
   "metadata": {},
   "outputs": [],
   "source": [
    "from sklearn.model_selection import train_test_split\n",
    "x_train, x_test, y_train, y_test= train_test_split(x, y, test_size=0.2)"
   ]
  },
  {
   "cell_type": "code",
   "execution_count": 15,
   "id": "03d4c64c",
   "metadata": {},
   "outputs": [],
   "source": [
    "from sklearn import svm\n",
    "from sklearn.ensemble import RandomForestClassifier\n",
    "from sklearn.linear_model import LogisticRegression\n",
    "from sklearn.naive_bayes import GaussianNB\n",
    "from sklearn.naive_bayes import MultinomialNB\n",
    "from sklearn.naive_bayes import BernoulliNB\n",
    "from sklearn.tree import DecisionTreeClassifier"
   ]
  },
  {
   "cell_type": "code",
   "execution_count": 16,
   "id": "13296aa6",
   "metadata": {},
   "outputs": [],
   "source": [
    "model_params= {\n",
    "    'svm': {\n",
    "        'model': svm.SVC(gamma='auto'),\n",
    "        'params': {\n",
    "            'C': [1, 5, 10, 15, 20],\n",
    "            'kernel': ['linear', 'poly', 'rbf']\n",
    "        }\n",
    "    },\n",
    "    'random_forest':{\n",
    "        'model': RandomForestClassifier(),\n",
    "        'params':{\n",
    "            'n_estimators': range(1,6),\n",
    "            'criterion': ['gini', 'entropy', 'log_loss']\n",
    "        }\n",
    "    },\n",
    "    'logistic_regression':{\n",
    "        'model': LogisticRegression(solver='liblinear', multi_class='auto'),\n",
    "        'params':{\n",
    "            'C': [1, 5, 10, 15, 10],\n",
    "            'penalty': ['l1','l2'],\n",
    "        }\n",
    "    },\n",
    "    'gaussian_nb':{\n",
    "        'model': GaussianNB(priors=None, var_smoothing=1e-09),\n",
    "        'params':{\n",
    "            # No hyperparameters to tune for this model type yet...\n",
    "        }\n",
    "    },\n",
    "    'multinomial_nb':{\n",
    "        'model': MultinomialNB(alpha=1, force_alpha='warn', ),\n",
    "        'params':{\n",
    "            #'alpha' : np.linspace(.01,.99, num = 3)\n",
    "        }\n",
    "    },\n",
    "    'bernoulli_nb':{\n",
    "        'model': BernoulliNB(alpha=1, force_alpha='warn', binarize=0.0, fit_prior=True, class_prior=None),\n",
    "        'params':{\n",
    "            #'alpha' : np.linspace(.01,.99, num = 3)\n",
    "        }\n",
    "    },\n",
    "    'decision_tree': {\n",
    "        'model': DecisionTreeClassifier(random_state= 0),\n",
    "        'params':{\n",
    "            'criterion': ['gini', 'entropy'],\n",
    "            'max_depth':[1,2,3,4]\n",
    "        }\n",
    "    }\n",
    "}"
   ]
  },
  {
   "cell_type": "code",
   "execution_count": 17,
   "id": "70259491",
   "metadata": {},
   "outputs": [],
   "source": [
    "from sklearn.model_selection import GridSearchCV"
   ]
  },
  {
   "cell_type": "code",
   "execution_count": 18,
   "id": "29765b30",
   "metadata": {},
   "outputs": [],
   "source": [
    "scores= []\n",
    "\n",
    "for model_name, mp in model_params.items():\n",
    "    clf= GridSearchCV(mp['model'], mp['params'], cv=5, return_train_score=False)\n",
    "    clf.fit(x_train, y_train)\n",
    "    scores.append({\n",
    "        'model': model_name,\n",
    "        'best_score': clf.best_score_,\n",
    "        'best_params': clf.best_params_\n",
    "    })"
   ]
  },
  {
   "cell_type": "code",
   "execution_count": 19,
   "id": "59d72829",
   "metadata": {},
   "outputs": [
    {
     "data": {
      "text/html": [
       "<div>\n",
       "<style scoped>\n",
       "    .dataframe tbody tr th:only-of-type {\n",
       "        vertical-align: middle;\n",
       "    }\n",
       "\n",
       "    .dataframe tbody tr th {\n",
       "        vertical-align: top;\n",
       "    }\n",
       "\n",
       "    .dataframe thead th {\n",
       "        text-align: right;\n",
       "    }\n",
       "</style>\n",
       "<table border=\"1\" class=\"dataframe\">\n",
       "  <thead>\n",
       "    <tr style=\"text-align: right;\">\n",
       "      <th></th>\n",
       "      <th>model</th>\n",
       "      <th>best_score</th>\n",
       "      <th>best_params</th>\n",
       "    </tr>\n",
       "  </thead>\n",
       "  <tbody>\n",
       "    <tr>\n",
       "      <th>0</th>\n",
       "      <td>svm</td>\n",
       "      <td>0.951968</td>\n",
       "      <td>{'C': 5, 'kernel': 'rbf'}</td>\n",
       "    </tr>\n",
       "    <tr>\n",
       "      <th>1</th>\n",
       "      <td>random_forest</td>\n",
       "      <td>0.837488</td>\n",
       "      <td>{'criterion': 'log_loss', 'n_estimators': 5}</td>\n",
       "    </tr>\n",
       "    <tr>\n",
       "      <th>2</th>\n",
       "      <td>logistic_regression</td>\n",
       "      <td>0.959165</td>\n",
       "      <td>{'C': 1, 'penalty': 'l2'}</td>\n",
       "    </tr>\n",
       "    <tr>\n",
       "      <th>3</th>\n",
       "      <td>gaussian_nb</td>\n",
       "      <td>0.881523</td>\n",
       "      <td>{}</td>\n",
       "    </tr>\n",
       "    <tr>\n",
       "      <th>4</th>\n",
       "      <td>multinomial_nb</td>\n",
       "      <td>0.962368</td>\n",
       "      <td>{}</td>\n",
       "    </tr>\n",
       "    <tr>\n",
       "      <th>5</th>\n",
       "      <td>bernoulli_nb</td>\n",
       "      <td>0.943158</td>\n",
       "      <td>{}</td>\n",
       "    </tr>\n",
       "    <tr>\n",
       "      <th>6</th>\n",
       "      <td>decision_tree</td>\n",
       "      <td>0.616472</td>\n",
       "      <td>{'criterion': 'gini', 'max_depth': 4}</td>\n",
       "    </tr>\n",
       "  </tbody>\n",
       "</table>\n",
       "</div>"
      ],
      "text/plain": [
       "                 model  best_score  \\\n",
       "0                  svm    0.951968   \n",
       "1        random_forest    0.837488   \n",
       "2  logistic_regression    0.959165   \n",
       "3          gaussian_nb    0.881523   \n",
       "4       multinomial_nb    0.962368   \n",
       "5         bernoulli_nb    0.943158   \n",
       "6        decision_tree    0.616472   \n",
       "\n",
       "                                    best_params  \n",
       "0                     {'C': 5, 'kernel': 'rbf'}  \n",
       "1  {'criterion': 'log_loss', 'n_estimators': 5}  \n",
       "2                     {'C': 1, 'penalty': 'l2'}  \n",
       "3                                            {}  \n",
       "4                                            {}  \n",
       "5                                            {}  \n",
       "6         {'criterion': 'gini', 'max_depth': 4}  "
      ]
     },
     "execution_count": 19,
     "metadata": {},
     "output_type": "execute_result"
    }
   ],
   "source": [
    "df= pd.DataFrame(scores, columns=['model', 'best_score', 'best_params'])\n",
    "df"
   ]
  },
  {
   "cell_type": "code",
   "execution_count": null,
   "id": "309ceb75",
   "metadata": {},
   "outputs": [],
   "source": []
  }
 ],
 "metadata": {
  "kernelspec": {
   "display_name": "Python 3 (ipykernel)",
   "language": "python",
   "name": "python3"
  },
  "language_info": {
   "codemirror_mode": {
    "name": "ipython",
    "version": 3
   },
   "file_extension": ".py",
   "mimetype": "text/x-python",
   "name": "python",
   "nbconvert_exporter": "python",
   "pygments_lexer": "ipython3",
   "version": "3.10.10"
  }
 },
 "nbformat": 4,
 "nbformat_minor": 5
}
