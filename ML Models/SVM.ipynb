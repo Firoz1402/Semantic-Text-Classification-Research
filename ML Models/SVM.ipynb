{
 "cells": [
  {
   "cell_type": "code",
   "execution_count": 1,
   "id": "b282dce2",
   "metadata": {},
   "outputs": [],
   "source": [
    "from sklearn import svm\n",
    "from sklearn.model_selection import train_test_split\n",
    "from sklearn.metrics import accuracy_score\n",
    "import time\n",
    "import pandas as pd\n",
    "from sklearn.model_selection import GridSearchCV"
   ]
  },
  {
   "cell_type": "code",
   "execution_count": 2,
   "id": "6dd30670",
   "metadata": {},
   "outputs": [],
   "source": [
    "df = pd.read_csv('data/CleanedData.csv')"
   ]
  },
  {
   "cell_type": "code",
   "execution_count": 3,
   "id": "f53d7960",
   "metadata": {},
   "outputs": [],
   "source": [
    "from sklearn.feature_extraction.text import CountVectorizer\n",
    "cv= CountVectorizer(max_features=5000)"
   ]
  },
  {
   "cell_type": "code",
   "execution_count": 4,
   "id": "879f1c17",
   "metadata": {},
   "outputs": [],
   "source": [
    "x= cv.fit_transform(df['transformed text']).toarray()\n",
    "y= df['subject'].values"
   ]
  },
  {
   "cell_type": "code",
   "execution_count": 5,
   "id": "dacb2777",
   "metadata": {},
   "outputs": [],
   "source": [
    "x_train, x_test, y_train, y_test = train_test_split(x, y, test_size=0.2, random_state=42)\n"
   ]
  },
  {
   "cell_type": "code",
   "execution_count": 8,
   "id": "47c9a85b",
   "metadata": {},
   "outputs": [],
   "source": [
    "model_params= {\n",
    "    'svm': {\n",
    "        'model': svm.SVC(gamma='auto'),\n",
    "        'params': {\n",
    "            'C': [0.2,0.3,0.7,0.9,1,1.2],\n",
    "            'kernel': ['rbf']\n",
    "        }\n",
    "    }\n",
    "}"
   ]
  },
  {
   "cell_type": "code",
   "execution_count": null,
   "id": "1d6f25c0",
   "metadata": {},
   "outputs": [
    {
     "name": "stdout",
     "output_type": "stream",
     "text": [
      "Fitting 2 folds for each of 6 candidates, totalling 12 fits\n",
      "[CV 1/2] END .................C=0.2, kernel=rbf;, score=0.692 total time=15.9min\n",
      "[CV 2/2] END .................C=0.2, kernel=rbf;, score=0.689 total time=17.3min\n",
      "[CV 1/2] END .................C=0.3, kernel=rbf;, score=0.717 total time=15.2min\n",
      "[CV 2/2] END .................C=0.3, kernel=rbf;, score=0.714 total time=14.5min\n",
      "[CV 1/2] END .................C=0.7, kernel=rbf;, score=0.754 total time=12.4min\n",
      "[CV 2/2] END .................C=0.7, kernel=rbf;, score=0.755 total time=12.6min\n",
      "[CV 1/2] END .................C=0.9, kernel=rbf;, score=0.759 total time=12.6min\n",
      "[CV 2/2] END .................C=0.9, kernel=rbf;, score=0.763 total time=12.5min\n",
      "[CV 1/2] END ...................C=1, kernel=rbf;, score=0.763 total time=12.4min\n",
      "[CV 2/2] END ...................C=1, kernel=rbf;, score=0.766 total time=12.2min\n",
      "[CV 1/2] END .................C=1.2, kernel=rbf;, score=0.766 total time=11.4min\n",
      "[CV 2/2] END .................C=1.2, kernel=rbf;, score=0.770 total time=11.6min\n"
     ]
    }
   ],
   "source": [
    "scores= []\n",
    "start = time.time()\n",
    "for model_name, mp in model_params.items():\n",
    "    clf= GridSearchCV(mp['model'], mp['params'], cv=2, verbose = 4, return_train_score=False)\n",
    "    clf.fit(x_train, y_train)\n",
    "    scores.append({\n",
    "        'model': model_name,\n",
    "        'best_score': clf.best_score_,\n",
    "        'best_params': clf.best_params_\n",
    "    })\n",
    "    \n",
    "\n",
    "end = time.time()\n",
    "print(\"The time of execution of above program is :\",\n",
    "      (end-start) * 10**3, \"ms\")"
   ]
  },
  {
   "cell_type": "code",
   "execution_count": null,
   "id": "b780b86d",
   "metadata": {},
   "outputs": [],
   "source": []
  }
 ],
 "metadata": {
  "kernelspec": {
   "display_name": "Python 3 (ipykernel)",
   "language": "python",
   "name": "python3"
  },
  "language_info": {
   "codemirror_mode": {
    "name": "ipython",
    "version": 3
   },
   "file_extension": ".py",
   "mimetype": "text/x-python",
   "name": "python",
   "nbconvert_exporter": "python",
   "pygments_lexer": "ipython3",
   "version": "3.7.5"
  }
 },
 "nbformat": 4,
 "nbformat_minor": 5
}
