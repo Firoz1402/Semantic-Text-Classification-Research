{
 "cells": [
  {
   "cell_type": "code",
   "execution_count": 5,
   "id": "b282dce2",
   "metadata": {},
   "outputs": [],
   "source": [
    "from sklearn import svm\n",
    "from sklearn.model_selection import train_test_split\n",
    "from sklearn.metrics import f1_score, accuracy_score,confusion_matrix,classification_report\n",
    "\n",
    "import time\n",
    "import pandas as pd\n",
    "from sklearn.model_selection import GridSearchCV\n",
    "import numpy as np\n",
    "from stringkernels.kernels import polynomial_string_kernel\n",
    "from stringkernels.kernels import string_kernel\n",
    "import scipy\n",
    "import random\n",
    "from sklearn.preprocessing import LabelEncoder"
   ]
  },
  {
   "cell_type": "code",
   "execution_count": 2,
   "id": "6dd30670",
   "metadata": {},
   "outputs": [],
   "source": [
    "df = pd.read_csv('../Data/CleanedEcommerce.csv')"
   ]
  },
  {
   "cell_type": "code",
   "execution_count": 8,
   "id": "1a34a073",
   "metadata": {},
   "outputs": [],
   "source": [
    "df = df.dropna()"
   ]
  },
  {
   "cell_type": "code",
   "execution_count": 3,
   "id": "723c4844",
   "metadata": {},
   "outputs": [],
   "source": [
    "text = 'desc'\n",
    "label = 'label'\n",
    "num_classes = df[label].nunique()"
   ]
  },
  {
   "cell_type": "code",
   "execution_count": 4,
   "id": "f53d7960",
   "metadata": {},
   "outputs": [],
   "source": [
    "from sklearn.feature_extraction.text import TfidfVectorizer\n",
    "tfidf = TfidfVectorizer(max_features=5000)"
   ]
  },
  {
   "cell_type": "code",
   "execution_count": 9,
   "id": "f6f42f15",
   "metadata": {},
   "outputs": [],
   "source": [
    "label_encoder = LabelEncoder()\n",
    "\n",
    "df[label] = label_encoder.fit_transform(df[label])"
   ]
  },
  {
   "cell_type": "code",
   "execution_count": 10,
   "id": "879f1c17",
   "metadata": {},
   "outputs": [],
   "source": [
    "X= tfidf.fit_transform(df[text])\n",
    "y= df[label].values"
   ]
  },
  {
   "cell_type": "code",
   "execution_count": 11,
   "id": "cdd0fe34",
   "metadata": {},
   "outputs": [
    {
     "data": {
      "text/plain": [
       "(27801, 5000)"
      ]
     },
     "execution_count": 11,
     "metadata": {},
     "output_type": "execute_result"
    }
   ],
   "source": [
    "X.shape"
   ]
  },
  {
   "cell_type": "code",
   "execution_count": 12,
   "id": "dacb2777",
   "metadata": {},
   "outputs": [],
   "source": [
    "X_train, X_test, y_train, y_test = train_test_split(X, y, test_size=0.2, random_state=42,stratify=y)\n",
    "X_val, X_test, y_val, y_test = train_test_split(X_test, y_test, test_size=0.4, random_state=42)\n",
    "\n",
    "\n"
   ]
  },
  {
   "cell_type": "code",
   "execution_count": 13,
   "id": "84db8a96",
   "metadata": {},
   "outputs": [],
   "source": [
    "from imblearn.over_sampling import SMOTE\n",
    "smote = SMOTE(sampling_strategy='auto', random_state=42)\n",
    "X_resampled, y_resampled = smote.fit_resample(X_train, y_train)"
   ]
  },
  {
   "cell_type": "code",
   "execution_count": 14,
   "id": "7abb13e2",
   "metadata": {},
   "outputs": [
    {
     "name": "stdout",
     "output_type": "stream",
     "text": [
      "The time of execution of the above program is: 2.78784849246343 Mins\n",
      "F1 Score: 0.9590981003067038\n",
      "Accuracy: 0.9591011235955056\n",
      "Classification Report :/n               precision    recall  f1-score   support\n",
      "\n",
      "           0       0.96      0.94      0.95       489\n",
      "           1       0.99      0.98      0.99       449\n",
      "           2       0.94      0.94      0.94       410\n",
      "           3       0.95      0.97      0.96       877\n",
      "\n",
      "    accuracy                           0.96      2225\n",
      "   macro avg       0.96      0.96      0.96      2225\n",
      "weighted avg       0.96      0.96      0.96      2225\n",
      "\n"
     ]
    }
   ],
   "source": [
    "\n",
    "import time\n",
    "from sklearn import svm\n",
    "from sklearn.metrics import accuracy_score\n",
    "\n",
    "start = time.time()\n",
    "svm_classifier = svm.SVC(kernel='rbf')\n",
    "svm_classifier.fit(X_resampled, y_resampled)\n",
    "end = time.time()\n",
    "\n",
    "print(\"The time of execution of the above program is:\", (end - start)/60, \"Mins\")\n",
    "\n",
    "\n",
    "\n",
    "y_pred = svm_classifier.predict(X_test)\n",
    "accuracy = accuracy_score(y_test, y_pred)\n",
    "f1 = f1_score(y_test, y_pred, average = 'weighted')\n",
    "class_report = classification_report(y_test, y_pred)\n",
    "print(\"F1 Score:\", f1)\n",
    "print(\"Accuracy:\", accuracy)\n",
    "print(\"Classification Report :/n\", class_report)\n"
   ]
  },
  {
   "cell_type": "markdown",
   "id": "9134e49d",
   "metadata": {},
   "source": [
    "# HyperParameter Tuning Using HyperOpt"
   ]
  },
  {
   "cell_type": "code",
   "execution_count": 15,
   "id": "54fd34ac",
   "metadata": {},
   "outputs": [],
   "source": [
    "from hyperopt import fmin, tpe, hp, STATUS_OK, Trials, space_eval\n",
    "from sklearn.metrics import f1_score\n",
    "from sklearn.model_selection import cross_val_predict\n",
    "from sklearn.svm import SVC\n",
    "\n"
   ]
  },
  {
   "cell_type": "code",
   "execution_count": 16,
   "id": "1cbe87e9",
   "metadata": {},
   "outputs": [],
   "source": [
    "# Define the hyperparameter search space\n",
    "space = {\n",
    "    'C': hp.loguniform('C', np.log(0.001), np.log(10)),  # Regularization parameter\n",
    "    'kernel': hp.choice('kernel', ['rbf', 'linear','sigmoid']),\n",
    "    'gamma': hp.loguniform('gamma', np.log(0.001), np.log(10))\n",
    "}"
   ]
  },
  {
   "cell_type": "code",
   "execution_count": 17,
   "id": "73afcc18",
   "metadata": {},
   "outputs": [
    {
     "name": "stdout",
     "output_type": "stream",
     "text": [
      "100%|███████| 10/10 [53:00<00:00, 318.04s/trial, best loss: -0.9495629481636366]\n",
      "The time of execution of above program is : 53.006715297698975 Mins\n",
      "Best Hyperparameters:\n",
      "{'C': 3.4332584837247335, 'gamma': 0.3023263429485403, 'kernel': 'rbf'}\n",
      "Best Weighted F1 Score (Loss): 0.9495629481636366\n"
     ]
    }
   ],
   "source": [
    "# Define the objective function to maximize (e.g., cross-validated accuracy)\n",
    "start = time.time()\n",
    "def objective(params):\n",
    "    # Define hyperparameters\n",
    "    C = params['C']\n",
    "    kernel = params['kernel']\n",
    "    gamma = params['gamma']\n",
    "    \n",
    "    # Create an SVM classifier with the specified hyperparameters\n",
    "    clf = SVC(C=C, kernel=kernel, gamma=gamma, random_state=42)\n",
    "    \n",
    "    # Train the classifier\n",
    "    clf.fit(X_resampled, y_resampled)\n",
    "    \n",
    "    # Make predictions on the test set\n",
    "    y_pred = clf.predict(X_val)\n",
    "    \n",
    "    # Calculate F1 score\n",
    "    f1 = f1_score(y_val, y_pred, average='weighted')\n",
    "    \n",
    "    if f1<=0.95:\n",
    "        return {'loss': -f1, 'status': STATUS_OK}\n",
    "    else:\n",
    "        return {'loss': 1.00, 'status': STATUS_OK}\n",
    "\n",
    "trials = Trials()\n",
    "best = fmin(fn=objective,\n",
    "            space=space,\n",
    "            algo=tpe.suggest,\n",
    "            max_evals=10,  # Number of optimization iterations\n",
    "            trials=trials,\n",
    "            rstate=np.random.default_rng(42))\n",
    "\n",
    "end = time.time()\n",
    "print(\"The time of execution of above program is :\",\n",
    "      (end-start)/60, \"Mins\")\n",
    "# Get the best hyperparameters and the corresponding loss\n",
    "best_hyperparams = space_eval(space, best)\n",
    "best_loss = -trials.best_trial['result']['loss']\n",
    "\n",
    "# Print the best hyperparameters and corresponding loss\n",
    "print(\"Best Hyperparameters:\")\n",
    "print(best_hyperparams)\n",
    "print(\"Best Weighted F1 Score (Loss):\", best_loss)"
   ]
  },
  {
   "cell_type": "code",
   "execution_count": 18,
   "id": "d102484a",
   "metadata": {},
   "outputs": [
    {
     "name": "stdout",
     "output_type": "stream",
     "text": [
      "The time of execution of model is : 1.0421004891395569 mins\n",
      "Accuracy: 0.9591011235955056\n",
      "F1 Score: 0.9591\n",
      "Confusion Matrix:\n",
      " [[461   1   9  18]\n",
      " [  3 441   1   4]\n",
      " [  5   1 385  19]\n",
      " [ 12   5  13 847]]\n",
      "Classification Report:\n",
      "               precision    recall  f1-score   support\n",
      "\n",
      "           0       0.96      0.94      0.95       489\n",
      "           1       0.98      0.98      0.98       449\n",
      "           2       0.94      0.94      0.94       410\n",
      "           3       0.95      0.97      0.96       877\n",
      "\n",
      "    accuracy                           0.96      2225\n",
      "   macro avg       0.96      0.96      0.96      2225\n",
      "weighted avg       0.96      0.96      0.96      2225\n",
      "\n"
     ]
    }
   ],
   "source": [
    "start = time.time()\n",
    "svm_classifier = svm.SVC(\n",
    "    kernel='rbf',\n",
    "    gamma =  0.3023263429485403, \n",
    "    C = 3.4332584837247335\n",
    ")\n",
    "svm_classifier.fit(X_resampled, y_resampled)\n",
    "end = time.time()\n",
    "print(\"The time of execution of model is :\",\n",
    "      (end-start) * (10**3/1000)/60, \"mins\")\n",
    "y_pred = svm_classifier.predict(X_test)\n",
    "f1 = f1_score(y_test, y_pred, average = 'weighted')\n",
    "conf_matrix = confusion_matrix(y_test, y_pred)\n",
    "class_report = classification_report(y_test, y_pred)\n",
    "accuracy = accuracy_score(y_test, y_pred)\n",
    "print(\"Accuracy:\", accuracy)\n",
    "print(f'F1 Score: {f1:.4f}')\n",
    "print(\"Confusion Matrix:\\n\", conf_matrix)\n",
    "print(\"Classification Report:\\n\", class_report)"
   ]
  },
  {
   "cell_type": "code",
   "execution_count": null,
   "id": "17f6a688",
   "metadata": {},
   "outputs": [],
   "source": []
  }
 ],
 "metadata": {
  "kernelspec": {
   "display_name": "Python 3 (ipykernel)",
   "language": "python",
   "name": "python3"
  },
  "language_info": {
   "codemirror_mode": {
    "name": "ipython",
    "version": 3
   },
   "file_extension": ".py",
   "mimetype": "text/x-python",
   "name": "python",
   "nbconvert_exporter": "python",
   "pygments_lexer": "ipython3",
   "version": "3.7.5"
  }
 },
 "nbformat": 4,
 "nbformat_minor": 5
}
