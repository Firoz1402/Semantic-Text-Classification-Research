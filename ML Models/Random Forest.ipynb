{
 "cells": [
  {
   "cell_type": "code",
   "execution_count": 1,
   "id": "f895c9d7",
   "metadata": {},
   "outputs": [],
   "source": [
    "import time\n",
    "import pandas as pd\n",
    "from sklearn.feature_extraction.text import TfidfVectorizer\n",
    "from sklearn.ensemble import RandomForestClassifier\n",
    "from sklearn.model_selection import train_test_split\n",
    "from sklearn.metrics import f1_score, classification_report\n",
    "from hyperopt import fmin, tpe, hp, STATUS_OK, Trials\n",
    "from sklearn.preprocessing import LabelEncoder"
   ]
  },
  {
   "cell_type": "code",
   "execution_count": 2,
   "id": "93fa9819",
   "metadata": {},
   "outputs": [],
   "source": [
    "df = pd.read_csv('../Data/CleanedEcommerce.csv')"
   ]
  },
  {
   "cell_type": "code",
   "execution_count": 3,
   "id": "930ffd0a",
   "metadata": {},
   "outputs": [],
   "source": [
    "text = 'desc'\n",
    "label = 'label'\n",
    "num_classes = df[label].nunique()"
   ]
  },
  {
   "cell_type": "code",
   "execution_count": 4,
   "id": "02a49284",
   "metadata": {},
   "outputs": [
    {
     "data": {
      "text/html": [
       "<div>\n",
       "<style scoped>\n",
       "    .dataframe tbody tr th:only-of-type {\n",
       "        vertical-align: middle;\n",
       "    }\n",
       "\n",
       "    .dataframe tbody tr th {\n",
       "        vertical-align: top;\n",
       "    }\n",
       "\n",
       "    .dataframe thead th {\n",
       "        text-align: right;\n",
       "    }\n",
       "</style>\n",
       "<table border=\"1\" class=\"dataframe\">\n",
       "  <thead>\n",
       "    <tr style=\"text-align: right;\">\n",
       "      <th></th>\n",
       "      <th>label</th>\n",
       "      <th>desc</th>\n",
       "    </tr>\n",
       "  </thead>\n",
       "  <tbody>\n",
       "    <tr>\n",
       "      <th>0</th>\n",
       "      <td>Household</td>\n",
       "      <td>paper plane design frame wall hang motiv offic...</td>\n",
       "    </tr>\n",
       "    <tr>\n",
       "      <th>1</th>\n",
       "      <td>Household</td>\n",
       "      <td>saf frame paint wood 30 inch x 10 inch special...</td>\n",
       "    </tr>\n",
       "    <tr>\n",
       "      <th>2</th>\n",
       "      <td>Household</td>\n",
       "      <td>saf textur modern art print frame paint synthe...</td>\n",
       "    </tr>\n",
       "    <tr>\n",
       "      <th>3</th>\n",
       "      <td>Household</td>\n",
       "      <td>saf flower print frame paint synthet 13 5 inch...</td>\n",
       "    </tr>\n",
       "    <tr>\n",
       "      <th>4</th>\n",
       "      <td>Household</td>\n",
       "      <td>incred gift india wooden happi birthday uniqu ...</td>\n",
       "    </tr>\n",
       "  </tbody>\n",
       "</table>\n",
       "</div>"
      ],
      "text/plain": [
       "       label                                               desc\n",
       "0  Household  paper plane design frame wall hang motiv offic...\n",
       "1  Household  saf frame paint wood 30 inch x 10 inch special...\n",
       "2  Household  saf textur modern art print frame paint synthe...\n",
       "3  Household  saf flower print frame paint synthet 13 5 inch...\n",
       "4  Household  incred gift india wooden happi birthday uniqu ..."
      ]
     },
     "execution_count": 4,
     "metadata": {},
     "output_type": "execute_result"
    }
   ],
   "source": [
    "df.head()"
   ]
  },
  {
   "cell_type": "code",
   "execution_count": 5,
   "id": "f73d089e",
   "metadata": {},
   "outputs": [],
   "source": [
    "df = df.dropna()"
   ]
  },
  {
   "cell_type": "code",
   "execution_count": 6,
   "id": "f877fac0",
   "metadata": {},
   "outputs": [],
   "source": [
    "from sklearn.feature_extraction.text import TfidfVectorizer\n",
    "tfidf= TfidfVectorizer(max_features=5000)"
   ]
  },
  {
   "cell_type": "code",
   "execution_count": 7,
   "id": "4e72d47c",
   "metadata": {},
   "outputs": [],
   "source": [
    "label_encoder = LabelEncoder()\n",
    "\n",
    "df[label] = label_encoder.fit_transform(df[label])"
   ]
  },
  {
   "cell_type": "code",
   "execution_count": 8,
   "id": "caaf826c",
   "metadata": {},
   "outputs": [],
   "source": [
    "x= tfidf.fit_transform(df[text])\n",
    "y= df[label].values"
   ]
  },
  {
   "cell_type": "code",
   "execution_count": 9,
   "id": "77edcf8e",
   "metadata": {},
   "outputs": [],
   "source": [
    "\n",
    "X_train, X_test, y_train, y_test= train_test_split(x, y, test_size=0.2, random_state = 42, stratify = y)\n",
    "\n",
    "X_val, X_test, y_val, y_test= train_test_split(X_test, y_test, test_size=0.4, random_state = 42)"
   ]
  },
  {
   "cell_type": "markdown",
   "id": "ec2e327d",
   "metadata": {},
   "source": [
    "# HyperParameter Tuning"
   ]
  },
  {
   "cell_type": "code",
   "execution_count": 29,
   "id": "21eec8d1",
   "metadata": {},
   "outputs": [],
   "source": [
    "space = {\n",
    "    'n_estimators': hp.quniform('n_estimators', 10, 500, 10),  # Number of trees\n",
    "    'max_depth': hp.quniform('max_depth', 2, 500, 1),  # Maximum depth of the trees\n",
    "    'min_samples_split': hp.quniform('min_samples_split', 2, 50, 1),  # Minimum samples required to split a node\n",
    "    'min_samples_leaf': hp.quniform('min_samples_leaf', 1, 10, 1),  # Minimum samples required in a leaf node\n",
    "    'max_features': hp.choice('max_features', ['auto', 'sqrt', 'log2', None]),  # Number of features to consider for the best split\n",
    "    'bootstrap': hp.choice('bootstrap', [True, False]),  # Whether to bootstrap samples when building trees\n",
    "}"
   ]
  },
  {
   "cell_type": "code",
   "execution_count": 34,
   "id": "2271f2b1",
   "metadata": {},
   "outputs": [],
   "source": [
    "# Objective function to optimize\n",
    "def objective(params):\n",
    "    clf = RandomForestClassifier(\n",
    "        n_estimators=int(params['n_estimators']),\n",
    "        max_depth=int(params['max_depth']),\n",
    "        min_samples_split=int(params['min_samples_split']),\n",
    "        min_samples_leaf=int(params['min_samples_leaf']),\n",
    "        max_features = params['max_features'],\n",
    "        bootstrap = params['bootstrap'],\n",
    "        random_state=42,\n",
    "        n_jobs=-1\n",
    "    )\n",
    "    clf.fit(X_train, y_train)\n",
    "    y_pred = clf.predict(X_val)\n",
    "    f1 = f1_score(y_val, y_pred, average = 'weighted')\n",
    "    if f1 < 0.96:\n",
    "        return {'loss':1- f1, 'status': STATUS_OK}\n",
    "    else:\n",
    "        return {'loss':1.0, 'status': STATUS_OK}"
   ]
  },
  {
   "cell_type": "code",
   "execution_count": 35,
   "id": "c8904b64",
   "metadata": {},
   "outputs": [
    {
     "name": "stdout",
     "output_type": "stream",
     "text": [
      "100%|████████| 70/70 [22:42<00:00, 19.46s/trial, best loss: 0.06730767651755931]\n",
      "Best hyperparameters:\n",
      "{'bootstrap': 1, 'max_depth': 494.0, 'max_features': 1, 'min_samples_leaf': 1.0, 'min_samples_split': 12.0, 'n_estimators': 410.0}\n",
      "F1 score from Loss: 0.9326923234824407\n",
      "F1 score of the best parameters: 0.9260730785832957\n",
      "Classification Report:\n",
      "               precision    recall  f1-score   support\n",
      "\n",
      "           0       0.94      0.92      0.93       489\n",
      "           1       0.95      0.96      0.96       449\n",
      "           2       0.93      0.86      0.90       410\n",
      "           3       0.90      0.94      0.92       877\n",
      "\n",
      "    accuracy                           0.93      2225\n",
      "   macro avg       0.93      0.92      0.93      2225\n",
      "weighted avg       0.93      0.93      0.93      2225\n",
      "\n",
      "Execution time: 1362.177012205124 seconds\n"
     ]
    }
   ],
   "source": [
    "# Perform hyperparameter tuning\n",
    "trials = Trials()\n",
    "\n",
    "# Measure execution time\n",
    "start_time = time.time()\n",
    "\n",
    "best = fmin(fn=objective, space=space, algo=tpe.suggest, max_evals=70, trials=trials)\n",
    "\n",
    "end_time = time.time()\n",
    "execution_time = end_time - start_time\n",
    "\n",
    "# Print best hyperparameters\n",
    "print(\"Best hyperparameters:\")\n",
    "print(best)\n",
    "\n",
    "# Calculate and print F1 score of the best parameters\n",
    "best_params = {\n",
    "    'n_estimators': int(best['n_estimators']),\n",
    "    'max_depth': int(best['max_depth']),\n",
    "    'min_samples_split': int(best['min_samples_split']),\n",
    "    'min_samples_leaf': int(best['min_samples_leaf']),\n",
    "    'random_state': 42,\n",
    "    'n_jobs':-1\n",
    "}\n",
    "clf = RandomForestClassifier(**best_params)\n",
    "clf.fit(X_train, y_train)\n",
    "y_pred = clf.predict(X_test)\n",
    "f1_from_best_loss = -(trials.best_trial['result']['loss']-1)\n",
    "best_f1 = f1_score(y_test, y_pred, average = 'weighted')\n",
    "class_report = classification_report(y_test,y_pred)\n",
    "print(\"F1 score from Loss:\", f1_from_best_loss )\n",
    "print(\"F1 score of the best parameters:\", best_f1)\n",
    "print(\"Classification Report:\\n\", class_report)\n",
    "# Print execution time\n",
    "print(\"Execution time:\", execution_time, \"seconds\")"
   ]
  },
  {
   "cell_type": "code",
   "execution_count": null,
   "id": "34493333",
   "metadata": {},
   "outputs": [],
   "source": []
  }
 ],
 "metadata": {
  "kernelspec": {
   "display_name": "Python 3 (ipykernel)",
   "language": "python",
   "name": "python3"
  },
  "language_info": {
   "codemirror_mode": {
    "name": "ipython",
    "version": 3
   },
   "file_extension": ".py",
   "mimetype": "text/x-python",
   "name": "python",
   "nbconvert_exporter": "python",
   "pygments_lexer": "ipython3",
   "version": "3.7.5"
  }
 },
 "nbformat": 4,
 "nbformat_minor": 5
}
