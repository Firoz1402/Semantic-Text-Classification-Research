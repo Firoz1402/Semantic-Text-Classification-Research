{
 "cells": [
  {
   "cell_type": "code",
   "execution_count": 1,
   "id": "13899ff0",
   "metadata": {},
   "outputs": [],
   "source": [
    "from sklearn.linear_model import LogisticRegression\n",
    "from sklearn.model_selection import train_test_split\n",
    "from sklearn.metrics import accuracy_score,classification_report, confusion_matrix\n",
    "import time\n",
    "import pandas as pd\n",
    "from sklearn.model_selection import GridSearchCV\n",
    "from sklearn.metrics import f1_score\n",
    "from hyperopt import fmin, tpe, hp, STATUS_OK, Trials, space_eval\n",
    "import numpy as np"
   ]
  },
  {
   "cell_type": "code",
   "execution_count": 2,
   "id": "39211a7f",
   "metadata": {},
   "outputs": [],
   "source": [
    "df = pd.read_csv('../Data/CleanedData.csv')"
   ]
  },
  {
   "cell_type": "code",
   "execution_count": 3,
   "id": "8d706fec",
   "metadata": {},
   "outputs": [],
   "source": [
    "from sklearn.feature_extraction.text import TfidfVectorizer\n",
    "tfidf= TfidfVectorizer(max_features=5000)"
   ]
  },
  {
   "cell_type": "code",
   "execution_count": 4,
   "id": "a91c2a61",
   "metadata": {},
   "outputs": [],
   "source": [
    "X= tfidf.fit_transform(df['transformed text'])\n",
    "y= df['subject'].values"
   ]
  },
  {
   "cell_type": "code",
   "execution_count": 5,
   "id": "bdfedcfb",
   "metadata": {},
   "outputs": [],
   "source": [
    "X_train, X_test, y_train, y_test = train_test_split(X, y,stratify=y, test_size=0.2, random_state=42)"
   ]
  },
  {
   "cell_type": "code",
   "execution_count": 6,
   "id": "b93e791f",
   "metadata": {},
   "outputs": [],
   "source": [
    "from imblearn.over_sampling import SMOTE\n",
    "smote = SMOTE(sampling_strategy='auto', random_state=42)\n",
    "X_resampled, y_resampled = smote.fit_resample(X_train, y_train)"
   ]
  },
  {
   "cell_type": "code",
   "execution_count": 7,
   "id": "afd70ad2",
   "metadata": {},
   "outputs": [],
   "source": [
    "def objective(params):\n",
    "    # Define hyperparameters\n",
    "    penalty = params['penalty']\n",
    "    C = params['C']\n",
    "    solver = params['solver']\n",
    "    max_iter = params['max_iter']\n",
    "    \n",
    "    # Exclude 'l1' penalty if the solver is 'lbfgs'\n",
    "    if solver == 'lbfgs' and penalty == 'l1':\n",
    "        return {'loss': 0, 'status': STATUS_OK}\n",
    "    \n",
    "    # Create a Logistic Regression classifier with the specified hyperparameters\n",
    "    clf = LogisticRegression(penalty=penalty, C=C, solver=solver, max_iter=max_iter,  random_state=42)\n",
    "    \n",
    "    # Train the classifier\n",
    "    clf.fit(X_resampled,y_resampled)\n",
    "    \n",
    "    # Make predictions on the test set\n",
    "    y_pred = clf.predict(X_test)\n",
    "    \n",
    "    # Calculate F1 score\n",
    "    f1 = f1_score(y_test, y_pred, average='weighted')\n",
    "    \n",
    "    return {'loss': -f1, 'status': STATUS_OK}"
   ]
  },
  {
   "cell_type": "code",
   "execution_count": 8,
   "id": "91232dd7",
   "metadata": {},
   "outputs": [],
   "source": [
    "space = {\n",
    "    'penalty': hp.choice('penalty', ['l1', 'l2']),\n",
    "    'C': hp.loguniform('C', np.log(1e-3), np.log(1e3)),\n",
    "    'max_iter': hp.choice('max_iter', [100, 200, 300, 400, 500]),  # Higher max_iter values\n",
    "    'solver': hp.choice('solver', ['liblinear', 'lbfgs', 'saga']),\n",
    "}"
   ]
  },
  {
   "cell_type": "code",
   "execution_count": 9,
   "id": "a9848475",
   "metadata": {},
   "outputs": [
    {
     "name": "stdout",
     "output_type": "stream",
     "text": [
      "  4%|▏     | 2/50 [18:45<8:40:21, 650.45s/trial, best loss: -0.7343512536103644]"
     ]
    },
    {
     "name": "stderr",
     "output_type": "stream",
     "text": [
      "/home/roronoa/.conda/envs/tf/lib/python3.7/site-packages/sklearn/linear_model/_sag.py:354: ConvergenceWarning: The max_iter was reached which means the coef_ did not converge\n",
      "  ConvergenceWarning,\n",
      "\n"
     ]
    },
    {
     "name": "stdout",
     "output_type": "stream",
     "text": [
      " 52%|██▌  | 26/50 [47:30<1:57:40, 294.21s/trial, best loss: -0.7614495774663261]"
     ]
    },
    {
     "name": "stderr",
     "output_type": "stream",
     "text": [
      "/home/roronoa/.conda/envs/tf/lib/python3.7/site-packages/sklearn/linear_model/_sag.py:354: ConvergenceWarning: The max_iter was reached which means the coef_ did not converge\n",
      "  ConvergenceWarning,\n",
      "\n"
     ]
    },
    {
     "name": "stdout",
     "output_type": "stream",
     "text": [
      " 62%|███  | 31/50 [1:00:29<50:13, 158.58s/trial, best loss: -0.7649167943176249]"
     ]
    },
    {
     "name": "stderr",
     "output_type": "stream",
     "text": [
      "/home/roronoa/.conda/envs/tf/lib/python3.7/site-packages/sklearn/linear_model/_sag.py:354: ConvergenceWarning: The max_iter was reached which means the coef_ did not converge\n",
      "  ConvergenceWarning,\n",
      "\n"
     ]
    },
    {
     "name": "stdout",
     "output_type": "stream",
     "text": [
      "\r",
      " 64%|█▉ | 32/50 [1:25:44<2:48:55, 563.10s/trial, best loss: -0.7649167943176249]"
     ]
    },
    {
     "name": "stderr",
     "output_type": "stream",
     "text": [
      "/home/roronoa/.conda/envs/tf/lib/python3.7/site-packages/sklearn/linear_model/_sag.py:354: ConvergenceWarning: The max_iter was reached which means the coef_ did not converge\n",
      "  ConvergenceWarning,\n",
      "\n"
     ]
    },
    {
     "name": "stdout",
     "output_type": "stream",
     "text": [
      "100%|█████| 50/50 [1:32:13<00:00, 110.68s/trial, best loss: -0.7649167943176249]\n",
      "Best Hyperparameters:\n",
      "{'C': 0.6857776654818881, 'max_iter': 500, 'penalty': 'l1', 'solver': 'saga'}\n",
      "Best Weighted F1 Score (Loss): 0.7649167943176249\n"
     ]
    }
   ],
   "source": [
    "trials = Trials()\n",
    "best = fmin(fn=objective,\n",
    "            space=space,\n",
    "            algo=tpe.suggest,\n",
    "            max_evals=50,  # Number of optimization iterations\n",
    "            trials=trials,\n",
    "            rstate=np.random.default_rng(42))\n",
    "\n",
    "# Get the best hyperparameters and the corresponding loss\n",
    "best_hyperparams = space_eval(space, best)\n",
    "best_loss = -trials.best_trial['result']['loss']\n",
    "\n",
    "# Print the best hyperparameters and corresponding loss\n",
    "print(\"Best Hyperparameters:\")\n",
    "print(best_hyperparams)\n",
    "print(\"Best Weighted F1 Score (Loss):\", best_loss)"
   ]
  },
  {
   "cell_type": "code",
   "execution_count": 11,
   "id": "4d01bcb4",
   "metadata": {},
   "outputs": [
    {
     "name": "stdout",
     "output_type": "stream",
     "text": [
      "Accuracy:  0.7881739130434783\n",
      "F1 Score:  0.7660676025880255\n"
     ]
    },
    {
     "name": "stderr",
     "output_type": "stream",
     "text": [
      "/home/roronoa/.conda/envs/tf/lib/python3.7/site-packages/sklearn/linear_model/_sag.py:354: ConvergenceWarning: The max_iter was reached which means the coef_ did not converge\n",
      "  ConvergenceWarning,\n"
     ]
    }
   ],
   "source": [
    "lr = LogisticRegression(C= 0.6857776654818881,penalty = 'l1',solver = 'saga')\n",
    "lr.fit(X_train,y_train)\n",
    "y_pred = lr.predict(X_test)\n",
    "acc = accuracy_score(y_test,y_pred)\n",
    "f1 = f1_score(y_test,y_pred, average ='weighted')\n",
    "print('Accuracy: ', acc)\n",
    "print('F1 Score: ', f1)"
   ]
  },
  {
   "cell_type": "code",
   "execution_count": null,
   "id": "588cdfd5",
   "metadata": {},
   "outputs": [],
   "source": [
    "from sklearn.svm import SVC\n",
    "sv = SVC()\n",
    "sv.fit(X_resampled,y_resampled)\n",
    "y_pred = sv.predict(X_test)\n",
    "acc = accuracy_score(y_test,y_pred)\n",
    "f1 = f1_score(y_test,y_pred, average ='weighted')\n",
    "print('Accuracy: ', acc)\n",
    "print('F1 Score: ', f1)"
   ]
  },
  {
   "cell_type": "code",
   "execution_count": 13,
   "id": "3ab36339",
   "metadata": {},
   "outputs": [
    {
     "data": {
      "text/plain": [
       "(84288, 5000)"
      ]
     },
     "execution_count": 13,
     "metadata": {},
     "output_type": "execute_result"
    }
   ],
   "source": []
  },
  {
   "cell_type": "code",
   "execution_count": null,
   "id": "9b2a768f",
   "metadata": {},
   "outputs": [],
   "source": []
  }
 ],
 "metadata": {
  "kernelspec": {
   "display_name": "Python 3 (ipykernel)",
   "language": "python",
   "name": "python3"
  },
  "language_info": {
   "codemirror_mode": {
    "name": "ipython",
    "version": 3
   },
   "file_extension": ".py",
   "mimetype": "text/x-python",
   "name": "python",
   "nbconvert_exporter": "python",
   "pygments_lexer": "ipython3",
   "version": "3.7.5"
  }
 },
 "nbformat": 4,
 "nbformat_minor": 5
}
