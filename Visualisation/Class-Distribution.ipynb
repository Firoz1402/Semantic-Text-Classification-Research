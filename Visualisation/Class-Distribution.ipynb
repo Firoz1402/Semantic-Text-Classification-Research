{
 "cells": [
  {
   "cell_type": "code",
   "execution_count": 2,
   "id": "126d45b3",
   "metadata": {},
   "outputs": [],
   "source": [
    "monochrome_palette = [\n",
    "    'rgb(230, 230, 255)',  # Very Light Blue\n",
    "    'rgb(200, 200, 255)',  # Light Blue\n",
    "    'rgb(170, 170, 255)',  # Medium Blue\n",
    "    'rgb(140, 140, 255)',  # Dark Blue\n",
    "    'rgb(110, 110, 255)',  # Very Dark Blue\n",
    "]\n"
   ]
  },
  {
   "cell_type": "code",
   "execution_count": 20,
   "id": "1cc808e7",
   "metadata": {},
   "outputs": [
    {
     "data": {
      "application/vnd.plotly.v1+json": {
       "config": {
        "plotlyServerURL": "https://plot.ly"
       },
       "data": [
        {
         "branchvalues": "total",
         "domain": {
          "x": [
           0,
           1
          ],
          "y": [
           0,
           1
          ]
         },
         "hovertemplate": "labels=%{label}<br>Count=%{value}<br>parent=%{parent}<br>id=%{id}<extra></extra>",
         "ids": [
          "Dataset 1(Total: 7570)/0",
          "Dataset 2(Total: 43125)/0",
          "Dataset 3 (Total: 27801)/0",
          "Dataset 4 (Total: 108112)/0",
          "Dataset 1(Total: 7570)/1",
          "Dataset 2(Total: 43125)/1",
          "Dataset 3 (Total: 27801)/1",
          "Dataset 4 (Total: 108112)/1",
          "Dataset 1(Total: 7570)/2",
          "Dataset 2(Total: 43125)/2",
          "Dataset 3 (Total: 27801)/2",
          "Dataset 4 (Total: 108112)/2",
          "Dataset 2(Total: 43125)/3",
          "Dataset 3 (Total: 27801)/3",
          "Dataset 4 (Total: 108112)/3",
          "Dataset 2(Total: 43125)/4",
          "Dataset 4 (Total: 108112)/4",
          "Dataset 2(Total: 43125)/5",
          "Dataset 4 (Total: 108112)/5",
          "Dataset 4 (Total: 108112)/6",
          "Dataset 4 (Total: 108112)/7",
          "Dataset 4 (Total: 108112)/8",
          "Dataset 4 (Total: 108112)/9",
          "Dataset 4 (Total: 108112)/10",
          "Dataset 4 (Total: 108112)/11",
          "Dataset 4 (Total: 108112)/12",
          "Dataset 4 (Total: 108112)/13",
          "Dataset 4 (Total: 108112)/14",
          "Dataset 4 (Total: 108112)/15",
          "Dataset 4 (Total: 108112)/16",
          "Dataset 4 (Total: 108112)/17",
          "Dataset 4 (Total: 108112)/18",
          "Dataset 4 (Total: 108112)/19",
          "Dataset 4 (Total: 108112)/20",
          "Dataset 4 (Total: 108112)/21",
          "Dataset 4 (Total: 108112)/22",
          "Dataset 4 (Total: 108112)/23",
          "Dataset 4 (Total: 108112)/24",
          "Dataset 4 (Total: 108112)/25",
          "Dataset 4 (Total: 108112)/26",
          "Dataset 1(Total: 7570)",
          "Dataset 2(Total: 43125)",
          "Dataset 3 (Total: 27801)",
          "Dataset 4 (Total: 108112)"
         ],
         "labels": [
          "0",
          "0",
          "0",
          "0",
          "1",
          "1",
          "1",
          "1",
          "2",
          "2",
          "2",
          "2",
          "3",
          "3",
          "3",
          "4",
          "4",
          "5",
          "5",
          "6",
          "7",
          "8",
          "9",
          "10",
          "11",
          "12",
          "13",
          "14",
          "15",
          "16",
          "17",
          "18",
          "19",
          "20",
          "21",
          "22",
          "23",
          "24",
          "25",
          "26",
          "Dataset 1(Total: 7570)",
          "Dataset 2(Total: 43125)",
          "Dataset 3 (Total: 27801)",
          "Dataset 4 (Total: 108112)"
         ],
         "name": "",
         "parents": [
          "Dataset 1(Total: 7570)",
          "Dataset 2(Total: 43125)",
          "Dataset 3 (Total: 27801)",
          "Dataset 4 (Total: 108112)",
          "Dataset 1(Total: 7570)",
          "Dataset 2(Total: 43125)",
          "Dataset 3 (Total: 27801)",
          "Dataset 4 (Total: 108112)",
          "Dataset 1(Total: 7570)",
          "Dataset 2(Total: 43125)",
          "Dataset 3 (Total: 27801)",
          "Dataset 4 (Total: 108112)",
          "Dataset 2(Total: 43125)",
          "Dataset 3 (Total: 27801)",
          "Dataset 4 (Total: 108112)",
          "Dataset 2(Total: 43125)",
          "Dataset 4 (Total: 108112)",
          "Dataset 2(Total: 43125)",
          "Dataset 4 (Total: 108112)",
          "Dataset 4 (Total: 108112)",
          "Dataset 4 (Total: 108112)",
          "Dataset 4 (Total: 108112)",
          "Dataset 4 (Total: 108112)",
          "Dataset 4 (Total: 108112)",
          "Dataset 4 (Total: 108112)",
          "Dataset 4 (Total: 108112)",
          "Dataset 4 (Total: 108112)",
          "Dataset 4 (Total: 108112)",
          "Dataset 4 (Total: 108112)",
          "Dataset 4 (Total: 108112)",
          "Dataset 4 (Total: 108112)",
          "Dataset 4 (Total: 108112)",
          "Dataset 4 (Total: 108112)",
          "Dataset 4 (Total: 108112)",
          "Dataset 4 (Total: 108112)",
          "Dataset 4 (Total: 108112)",
          "Dataset 4 (Total: 108112)",
          "Dataset 4 (Total: 108112)",
          "Dataset 4 (Total: 108112)",
          "Dataset 4 (Total: 108112)",
          "",
          "",
          "",
          ""
         ],
         "textfont": {
          "color": "rgb(0, 0, 0)",
          "size": 12
         },
         "textinfo": "label+value",
         "type": "treemap",
         "values": [
          2580,
          1487,
          6255,
          2626,
          2180,
          9050,
          5674,
          1179,
          2810,
          775,
          5308,
          1548,
          4264,
          10564,
          994,
          17560,
          529,
          9989,
          14860,
          1007,
          26152,
          27117,
          1546,
          645,
          387,
          486,
          4406,
          1437,
          548,
          636,
          362,
          1763,
          1340,
          1292,
          10114,
          859,
          775,
          3179,
          264,
          2061,
          7570,
          43125,
          27801,
          108112
         ]
        }
       ],
       "layout": {
        "legend": {
         "tracegroupgap": 0
        },
        "margin": {
         "t": 60
        },
        "template": {
         "data": {
          "bar": [
           {
            "error_x": {
             "color": "#2a3f5f"
            },
            "error_y": {
             "color": "#2a3f5f"
            },
            "marker": {
             "line": {
              "color": "#E5ECF6",
              "width": 0.5
             },
             "pattern": {
              "fillmode": "overlay",
              "size": 10,
              "solidity": 0.2
             }
            },
            "type": "bar"
           }
          ],
          "barpolar": [
           {
            "marker": {
             "line": {
              "color": "#E5ECF6",
              "width": 0.5
             },
             "pattern": {
              "fillmode": "overlay",
              "size": 10,
              "solidity": 0.2
             }
            },
            "type": "barpolar"
           }
          ],
          "carpet": [
           {
            "aaxis": {
             "endlinecolor": "#2a3f5f",
             "gridcolor": "white",
             "linecolor": "white",
             "minorgridcolor": "white",
             "startlinecolor": "#2a3f5f"
            },
            "baxis": {
             "endlinecolor": "#2a3f5f",
             "gridcolor": "white",
             "linecolor": "white",
             "minorgridcolor": "white",
             "startlinecolor": "#2a3f5f"
            },
            "type": "carpet"
           }
          ],
          "choropleth": [
           {
            "colorbar": {
             "outlinewidth": 0,
             "ticks": ""
            },
            "type": "choropleth"
           }
          ],
          "contour": [
           {
            "colorbar": {
             "outlinewidth": 0,
             "ticks": ""
            },
            "colorscale": [
             [
              0,
              "#0d0887"
             ],
             [
              0.1111111111111111,
              "#46039f"
             ],
             [
              0.2222222222222222,
              "#7201a8"
             ],
             [
              0.3333333333333333,
              "#9c179e"
             ],
             [
              0.4444444444444444,
              "#bd3786"
             ],
             [
              0.5555555555555556,
              "#d8576b"
             ],
             [
              0.6666666666666666,
              "#ed7953"
             ],
             [
              0.7777777777777778,
              "#fb9f3a"
             ],
             [
              0.8888888888888888,
              "#fdca26"
             ],
             [
              1,
              "#f0f921"
             ]
            ],
            "type": "contour"
           }
          ],
          "contourcarpet": [
           {
            "colorbar": {
             "outlinewidth": 0,
             "ticks": ""
            },
            "type": "contourcarpet"
           }
          ],
          "heatmap": [
           {
            "colorbar": {
             "outlinewidth": 0,
             "ticks": ""
            },
            "colorscale": [
             [
              0,
              "#0d0887"
             ],
             [
              0.1111111111111111,
              "#46039f"
             ],
             [
              0.2222222222222222,
              "#7201a8"
             ],
             [
              0.3333333333333333,
              "#9c179e"
             ],
             [
              0.4444444444444444,
              "#bd3786"
             ],
             [
              0.5555555555555556,
              "#d8576b"
             ],
             [
              0.6666666666666666,
              "#ed7953"
             ],
             [
              0.7777777777777778,
              "#fb9f3a"
             ],
             [
              0.8888888888888888,
              "#fdca26"
             ],
             [
              1,
              "#f0f921"
             ]
            ],
            "type": "heatmap"
           }
          ],
          "heatmapgl": [
           {
            "colorbar": {
             "outlinewidth": 0,
             "ticks": ""
            },
            "colorscale": [
             [
              0,
              "#0d0887"
             ],
             [
              0.1111111111111111,
              "#46039f"
             ],
             [
              0.2222222222222222,
              "#7201a8"
             ],
             [
              0.3333333333333333,
              "#9c179e"
             ],
             [
              0.4444444444444444,
              "#bd3786"
             ],
             [
              0.5555555555555556,
              "#d8576b"
             ],
             [
              0.6666666666666666,
              "#ed7953"
             ],
             [
              0.7777777777777778,
              "#fb9f3a"
             ],
             [
              0.8888888888888888,
              "#fdca26"
             ],
             [
              1,
              "#f0f921"
             ]
            ],
            "type": "heatmapgl"
           }
          ],
          "histogram": [
           {
            "marker": {
             "pattern": {
              "fillmode": "overlay",
              "size": 10,
              "solidity": 0.2
             }
            },
            "type": "histogram"
           }
          ],
          "histogram2d": [
           {
            "colorbar": {
             "outlinewidth": 0,
             "ticks": ""
            },
            "colorscale": [
             [
              0,
              "#0d0887"
             ],
             [
              0.1111111111111111,
              "#46039f"
             ],
             [
              0.2222222222222222,
              "#7201a8"
             ],
             [
              0.3333333333333333,
              "#9c179e"
             ],
             [
              0.4444444444444444,
              "#bd3786"
             ],
             [
              0.5555555555555556,
              "#d8576b"
             ],
             [
              0.6666666666666666,
              "#ed7953"
             ],
             [
              0.7777777777777778,
              "#fb9f3a"
             ],
             [
              0.8888888888888888,
              "#fdca26"
             ],
             [
              1,
              "#f0f921"
             ]
            ],
            "type": "histogram2d"
           }
          ],
          "histogram2dcontour": [
           {
            "colorbar": {
             "outlinewidth": 0,
             "ticks": ""
            },
            "colorscale": [
             [
              0,
              "#0d0887"
             ],
             [
              0.1111111111111111,
              "#46039f"
             ],
             [
              0.2222222222222222,
              "#7201a8"
             ],
             [
              0.3333333333333333,
              "#9c179e"
             ],
             [
              0.4444444444444444,
              "#bd3786"
             ],
             [
              0.5555555555555556,
              "#d8576b"
             ],
             [
              0.6666666666666666,
              "#ed7953"
             ],
             [
              0.7777777777777778,
              "#fb9f3a"
             ],
             [
              0.8888888888888888,
              "#fdca26"
             ],
             [
              1,
              "#f0f921"
             ]
            ],
            "type": "histogram2dcontour"
           }
          ],
          "mesh3d": [
           {
            "colorbar": {
             "outlinewidth": 0,
             "ticks": ""
            },
            "type": "mesh3d"
           }
          ],
          "parcoords": [
           {
            "line": {
             "colorbar": {
              "outlinewidth": 0,
              "ticks": ""
             }
            },
            "type": "parcoords"
           }
          ],
          "pie": [
           {
            "automargin": true,
            "type": "pie"
           }
          ],
          "scatter": [
           {
            "fillpattern": {
             "fillmode": "overlay",
             "size": 10,
             "solidity": 0.2
            },
            "type": "scatter"
           }
          ],
          "scatter3d": [
           {
            "line": {
             "colorbar": {
              "outlinewidth": 0,
              "ticks": ""
             }
            },
            "marker": {
             "colorbar": {
              "outlinewidth": 0,
              "ticks": ""
             }
            },
            "type": "scatter3d"
           }
          ],
          "scattercarpet": [
           {
            "marker": {
             "colorbar": {
              "outlinewidth": 0,
              "ticks": ""
             }
            },
            "type": "scattercarpet"
           }
          ],
          "scattergeo": [
           {
            "marker": {
             "colorbar": {
              "outlinewidth": 0,
              "ticks": ""
             }
            },
            "type": "scattergeo"
           }
          ],
          "scattergl": [
           {
            "marker": {
             "colorbar": {
              "outlinewidth": 0,
              "ticks": ""
             }
            },
            "type": "scattergl"
           }
          ],
          "scattermapbox": [
           {
            "marker": {
             "colorbar": {
              "outlinewidth": 0,
              "ticks": ""
             }
            },
            "type": "scattermapbox"
           }
          ],
          "scatterpolar": [
           {
            "marker": {
             "colorbar": {
              "outlinewidth": 0,
              "ticks": ""
             }
            },
            "type": "scatterpolar"
           }
          ],
          "scatterpolargl": [
           {
            "marker": {
             "colorbar": {
              "outlinewidth": 0,
              "ticks": ""
             }
            },
            "type": "scatterpolargl"
           }
          ],
          "scatterternary": [
           {
            "marker": {
             "colorbar": {
              "outlinewidth": 0,
              "ticks": ""
             }
            },
            "type": "scatterternary"
           }
          ],
          "surface": [
           {
            "colorbar": {
             "outlinewidth": 0,
             "ticks": ""
            },
            "colorscale": [
             [
              0,
              "#0d0887"
             ],
             [
              0.1111111111111111,
              "#46039f"
             ],
             [
              0.2222222222222222,
              "#7201a8"
             ],
             [
              0.3333333333333333,
              "#9c179e"
             ],
             [
              0.4444444444444444,
              "#bd3786"
             ],
             [
              0.5555555555555556,
              "#d8576b"
             ],
             [
              0.6666666666666666,
              "#ed7953"
             ],
             [
              0.7777777777777778,
              "#fb9f3a"
             ],
             [
              0.8888888888888888,
              "#fdca26"
             ],
             [
              1,
              "#f0f921"
             ]
            ],
            "type": "surface"
           }
          ],
          "table": [
           {
            "cells": {
             "fill": {
              "color": "#EBF0F8"
             },
             "line": {
              "color": "white"
             }
            },
            "header": {
             "fill": {
              "color": "#C8D4E3"
             },
             "line": {
              "color": "white"
             }
            },
            "type": "table"
           }
          ]
         },
         "layout": {
          "annotationdefaults": {
           "arrowcolor": "#2a3f5f",
           "arrowhead": 0,
           "arrowwidth": 1
          },
          "autotypenumbers": "strict",
          "coloraxis": {
           "colorbar": {
            "outlinewidth": 0,
            "ticks": ""
           }
          },
          "colorscale": {
           "diverging": [
            [
             0,
             "#8e0152"
            ],
            [
             0.1,
             "#c51b7d"
            ],
            [
             0.2,
             "#de77ae"
            ],
            [
             0.3,
             "#f1b6da"
            ],
            [
             0.4,
             "#fde0ef"
            ],
            [
             0.5,
             "#f7f7f7"
            ],
            [
             0.6,
             "#e6f5d0"
            ],
            [
             0.7,
             "#b8e186"
            ],
            [
             0.8,
             "#7fbc41"
            ],
            [
             0.9,
             "#4d9221"
            ],
            [
             1,
             "#276419"
            ]
           ],
           "sequential": [
            [
             0,
             "#0d0887"
            ],
            [
             0.1111111111111111,
             "#46039f"
            ],
            [
             0.2222222222222222,
             "#7201a8"
            ],
            [
             0.3333333333333333,
             "#9c179e"
            ],
            [
             0.4444444444444444,
             "#bd3786"
            ],
            [
             0.5555555555555556,
             "#d8576b"
            ],
            [
             0.6666666666666666,
             "#ed7953"
            ],
            [
             0.7777777777777778,
             "#fb9f3a"
            ],
            [
             0.8888888888888888,
             "#fdca26"
            ],
            [
             1,
             "#f0f921"
            ]
           ],
           "sequentialminus": [
            [
             0,
             "#0d0887"
            ],
            [
             0.1111111111111111,
             "#46039f"
            ],
            [
             0.2222222222222222,
             "#7201a8"
            ],
            [
             0.3333333333333333,
             "#9c179e"
            ],
            [
             0.4444444444444444,
             "#bd3786"
            ],
            [
             0.5555555555555556,
             "#d8576b"
            ],
            [
             0.6666666666666666,
             "#ed7953"
            ],
            [
             0.7777777777777778,
             "#fb9f3a"
            ],
            [
             0.8888888888888888,
             "#fdca26"
            ],
            [
             1,
             "#f0f921"
            ]
           ]
          },
          "colorway": [
           "#636efa",
           "#EF553B",
           "#00cc96",
           "#ab63fa",
           "#FFA15A",
           "#19d3f3",
           "#FF6692",
           "#B6E880",
           "#FF97FF",
           "#FECB52"
          ],
          "font": {
           "color": "#2a3f5f"
          },
          "geo": {
           "bgcolor": "white",
           "lakecolor": "white",
           "landcolor": "#E5ECF6",
           "showlakes": true,
           "showland": true,
           "subunitcolor": "white"
          },
          "hoverlabel": {
           "align": "left"
          },
          "hovermode": "closest",
          "mapbox": {
           "style": "light"
          },
          "paper_bgcolor": "white",
          "plot_bgcolor": "#E5ECF6",
          "polar": {
           "angularaxis": {
            "gridcolor": "white",
            "linecolor": "white",
            "ticks": ""
           },
           "bgcolor": "#E5ECF6",
           "radialaxis": {
            "gridcolor": "white",
            "linecolor": "white",
            "ticks": ""
           }
          },
          "scene": {
           "xaxis": {
            "backgroundcolor": "#E5ECF6",
            "gridcolor": "white",
            "gridwidth": 2,
            "linecolor": "white",
            "showbackground": true,
            "ticks": "",
            "zerolinecolor": "white"
           },
           "yaxis": {
            "backgroundcolor": "#E5ECF6",
            "gridcolor": "white",
            "gridwidth": 2,
            "linecolor": "white",
            "showbackground": true,
            "ticks": "",
            "zerolinecolor": "white"
           },
           "zaxis": {
            "backgroundcolor": "#E5ECF6",
            "gridcolor": "white",
            "gridwidth": 2,
            "linecolor": "white",
            "showbackground": true,
            "ticks": "",
            "zerolinecolor": "white"
           }
          },
          "shapedefaults": {
           "line": {
            "color": "#2a3f5f"
           }
          },
          "ternary": {
           "aaxis": {
            "gridcolor": "white",
            "linecolor": "white",
            "ticks": ""
           },
           "baxis": {
            "gridcolor": "white",
            "linecolor": "white",
            "ticks": ""
           },
           "bgcolor": "#E5ECF6",
           "caxis": {
            "gridcolor": "white",
            "linecolor": "white",
            "ticks": ""
           }
          },
          "title": {
           "x": 0.05
          },
          "xaxis": {
           "automargin": true,
           "gridcolor": "white",
           "linecolor": "white",
           "ticks": "",
           "title": {
            "standoff": 15
           },
           "zerolinecolor": "white",
           "zerolinewidth": 2
          },
          "yaxis": {
           "automargin": true,
           "gridcolor": "white",
           "linecolor": "white",
           "ticks": "",
           "title": {
            "standoff": 15
           },
           "zerolinecolor": "white",
           "zerolinewidth": 2
          }
         }
        },
        "treemapcolorway": [
         "rgb(230, 230, 255)",
         "rgb(200, 200, 255)",
         "rgb(170, 170, 255)",
         "rgb(140, 140, 255)",
         "rgb(110, 110, 255)"
        ]
       }
      },
      "text/html": [
       "<div>                            <div id=\"114cf5f5-2826-49e7-8f4a-cb9eeb40bbb7\" class=\"plotly-graph-div\" style=\"height:525px; width:100%;\"></div>            <script type=\"text/javascript\">                require([\"plotly\"], function(Plotly) {                    window.PLOTLYENV=window.PLOTLYENV || {};                                    if (document.getElementById(\"114cf5f5-2826-49e7-8f4a-cb9eeb40bbb7\")) {                    Plotly.newPlot(                        \"114cf5f5-2826-49e7-8f4a-cb9eeb40bbb7\",                        [{\"branchvalues\":\"total\",\"domain\":{\"x\":[0.0,1.0],\"y\":[0.0,1.0]},\"hovertemplate\":\"labels=%{label}\\u003cbr\\u003eCount=%{value}\\u003cbr\\u003eparent=%{parent}\\u003cbr\\u003eid=%{id}\\u003cextra\\u003e\\u003c\\u002fextra\\u003e\",\"ids\":[\"Dataset 1(Total: 7570)\\u002f0\",\"Dataset 2(Total: 43125)\\u002f0\",\"Dataset 3 (Total: 27801)\\u002f0\",\"Dataset 4 (Total: 108112)\\u002f0\",\"Dataset 1(Total: 7570)\\u002f1\",\"Dataset 2(Total: 43125)\\u002f1\",\"Dataset 3 (Total: 27801)\\u002f1\",\"Dataset 4 (Total: 108112)\\u002f1\",\"Dataset 1(Total: 7570)\\u002f2\",\"Dataset 2(Total: 43125)\\u002f2\",\"Dataset 3 (Total: 27801)\\u002f2\",\"Dataset 4 (Total: 108112)\\u002f2\",\"Dataset 2(Total: 43125)\\u002f3\",\"Dataset 3 (Total: 27801)\\u002f3\",\"Dataset 4 (Total: 108112)\\u002f3\",\"Dataset 2(Total: 43125)\\u002f4\",\"Dataset 4 (Total: 108112)\\u002f4\",\"Dataset 2(Total: 43125)\\u002f5\",\"Dataset 4 (Total: 108112)\\u002f5\",\"Dataset 4 (Total: 108112)\\u002f6\",\"Dataset 4 (Total: 108112)\\u002f7\",\"Dataset 4 (Total: 108112)\\u002f8\",\"Dataset 4 (Total: 108112)\\u002f9\",\"Dataset 4 (Total: 108112)\\u002f10\",\"Dataset 4 (Total: 108112)\\u002f11\",\"Dataset 4 (Total: 108112)\\u002f12\",\"Dataset 4 (Total: 108112)\\u002f13\",\"Dataset 4 (Total: 108112)\\u002f14\",\"Dataset 4 (Total: 108112)\\u002f15\",\"Dataset 4 (Total: 108112)\\u002f16\",\"Dataset 4 (Total: 108112)\\u002f17\",\"Dataset 4 (Total: 108112)\\u002f18\",\"Dataset 4 (Total: 108112)\\u002f19\",\"Dataset 4 (Total: 108112)\\u002f20\",\"Dataset 4 (Total: 108112)\\u002f21\",\"Dataset 4 (Total: 108112)\\u002f22\",\"Dataset 4 (Total: 108112)\\u002f23\",\"Dataset 4 (Total: 108112)\\u002f24\",\"Dataset 4 (Total: 108112)\\u002f25\",\"Dataset 4 (Total: 108112)\\u002f26\",\"Dataset 1(Total: 7570)\",\"Dataset 2(Total: 43125)\",\"Dataset 3 (Total: 27801)\",\"Dataset 4 (Total: 108112)\"],\"labels\":[\"0\",\"0\",\"0\",\"0\",\"1\",\"1\",\"1\",\"1\",\"2\",\"2\",\"2\",\"2\",\"3\",\"3\",\"3\",\"4\",\"4\",\"5\",\"5\",\"6\",\"7\",\"8\",\"9\",\"10\",\"11\",\"12\",\"13\",\"14\",\"15\",\"16\",\"17\",\"18\",\"19\",\"20\",\"21\",\"22\",\"23\",\"24\",\"25\",\"26\",\"Dataset 1(Total: 7570)\",\"Dataset 2(Total: 43125)\",\"Dataset 3 (Total: 27801)\",\"Dataset 4 (Total: 108112)\"],\"name\":\"\",\"parents\":[\"Dataset 1(Total: 7570)\",\"Dataset 2(Total: 43125)\",\"Dataset 3 (Total: 27801)\",\"Dataset 4 (Total: 108112)\",\"Dataset 1(Total: 7570)\",\"Dataset 2(Total: 43125)\",\"Dataset 3 (Total: 27801)\",\"Dataset 4 (Total: 108112)\",\"Dataset 1(Total: 7570)\",\"Dataset 2(Total: 43125)\",\"Dataset 3 (Total: 27801)\",\"Dataset 4 (Total: 108112)\",\"Dataset 2(Total: 43125)\",\"Dataset 3 (Total: 27801)\",\"Dataset 4 (Total: 108112)\",\"Dataset 2(Total: 43125)\",\"Dataset 4 (Total: 108112)\",\"Dataset 2(Total: 43125)\",\"Dataset 4 (Total: 108112)\",\"Dataset 4 (Total: 108112)\",\"Dataset 4 (Total: 108112)\",\"Dataset 4 (Total: 108112)\",\"Dataset 4 (Total: 108112)\",\"Dataset 4 (Total: 108112)\",\"Dataset 4 (Total: 108112)\",\"Dataset 4 (Total: 108112)\",\"Dataset 4 (Total: 108112)\",\"Dataset 4 (Total: 108112)\",\"Dataset 4 (Total: 108112)\",\"Dataset 4 (Total: 108112)\",\"Dataset 4 (Total: 108112)\",\"Dataset 4 (Total: 108112)\",\"Dataset 4 (Total: 108112)\",\"Dataset 4 (Total: 108112)\",\"Dataset 4 (Total: 108112)\",\"Dataset 4 (Total: 108112)\",\"Dataset 4 (Total: 108112)\",\"Dataset 4 (Total: 108112)\",\"Dataset 4 (Total: 108112)\",\"Dataset 4 (Total: 108112)\",\"\",\"\",\"\",\"\"],\"values\":[2580,1487,6255,2626,2180,9050,5674,1179,2810,775,5308,1548,4264,10564,994,17560,529,9989,14860,1007,26152,27117,1546,645,387,486,4406,1437,548,636,362,1763,1340,1292,10114,859,775,3179,264,2061,7570,43125,27801,108112],\"type\":\"treemap\",\"textfont\":{\"color\":\"rgb(0, 0, 0)\",\"size\":12},\"textinfo\":\"label+value\"}],                        {\"template\":{\"data\":{\"histogram2dcontour\":[{\"type\":\"histogram2dcontour\",\"colorbar\":{\"outlinewidth\":0,\"ticks\":\"\"},\"colorscale\":[[0.0,\"#0d0887\"],[0.1111111111111111,\"#46039f\"],[0.2222222222222222,\"#7201a8\"],[0.3333333333333333,\"#9c179e\"],[0.4444444444444444,\"#bd3786\"],[0.5555555555555556,\"#d8576b\"],[0.6666666666666666,\"#ed7953\"],[0.7777777777777778,\"#fb9f3a\"],[0.8888888888888888,\"#fdca26\"],[1.0,\"#f0f921\"]]}],\"choropleth\":[{\"type\":\"choropleth\",\"colorbar\":{\"outlinewidth\":0,\"ticks\":\"\"}}],\"histogram2d\":[{\"type\":\"histogram2d\",\"colorbar\":{\"outlinewidth\":0,\"ticks\":\"\"},\"colorscale\":[[0.0,\"#0d0887\"],[0.1111111111111111,\"#46039f\"],[0.2222222222222222,\"#7201a8\"],[0.3333333333333333,\"#9c179e\"],[0.4444444444444444,\"#bd3786\"],[0.5555555555555556,\"#d8576b\"],[0.6666666666666666,\"#ed7953\"],[0.7777777777777778,\"#fb9f3a\"],[0.8888888888888888,\"#fdca26\"],[1.0,\"#f0f921\"]]}],\"heatmap\":[{\"type\":\"heatmap\",\"colorbar\":{\"outlinewidth\":0,\"ticks\":\"\"},\"colorscale\":[[0.0,\"#0d0887\"],[0.1111111111111111,\"#46039f\"],[0.2222222222222222,\"#7201a8\"],[0.3333333333333333,\"#9c179e\"],[0.4444444444444444,\"#bd3786\"],[0.5555555555555556,\"#d8576b\"],[0.6666666666666666,\"#ed7953\"],[0.7777777777777778,\"#fb9f3a\"],[0.8888888888888888,\"#fdca26\"],[1.0,\"#f0f921\"]]}],\"heatmapgl\":[{\"type\":\"heatmapgl\",\"colorbar\":{\"outlinewidth\":0,\"ticks\":\"\"},\"colorscale\":[[0.0,\"#0d0887\"],[0.1111111111111111,\"#46039f\"],[0.2222222222222222,\"#7201a8\"],[0.3333333333333333,\"#9c179e\"],[0.4444444444444444,\"#bd3786\"],[0.5555555555555556,\"#d8576b\"],[0.6666666666666666,\"#ed7953\"],[0.7777777777777778,\"#fb9f3a\"],[0.8888888888888888,\"#fdca26\"],[1.0,\"#f0f921\"]]}],\"contourcarpet\":[{\"type\":\"contourcarpet\",\"colorbar\":{\"outlinewidth\":0,\"ticks\":\"\"}}],\"contour\":[{\"type\":\"contour\",\"colorbar\":{\"outlinewidth\":0,\"ticks\":\"\"},\"colorscale\":[[0.0,\"#0d0887\"],[0.1111111111111111,\"#46039f\"],[0.2222222222222222,\"#7201a8\"],[0.3333333333333333,\"#9c179e\"],[0.4444444444444444,\"#bd3786\"],[0.5555555555555556,\"#d8576b\"],[0.6666666666666666,\"#ed7953\"],[0.7777777777777778,\"#fb9f3a\"],[0.8888888888888888,\"#fdca26\"],[1.0,\"#f0f921\"]]}],\"surface\":[{\"type\":\"surface\",\"colorbar\":{\"outlinewidth\":0,\"ticks\":\"\"},\"colorscale\":[[0.0,\"#0d0887\"],[0.1111111111111111,\"#46039f\"],[0.2222222222222222,\"#7201a8\"],[0.3333333333333333,\"#9c179e\"],[0.4444444444444444,\"#bd3786\"],[0.5555555555555556,\"#d8576b\"],[0.6666666666666666,\"#ed7953\"],[0.7777777777777778,\"#fb9f3a\"],[0.8888888888888888,\"#fdca26\"],[1.0,\"#f0f921\"]]}],\"mesh3d\":[{\"type\":\"mesh3d\",\"colorbar\":{\"outlinewidth\":0,\"ticks\":\"\"}}],\"scatter\":[{\"fillpattern\":{\"fillmode\":\"overlay\",\"size\":10,\"solidity\":0.2},\"type\":\"scatter\"}],\"parcoords\":[{\"type\":\"parcoords\",\"line\":{\"colorbar\":{\"outlinewidth\":0,\"ticks\":\"\"}}}],\"scatterpolargl\":[{\"type\":\"scatterpolargl\",\"marker\":{\"colorbar\":{\"outlinewidth\":0,\"ticks\":\"\"}}}],\"bar\":[{\"error_x\":{\"color\":\"#2a3f5f\"},\"error_y\":{\"color\":\"#2a3f5f\"},\"marker\":{\"line\":{\"color\":\"#E5ECF6\",\"width\":0.5},\"pattern\":{\"fillmode\":\"overlay\",\"size\":10,\"solidity\":0.2}},\"type\":\"bar\"}],\"scattergeo\":[{\"type\":\"scattergeo\",\"marker\":{\"colorbar\":{\"outlinewidth\":0,\"ticks\":\"\"}}}],\"scatterpolar\":[{\"type\":\"scatterpolar\",\"marker\":{\"colorbar\":{\"outlinewidth\":0,\"ticks\":\"\"}}}],\"histogram\":[{\"marker\":{\"pattern\":{\"fillmode\":\"overlay\",\"size\":10,\"solidity\":0.2}},\"type\":\"histogram\"}],\"scattergl\":[{\"type\":\"scattergl\",\"marker\":{\"colorbar\":{\"outlinewidth\":0,\"ticks\":\"\"}}}],\"scatter3d\":[{\"type\":\"scatter3d\",\"line\":{\"colorbar\":{\"outlinewidth\":0,\"ticks\":\"\"}},\"marker\":{\"colorbar\":{\"outlinewidth\":0,\"ticks\":\"\"}}}],\"scattermapbox\":[{\"type\":\"scattermapbox\",\"marker\":{\"colorbar\":{\"outlinewidth\":0,\"ticks\":\"\"}}}],\"scatterternary\":[{\"type\":\"scatterternary\",\"marker\":{\"colorbar\":{\"outlinewidth\":0,\"ticks\":\"\"}}}],\"scattercarpet\":[{\"type\":\"scattercarpet\",\"marker\":{\"colorbar\":{\"outlinewidth\":0,\"ticks\":\"\"}}}],\"carpet\":[{\"aaxis\":{\"endlinecolor\":\"#2a3f5f\",\"gridcolor\":\"white\",\"linecolor\":\"white\",\"minorgridcolor\":\"white\",\"startlinecolor\":\"#2a3f5f\"},\"baxis\":{\"endlinecolor\":\"#2a3f5f\",\"gridcolor\":\"white\",\"linecolor\":\"white\",\"minorgridcolor\":\"white\",\"startlinecolor\":\"#2a3f5f\"},\"type\":\"carpet\"}],\"table\":[{\"cells\":{\"fill\":{\"color\":\"#EBF0F8\"},\"line\":{\"color\":\"white\"}},\"header\":{\"fill\":{\"color\":\"#C8D4E3\"},\"line\":{\"color\":\"white\"}},\"type\":\"table\"}],\"barpolar\":[{\"marker\":{\"line\":{\"color\":\"#E5ECF6\",\"width\":0.5},\"pattern\":{\"fillmode\":\"overlay\",\"size\":10,\"solidity\":0.2}},\"type\":\"barpolar\"}],\"pie\":[{\"automargin\":true,\"type\":\"pie\"}]},\"layout\":{\"autotypenumbers\":\"strict\",\"colorway\":[\"#636efa\",\"#EF553B\",\"#00cc96\",\"#ab63fa\",\"#FFA15A\",\"#19d3f3\",\"#FF6692\",\"#B6E880\",\"#FF97FF\",\"#FECB52\"],\"font\":{\"color\":\"#2a3f5f\"},\"hovermode\":\"closest\",\"hoverlabel\":{\"align\":\"left\"},\"paper_bgcolor\":\"white\",\"plot_bgcolor\":\"#E5ECF6\",\"polar\":{\"bgcolor\":\"#E5ECF6\",\"angularaxis\":{\"gridcolor\":\"white\",\"linecolor\":\"white\",\"ticks\":\"\"},\"radialaxis\":{\"gridcolor\":\"white\",\"linecolor\":\"white\",\"ticks\":\"\"}},\"ternary\":{\"bgcolor\":\"#E5ECF6\",\"aaxis\":{\"gridcolor\":\"white\",\"linecolor\":\"white\",\"ticks\":\"\"},\"baxis\":{\"gridcolor\":\"white\",\"linecolor\":\"white\",\"ticks\":\"\"},\"caxis\":{\"gridcolor\":\"white\",\"linecolor\":\"white\",\"ticks\":\"\"}},\"coloraxis\":{\"colorbar\":{\"outlinewidth\":0,\"ticks\":\"\"}},\"colorscale\":{\"sequential\":[[0.0,\"#0d0887\"],[0.1111111111111111,\"#46039f\"],[0.2222222222222222,\"#7201a8\"],[0.3333333333333333,\"#9c179e\"],[0.4444444444444444,\"#bd3786\"],[0.5555555555555556,\"#d8576b\"],[0.6666666666666666,\"#ed7953\"],[0.7777777777777778,\"#fb9f3a\"],[0.8888888888888888,\"#fdca26\"],[1.0,\"#f0f921\"]],\"sequentialminus\":[[0.0,\"#0d0887\"],[0.1111111111111111,\"#46039f\"],[0.2222222222222222,\"#7201a8\"],[0.3333333333333333,\"#9c179e\"],[0.4444444444444444,\"#bd3786\"],[0.5555555555555556,\"#d8576b\"],[0.6666666666666666,\"#ed7953\"],[0.7777777777777778,\"#fb9f3a\"],[0.8888888888888888,\"#fdca26\"],[1.0,\"#f0f921\"]],\"diverging\":[[0,\"#8e0152\"],[0.1,\"#c51b7d\"],[0.2,\"#de77ae\"],[0.3,\"#f1b6da\"],[0.4,\"#fde0ef\"],[0.5,\"#f7f7f7\"],[0.6,\"#e6f5d0\"],[0.7,\"#b8e186\"],[0.8,\"#7fbc41\"],[0.9,\"#4d9221\"],[1,\"#276419\"]]},\"xaxis\":{\"gridcolor\":\"white\",\"linecolor\":\"white\",\"ticks\":\"\",\"title\":{\"standoff\":15},\"zerolinecolor\":\"white\",\"automargin\":true,\"zerolinewidth\":2},\"yaxis\":{\"gridcolor\":\"white\",\"linecolor\":\"white\",\"ticks\":\"\",\"title\":{\"standoff\":15},\"zerolinecolor\":\"white\",\"automargin\":true,\"zerolinewidth\":2},\"scene\":{\"xaxis\":{\"backgroundcolor\":\"#E5ECF6\",\"gridcolor\":\"white\",\"linecolor\":\"white\",\"showbackground\":true,\"ticks\":\"\",\"zerolinecolor\":\"white\",\"gridwidth\":2},\"yaxis\":{\"backgroundcolor\":\"#E5ECF6\",\"gridcolor\":\"white\",\"linecolor\":\"white\",\"showbackground\":true,\"ticks\":\"\",\"zerolinecolor\":\"white\",\"gridwidth\":2},\"zaxis\":{\"backgroundcolor\":\"#E5ECF6\",\"gridcolor\":\"white\",\"linecolor\":\"white\",\"showbackground\":true,\"ticks\":\"\",\"zerolinecolor\":\"white\",\"gridwidth\":2}},\"shapedefaults\":{\"line\":{\"color\":\"#2a3f5f\"}},\"annotationdefaults\":{\"arrowcolor\":\"#2a3f5f\",\"arrowhead\":0,\"arrowwidth\":1},\"geo\":{\"bgcolor\":\"white\",\"landcolor\":\"#E5ECF6\",\"subunitcolor\":\"white\",\"showland\":true,\"showlakes\":true,\"lakecolor\":\"white\"},\"title\":{\"x\":0.05},\"mapbox\":{\"style\":\"light\"}}},\"legend\":{\"tracegroupgap\":0},\"margin\":{\"t\":60},\"treemapcolorway\":[\"rgb(230, 230, 255)\",\"rgb(200, 200, 255)\",\"rgb(170, 170, 255)\",\"rgb(140, 140, 255)\",\"rgb(110, 110, 255)\"]},                        {\"responsive\": true}                    ).then(function(){\n",
       "                            \n",
       "var gd = document.getElementById('114cf5f5-2826-49e7-8f4a-cb9eeb40bbb7');\n",
       "var x = new MutationObserver(function (mutations, observer) {{\n",
       "        var display = window.getComputedStyle(gd).display;\n",
       "        if (!display || display === 'none') {{\n",
       "            console.log([gd, 'removed!']);\n",
       "            Plotly.purge(gd);\n",
       "            observer.disconnect();\n",
       "        }}\n",
       "}});\n",
       "\n",
       "// Listen for the removal of the full notebook cells\n",
       "var notebookContainer = gd.closest('#notebook-container');\n",
       "if (notebookContainer) {{\n",
       "    x.observe(notebookContainer, {childList: true});\n",
       "}}\n",
       "\n",
       "// Listen for the clearing of the current output cell\n",
       "var outputEl = gd.closest('.output');\n",
       "if (outputEl) {{\n",
       "    x.observe(outputEl, {childList: true});\n",
       "}}\n",
       "\n",
       "                        })                };                });            </script>        </div>"
      ]
     },
     "metadata": {},
     "output_type": "display_data"
    }
   ],
   "source": [
    "import pandas as pd\n",
    "import plotly.express as px\n",
    "\n",
    "file1 = \"../Data/CleanedMedicalDataset.csv\"\n",
    "file2 = \"../Data/CleanedData.csv\"\n",
    "file3= \"../Data/CleanedEcommerce.csv\"\n",
    "file4 = \"../Data/Movie_Genre(Dataset1).csv\"\n",
    "# Read your CSV datasets\n",
    "df1 = pd.read_csv(file1)\n",
    "df2 = pd.read_csv(file2)\n",
    "df3 = pd.read_csv(file3)\n",
    "df4 = pd.read_csv(file4)\n",
    "\n",
    "# Calculate class distributions for each dataset\n",
    "class_distribution1 = df1['label'].value_counts().reset_index()\n",
    "class_distribution1.columns = ['Class', 'Count']\n",
    "\n",
    "class_distribution2 = df2['subject'].value_counts().reset_index()\n",
    "class_distribution2.columns = ['Class', 'Count']\n",
    "\n",
    "class_distribution3 = df3['label'].value_counts().reset_index()\n",
    "class_distribution3.columns = ['Class', 'Count']\n",
    "\n",
    "class_distribution4 = df4['genre'].value_counts().reset_index()\n",
    "class_distribution4.columns = ['Class', 'Count']\n",
    "\n",
    "\n",
    "# Calculate the total size of each dataset\n",
    "total_size1 = len(df1)\n",
    "total_size2 = len(df2)\n",
    "total_size3 = len(df3)\n",
    "total_size4 = len(df4)\n",
    "\n",
    "# Create a DataFrame for the tree map\n",
    "data = pd.DataFrame({\n",
    "    'Dataset': [f'Dataset 1(Total: {total_size1})'] * len(class_distribution1) + [f'Dataset 2(Total: {total_size2})'] * len(class_distribution2) + \n",
    "                    [f'Dataset 3 (Total: {total_size3})'] * len(class_distribution3) + [f'Dataset 4 (Total: {total_size4})'] * len(class_distribution4) ,\n",
    "    'Class': list(class_distribution1['Class']) + list(class_distribution2['Class']) + list(class_distribution3['Class']) + list(class_distribution4['Class']),\n",
    "    'Count': list(class_distribution1['Count']) + list(class_distribution2['Count']) + list(class_distribution3['Count']) + list(class_distribution4['Count'])\n",
    "})\n",
    "\n",
    "\n",
    "\n",
    "# Create a tree map using Plotly\n",
    "fig = px.treemap(data, path=['Dataset', 'Class'], values='Count',\n",
    "                 title='', color_discrete_sequence=monochrome_palette)\n",
    "\n",
    "# Add the count of each dataset to the tree map\n",
    "# Add the count of the dataset to the tree map\n",
    "fig.update_traces(textinfo='label+value', textfont=dict(color='rgb(0, 0, 0)'), textfont_size=12)\n",
    "\n",
    "fig.write_image(\"tree_map.png\", engine=\"kaleido\", width=1200, height=800, scale=4)\n",
    "fig.show()\n"
   ]
  },
  {
   "cell_type": "code",
   "execution_count": 4,
   "id": "0ab5703e",
   "metadata": {},
   "outputs": [],
   "source": [
    "file1 = \"../Data/CleanedMedicalDataset.csv\"\n",
    "file2 = \"../Data/CleanedData.csv\"\n",
    "file3= \"../Data/CleanedEcommerce.csv\"\n",
    "file4 = \"../Data/Movie_Genre(Dataset1).csv\"\n",
    "# Read your CSV datasets\n",
    "df1 = pd.read_csv(file1)\n",
    "df2 = pd.read_csv(file2)\n",
    "df3 = pd.read_csv(file3)\n",
    "df4 = pd.read_csv(file4)"
   ]
  },
  {
   "cell_type": "code",
   "execution_count": 10,
   "id": "71e18132",
   "metadata": {},
   "outputs": [
    {
     "data": {
      "text/plain": [
       "label    0\n",
       "desc     0\n",
       "dtype: int64"
      ]
     },
     "execution_count": 10,
     "metadata": {},
     "output_type": "execute_result"
    }
   ],
   "source": []
  },
  {
   "cell_type": "code",
   "execution_count": null,
   "id": "06820227",
   "metadata": {},
   "outputs": [],
   "source": []
  }
 ],
 "metadata": {
  "kernelspec": {
   "display_name": "Python 3 (ipykernel)",
   "language": "python",
   "name": "python3"
  },
  "language_info": {
   "codemirror_mode": {
    "name": "ipython",
    "version": 3
   },
   "file_extension": ".py",
   "mimetype": "text/x-python",
   "name": "python",
   "nbconvert_exporter": "python",
   "pygments_lexer": "ipython3",
   "version": "3.7.5"
  }
 },
 "nbformat": 4,
 "nbformat_minor": 5
}
