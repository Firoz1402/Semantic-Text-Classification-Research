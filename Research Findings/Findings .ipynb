{
 "cells": [
  {
   "cell_type": "code",
   "execution_count": 26,
   "id": "9c43cb9e",
   "metadata": {},
   "outputs": [],
   "source": [
    "import pandas as pd"
   ]
  },
  {
   "cell_type": "code",
   "execution_count": 27,
   "id": "5ed20d2a",
   "metadata": {},
   "outputs": [],
   "source": [
    "\n",
    "\n",
    "# Create a dictionary to store the data\n",
    "data = {\n",
    "    'Dataset' :['Dataset 1(Movie-Genre)', 'Dataset 2(News)', 'Dataset 3(Medical)', 'Dataset 4'],\n",
    "    'SVM': [0.52, 0.766, 0.946, 0.9591],\n",
    "    'Logistic Reg': [0.534, 0.766, 0.944, 0.9546],\n",
    "    'Naive-Bayes': [0.52, 0.73, 0.93, 0.9379],\n",
    "    'Random Forest': [0.43, 0.72, 0.9587, 0.931],\n",
    "    'XGBoost': [0.49, 0.746, 0.9592, 0.9312],\n",
    "    'D Trees': [0.39, 0.72, 0.94, 0.88],\n",
    "    'RNN': [0.39, 0.63, 0.95, 0.888],\n",
    "    'LSTM': [0.5, 0.75, 0.9583, 0.93],\n",
    "    'BERT': [0.62, 0.835, 0.9585, 0.9611]\n",
    "}\n",
    "\n",
    "# Create the DataFrame\n",
    "df = pd.DataFrame(data)\n",
    "# Add a 'Best Algorithm' column\n",
    "df['Best'] = df.iloc[:, 1:].idxmax(axis=1)\n",
    "\n",
    "\n",
    "# Display the DataFrame\n"
   ]
  },
  {
   "cell_type": "code",
   "execution_count": 28,
   "id": "142b0e26",
   "metadata": {},
   "outputs": [],
   "source": [
    "df.to_csv('Findings-F1 Score.csv', index = True)"
   ]
  },
  {
   "cell_type": "code",
   "execution_count": 29,
   "id": "ba6a6f79",
   "metadata": {},
   "outputs": [
    {
     "data": {
      "text/html": [
       "<div>\n",
       "<style scoped>\n",
       "    .dataframe tbody tr th:only-of-type {\n",
       "        vertical-align: middle;\n",
       "    }\n",
       "\n",
       "    .dataframe tbody tr th {\n",
       "        vertical-align: top;\n",
       "    }\n",
       "\n",
       "    .dataframe thead th {\n",
       "        text-align: right;\n",
       "    }\n",
       "</style>\n",
       "<table border=\"1\" class=\"dataframe\">\n",
       "  <thead>\n",
       "    <tr style=\"text-align: right;\">\n",
       "      <th></th>\n",
       "      <th>Dataset</th>\n",
       "      <th>SVM</th>\n",
       "      <th>Logistic Reg</th>\n",
       "      <th>Naive-Bayes</th>\n",
       "      <th>Random Forest</th>\n",
       "      <th>XGBoost</th>\n",
       "      <th>D Trees</th>\n",
       "      <th>RNN</th>\n",
       "      <th>LSTM</th>\n",
       "      <th>BERT</th>\n",
       "      <th>Best</th>\n",
       "    </tr>\n",
       "  </thead>\n",
       "  <tbody>\n",
       "    <tr>\n",
       "      <th>0</th>\n",
       "      <td>Dataset 1(Movie-Genre)</td>\n",
       "      <td>0.5200</td>\n",
       "      <td>0.5340</td>\n",
       "      <td>0.5200</td>\n",
       "      <td>0.4300</td>\n",
       "      <td>0.4900</td>\n",
       "      <td>0.39</td>\n",
       "      <td>0.390</td>\n",
       "      <td>0.5000</td>\n",
       "      <td>0.6200</td>\n",
       "      <td>BERT</td>\n",
       "    </tr>\n",
       "    <tr>\n",
       "      <th>1</th>\n",
       "      <td>Dataset 2(News)</td>\n",
       "      <td>0.7660</td>\n",
       "      <td>0.7660</td>\n",
       "      <td>0.7300</td>\n",
       "      <td>0.7200</td>\n",
       "      <td>0.7460</td>\n",
       "      <td>0.72</td>\n",
       "      <td>0.630</td>\n",
       "      <td>0.7500</td>\n",
       "      <td>0.8350</td>\n",
       "      <td>BERT</td>\n",
       "    </tr>\n",
       "    <tr>\n",
       "      <th>2</th>\n",
       "      <td>Dataset 3(Medical)</td>\n",
       "      <td>0.9460</td>\n",
       "      <td>0.9440</td>\n",
       "      <td>0.9300</td>\n",
       "      <td>0.9587</td>\n",
       "      <td>0.9592</td>\n",
       "      <td>0.94</td>\n",
       "      <td>0.950</td>\n",
       "      <td>0.9583</td>\n",
       "      <td>0.9585</td>\n",
       "      <td>XGBoost</td>\n",
       "    </tr>\n",
       "    <tr>\n",
       "      <th>3</th>\n",
       "      <td>Dataset 4</td>\n",
       "      <td>0.9591</td>\n",
       "      <td>0.9546</td>\n",
       "      <td>0.9379</td>\n",
       "      <td>0.9310</td>\n",
       "      <td>0.9312</td>\n",
       "      <td>0.88</td>\n",
       "      <td>0.888</td>\n",
       "      <td>0.9300</td>\n",
       "      <td>0.9611</td>\n",
       "      <td>BERT</td>\n",
       "    </tr>\n",
       "  </tbody>\n",
       "</table>\n",
       "</div>"
      ],
      "text/plain": [
       "                  Dataset     SVM  Logistic Reg  Naive-Bayes  Random Forest  \\\n",
       "0  Dataset 1(Movie-Genre)  0.5200        0.5340       0.5200         0.4300   \n",
       "1         Dataset 2(News)  0.7660        0.7660       0.7300         0.7200   \n",
       "2      Dataset 3(Medical)  0.9460        0.9440       0.9300         0.9587   \n",
       "3               Dataset 4  0.9591        0.9546       0.9379         0.9310   \n",
       "\n",
       "   XGBoost  D Trees    RNN    LSTM    BERT     Best  \n",
       "0   0.4900     0.39  0.390  0.5000  0.6200     BERT  \n",
       "1   0.7460     0.72  0.630  0.7500  0.8350     BERT  \n",
       "2   0.9592     0.94  0.950  0.9583  0.9585  XGBoost  \n",
       "3   0.9312     0.88  0.888  0.9300  0.9611     BERT  "
      ]
     },
     "execution_count": 29,
     "metadata": {},
     "output_type": "execute_result"
    }
   ],
   "source": [
    "df"
   ]
  },
  {
   "cell_type": "code",
   "execution_count": null,
   "id": "a177d254",
   "metadata": {},
   "outputs": [],
   "source": []
  }
 ],
 "metadata": {
  "kernelspec": {
   "display_name": "Python 3 (ipykernel)",
   "language": "python",
   "name": "python3"
  },
  "language_info": {
   "codemirror_mode": {
    "name": "ipython",
    "version": 3
   },
   "file_extension": ".py",
   "mimetype": "text/x-python",
   "name": "python",
   "nbconvert_exporter": "python",
   "pygments_lexer": "ipython3",
   "version": "3.7.5"
  }
 },
 "nbformat": 4,
 "nbformat_minor": 5
}
