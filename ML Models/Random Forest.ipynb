{
 "cells": [
  {
   "cell_type": "code",
   "execution_count": 1,
   "id": "f895c9d7",
   "metadata": {},
   "outputs": [],
   "source": [
    "import sklearn\n",
    "import pandas as pd\n",
    "import numpy as np\n",
    "from sklearn.model_selection import train_test_split, GridSearchCV\n",
    "from sklearn.ensemble import RandomForestClassifier\n",
    "from sklearn.metrics import accuracy_score, classification_report, confusion_matrix"
   ]
  },
  {
   "cell_type": "code",
   "execution_count": 2,
   "id": "93fa9819",
   "metadata": {},
   "outputs": [],
   "source": [
    "df = pd.read_csv('../Data/CleanedData.csv')"
   ]
  },
  {
   "cell_type": "code",
   "execution_count": 3,
   "id": "02a49284",
   "metadata": {},
   "outputs": [
    {
     "data": {
      "text/html": [
       "<div>\n",
       "<style scoped>\n",
       "    .dataframe tbody tr th:only-of-type {\n",
       "        vertical-align: middle;\n",
       "    }\n",
       "\n",
       "    .dataframe tbody tr th {\n",
       "        vertical-align: top;\n",
       "    }\n",
       "\n",
       "    .dataframe thead th {\n",
       "        text-align: right;\n",
       "    }\n",
       "</style>\n",
       "<table border=\"1\" class=\"dataframe\">\n",
       "  <thead>\n",
       "    <tr style=\"text-align: right;\">\n",
       "      <th></th>\n",
       "      <th>subject</th>\n",
       "      <th>transformed text</th>\n",
       "    </tr>\n",
       "  </thead>\n",
       "  <tbody>\n",
       "    <tr>\n",
       "      <th>0</th>\n",
       "      <td>1</td>\n",
       "      <td>donald trump wish american happi new year leav...</td>\n",
       "    </tr>\n",
       "    <tr>\n",
       "      <th>1</th>\n",
       "      <td>1</td>\n",
       "      <td>hous intellig committe chairman devin nune go ...</td>\n",
       "    </tr>\n",
       "    <tr>\n",
       "      <th>2</th>\n",
       "      <td>1</td>\n",
       "      <td>friday reveal former milwauke sheriff david cl...</td>\n",
       "    </tr>\n",
       "    <tr>\n",
       "      <th>3</th>\n",
       "      <td>1</td>\n",
       "      <td>christma day donald trump announc would back w...</td>\n",
       "    </tr>\n",
       "    <tr>\n",
       "      <th>4</th>\n",
       "      <td>1</td>\n",
       "      <td>pope franci use annual christma day messag reb...</td>\n",
       "    </tr>\n",
       "  </tbody>\n",
       "</table>\n",
       "</div>"
      ],
      "text/plain": [
       "   subject                                   transformed text\n",
       "0        1  donald trump wish american happi new year leav...\n",
       "1        1  hous intellig committe chairman devin nune go ...\n",
       "2        1  friday reveal former milwauke sheriff david cl...\n",
       "3        1  christma day donald trump announc would back w...\n",
       "4        1  pope franci use annual christma day messag reb..."
      ]
     },
     "execution_count": 3,
     "metadata": {},
     "output_type": "execute_result"
    }
   ],
   "source": [
    "df.head()"
   ]
  },
  {
   "cell_type": "code",
   "execution_count": 4,
   "id": "f877fac0",
   "metadata": {},
   "outputs": [],
   "source": [
    "from sklearn.feature_extraction.text import CountVectorizer\n",
    "cv= CountVectorizer(max_features=5000)"
   ]
  },
  {
   "cell_type": "code",
   "execution_count": 5,
   "id": "caaf826c",
   "metadata": {},
   "outputs": [],
   "source": [
    "x= cv.fit_transform(df['transformed text']).toarray()\n",
    "y= df['subject'].values"
   ]
  },
  {
   "cell_type": "code",
   "execution_count": 7,
   "id": "77edcf8e",
   "metadata": {},
   "outputs": [],
   "source": [
    "from sklearn.model_selection import train_test_split\n",
    "x_train, x_test, y_train, y_test= train_test_split(x, y, test_size=0.2, random_state = 42)"
   ]
  },
  {
   "cell_type": "code",
   "execution_count": 8,
   "id": "6bc53fef",
   "metadata": {},
   "outputs": [
    {
     "name": "stdout",
     "output_type": "stream",
     "text": [
      "Fitting 2 folds for each of 48 candidates, totalling 96 fits\n",
      "[CV 1/2] END max_depth=10, max_features=sqrt, min_samples_leaf=2, min_samples_split=5, n_estimators=100;, score=0.715 total time=   7.3s\n",
      "[CV 2/2] END max_depth=10, max_features=sqrt, min_samples_leaf=2, min_samples_split=5, n_estimators=100;, score=0.712 total time=   7.3s\n",
      "[CV 1/2] END max_depth=10, max_features=sqrt, min_samples_leaf=2, min_samples_split=5, n_estimators=300;, score=0.711 total time=  21.0s\n",
      "[CV 2/2] END max_depth=10, max_features=sqrt, min_samples_leaf=2, min_samples_split=5, n_estimators=300;, score=0.709 total time=  20.5s\n",
      "[CV 1/2] END max_depth=10, max_features=sqrt, min_samples_leaf=2, min_samples_split=10, n_estimators=100;, score=0.712 total time=   7.1s\n",
      "[CV 2/2] END max_depth=10, max_features=sqrt, min_samples_leaf=2, min_samples_split=10, n_estimators=100;, score=0.706 total time=   7.1s\n",
      "[CV 1/2] END max_depth=10, max_features=sqrt, min_samples_leaf=2, min_samples_split=10, n_estimators=300;, score=0.715 total time=  20.3s\n",
      "[CV 2/2] END max_depth=10, max_features=sqrt, min_samples_leaf=2, min_samples_split=10, n_estimators=300;, score=0.711 total time=  20.4s\n",
      "[CV 1/2] END max_depth=10, max_features=sqrt, min_samples_leaf=4, min_samples_split=5, n_estimators=100;, score=0.706 total time=   7.1s\n",
      "[CV 2/2] END max_depth=10, max_features=sqrt, min_samples_leaf=4, min_samples_split=5, n_estimators=100;, score=0.710 total time=   7.0s\n",
      "[CV 1/2] END max_depth=10, max_features=sqrt, min_samples_leaf=4, min_samples_split=5, n_estimators=300;, score=0.717 total time=  20.4s\n",
      "[CV 2/2] END max_depth=10, max_features=sqrt, min_samples_leaf=4, min_samples_split=5, n_estimators=300;, score=0.711 total time=  20.3s\n",
      "[CV 1/2] END max_depth=10, max_features=sqrt, min_samples_leaf=4, min_samples_split=10, n_estimators=100;, score=0.707 total time=   7.1s\n",
      "[CV 2/2] END max_depth=10, max_features=sqrt, min_samples_leaf=4, min_samples_split=10, n_estimators=100;, score=0.703 total time=   7.1s\n",
      "[CV 1/2] END max_depth=10, max_features=sqrt, min_samples_leaf=4, min_samples_split=10, n_estimators=300;, score=0.718 total time=  20.2s\n",
      "[CV 2/2] END max_depth=10, max_features=sqrt, min_samples_leaf=4, min_samples_split=10, n_estimators=300;, score=0.710 total time=  20.2s\n",
      "[CV 1/2] END max_depth=10, max_features=log2, min_samples_leaf=2, min_samples_split=5, n_estimators=100;, score=0.498 total time=   2.1s\n",
      "[CV 2/2] END max_depth=10, max_features=log2, min_samples_leaf=2, min_samples_split=5, n_estimators=100;, score=0.479 total time=   2.1s\n",
      "[CV 1/2] END max_depth=10, max_features=log2, min_samples_leaf=2, min_samples_split=5, n_estimators=300;, score=0.489 total time=   5.3s\n",
      "[CV 2/2] END max_depth=10, max_features=log2, min_samples_leaf=2, min_samples_split=5, n_estimators=300;, score=0.487 total time=   5.3s\n",
      "[CV 1/2] END max_depth=10, max_features=log2, min_samples_leaf=2, min_samples_split=10, n_estimators=100;, score=0.483 total time=   2.1s\n",
      "[CV 2/2] END max_depth=10, max_features=log2, min_samples_leaf=2, min_samples_split=10, n_estimators=100;, score=0.486 total time=   2.1s\n",
      "[CV 1/2] END max_depth=10, max_features=log2, min_samples_leaf=2, min_samples_split=10, n_estimators=300;, score=0.484 total time=   5.3s\n",
      "[CV 2/2] END max_depth=10, max_features=log2, min_samples_leaf=2, min_samples_split=10, n_estimators=300;, score=0.488 total time=   5.3s\n",
      "[CV 1/2] END max_depth=10, max_features=log2, min_samples_leaf=4, min_samples_split=5, n_estimators=100;, score=0.497 total time=   2.1s\n",
      "[CV 2/2] END max_depth=10, max_features=log2, min_samples_leaf=4, min_samples_split=5, n_estimators=100;, score=0.483 total time=   2.1s\n",
      "[CV 1/2] END max_depth=10, max_features=log2, min_samples_leaf=4, min_samples_split=5, n_estimators=300;, score=0.491 total time=   5.3s\n",
      "[CV 2/2] END max_depth=10, max_features=log2, min_samples_leaf=4, min_samples_split=5, n_estimators=300;, score=0.481 total time=   5.3s\n",
      "[CV 1/2] END max_depth=10, max_features=log2, min_samples_leaf=4, min_samples_split=10, n_estimators=100;, score=0.488 total time=   2.1s\n",
      "[CV 2/2] END max_depth=10, max_features=log2, min_samples_leaf=4, min_samples_split=10, n_estimators=100;, score=0.489 total time=   2.1s\n",
      "[CV 1/2] END max_depth=10, max_features=log2, min_samples_leaf=4, min_samples_split=10, n_estimators=300;, score=0.482 total time=   5.3s\n",
      "[CV 2/2] END max_depth=10, max_features=log2, min_samples_leaf=4, min_samples_split=10, n_estimators=300;, score=0.485 total time=   5.4s\n",
      "[CV 1/2] END max_depth=10, max_features=None, min_samples_leaf=2, min_samples_split=5, n_estimators=100;, score=0.740 total time= 6.0min\n",
      "[CV 2/2] END max_depth=10, max_features=None, min_samples_leaf=2, min_samples_split=5, n_estimators=100;, score=0.747 total time= 5.9min\n",
      "[CV 1/2] END max_depth=10, max_features=None, min_samples_leaf=2, min_samples_split=5, n_estimators=300;, score=0.739 total time=17.5min\n",
      "[CV 2/2] END max_depth=10, max_features=None, min_samples_leaf=2, min_samples_split=5, n_estimators=300;, score=0.747 total time=17.2min\n",
      "[CV 1/2] END max_depth=10, max_features=None, min_samples_leaf=2, min_samples_split=10, n_estimators=100;, score=0.740 total time= 6.0min\n",
      "[CV 2/2] END max_depth=10, max_features=None, min_samples_leaf=2, min_samples_split=10, n_estimators=100;, score=0.746 total time= 5.2min\n",
      "[CV 1/2] END max_depth=10, max_features=None, min_samples_leaf=2, min_samples_split=10, n_estimators=300;, score=0.740 total time=15.4min\n",
      "[CV 2/2] END max_depth=10, max_features=None, min_samples_leaf=2, min_samples_split=10, n_estimators=300;, score=0.747 total time=15.8min\n",
      "[CV 1/2] END max_depth=10, max_features=None, min_samples_leaf=4, min_samples_split=5, n_estimators=100;, score=0.739 total time= 5.1min\n",
      "[CV 2/2] END max_depth=10, max_features=None, min_samples_leaf=4, min_samples_split=5, n_estimators=100;, score=0.746 total time= 5.5min\n",
      "[CV 1/2] END max_depth=10, max_features=None, min_samples_leaf=4, min_samples_split=5, n_estimators=300;, score=0.740 total time=17.7min\n",
      "[CV 2/2] END max_depth=10, max_features=None, min_samples_leaf=4, min_samples_split=5, n_estimators=300;, score=0.747 total time=17.4min\n",
      "[CV 1/2] END max_depth=10, max_features=None, min_samples_leaf=4, min_samples_split=10, n_estimators=100;, score=0.740 total time= 5.2min\n",
      "[CV 2/2] END max_depth=10, max_features=None, min_samples_leaf=4, min_samples_split=10, n_estimators=100;, score=0.746 total time= 5.4min\n",
      "[CV 1/2] END max_depth=10, max_features=None, min_samples_leaf=4, min_samples_split=10, n_estimators=300;, score=0.740 total time=15.6min\n",
      "[CV 2/2] END max_depth=10, max_features=None, min_samples_leaf=4, min_samples_split=10, n_estimators=300;, score=0.747 total time=15.0min\n",
      "[CV 1/2] END max_depth=30, max_features=sqrt, min_samples_leaf=2, min_samples_split=5, n_estimators=100;, score=0.743 total time=  11.5s\n",
      "[CV 2/2] END max_depth=30, max_features=sqrt, min_samples_leaf=2, min_samples_split=5, n_estimators=100;, score=0.746 total time=  11.6s\n",
      "[CV 1/2] END max_depth=30, max_features=sqrt, min_samples_leaf=2, min_samples_split=5, n_estimators=300;, score=0.744 total time=  33.8s\n",
      "[CV 2/2] END max_depth=30, max_features=sqrt, min_samples_leaf=2, min_samples_split=5, n_estimators=300;, score=0.749 total time=  34.0s\n",
      "[CV 1/2] END max_depth=30, max_features=sqrt, min_samples_leaf=2, min_samples_split=10, n_estimators=100;, score=0.748 total time=  11.3s\n",
      "[CV 2/2] END max_depth=30, max_features=sqrt, min_samples_leaf=2, min_samples_split=10, n_estimators=100;, score=0.749 total time=  11.4s\n",
      "[CV 1/2] END max_depth=30, max_features=sqrt, min_samples_leaf=2, min_samples_split=10, n_estimators=300;, score=0.749 total time=  33.0s\n",
      "[CV 2/2] END max_depth=30, max_features=sqrt, min_samples_leaf=2, min_samples_split=10, n_estimators=300;, score=0.752 total time=  33.3s\n",
      "[CV 1/2] END max_depth=30, max_features=sqrt, min_samples_leaf=4, min_samples_split=5, n_estimators=100;, score=0.749 total time=  10.8s\n",
      "[CV 2/2] END max_depth=30, max_features=sqrt, min_samples_leaf=4, min_samples_split=5, n_estimators=100;, score=0.754 total time=  10.9s\n",
      "[CV 1/2] END max_depth=30, max_features=sqrt, min_samples_leaf=4, min_samples_split=5, n_estimators=300;, score=0.755 total time=  31.8s\n",
      "[CV 2/2] END max_depth=30, max_features=sqrt, min_samples_leaf=4, min_samples_split=5, n_estimators=300;, score=0.757 total time=  31.9s\n"
     ]
    },
    {
     "name": "stdout",
     "output_type": "stream",
     "text": [
      "[CV 1/2] END max_depth=30, max_features=sqrt, min_samples_leaf=4, min_samples_split=10, n_estimators=100;, score=0.748 total time=  10.8s\n",
      "[CV 2/2] END max_depth=30, max_features=sqrt, min_samples_leaf=4, min_samples_split=10, n_estimators=100;, score=0.754 total time=  10.8s\n",
      "[CV 1/2] END max_depth=30, max_features=sqrt, min_samples_leaf=4, min_samples_split=10, n_estimators=300;, score=0.754 total time=  31.4s\n",
      "[CV 2/2] END max_depth=30, max_features=sqrt, min_samples_leaf=4, min_samples_split=10, n_estimators=300;, score=0.758 total time=  31.8s\n",
      "[CV 1/2] END max_depth=30, max_features=log2, min_samples_leaf=2, min_samples_split=5, n_estimators=100;, score=0.707 total time=   3.7s\n",
      "[CV 2/2] END max_depth=30, max_features=log2, min_samples_leaf=2, min_samples_split=5, n_estimators=100;, score=0.712 total time=   3.7s\n",
      "[CV 1/2] END max_depth=30, max_features=log2, min_samples_leaf=2, min_samples_split=5, n_estimators=300;, score=0.716 total time=  10.3s\n",
      "[CV 2/2] END max_depth=30, max_features=log2, min_samples_leaf=2, min_samples_split=5, n_estimators=300;, score=0.716 total time=  10.3s\n",
      "[CV 1/2] END max_depth=30, max_features=log2, min_samples_leaf=2, min_samples_split=10, n_estimators=100;, score=0.709 total time=   3.6s\n",
      "[CV 2/2] END max_depth=30, max_features=log2, min_samples_leaf=2, min_samples_split=10, n_estimators=100;, score=0.707 total time=   3.6s\n",
      "[CV 1/2] END max_depth=30, max_features=log2, min_samples_leaf=2, min_samples_split=10, n_estimators=300;, score=0.714 total time=  10.1s\n",
      "[CV 2/2] END max_depth=30, max_features=log2, min_samples_leaf=2, min_samples_split=10, n_estimators=300;, score=0.715 total time=  10.2s\n",
      "[CV 1/2] END max_depth=30, max_features=log2, min_samples_leaf=4, min_samples_split=5, n_estimators=100;, score=0.705 total time=   3.4s\n",
      "[CV 2/2] END max_depth=30, max_features=log2, min_samples_leaf=4, min_samples_split=5, n_estimators=100;, score=0.700 total time=   3.5s\n",
      "[CV 1/2] END max_depth=30, max_features=log2, min_samples_leaf=4, min_samples_split=5, n_estimators=300;, score=0.709 total time=   9.4s\n",
      "[CV 2/2] END max_depth=30, max_features=log2, min_samples_leaf=4, min_samples_split=5, n_estimators=300;, score=0.699 total time=   9.5s\n",
      "[CV 1/2] END max_depth=30, max_features=log2, min_samples_leaf=4, min_samples_split=10, n_estimators=100;, score=0.697 total time=   3.4s\n",
      "[CV 2/2] END max_depth=30, max_features=log2, min_samples_leaf=4, min_samples_split=10, n_estimators=100;, score=0.695 total time=   3.4s\n",
      "[CV 1/2] END max_depth=30, max_features=log2, min_samples_leaf=4, min_samples_split=10, n_estimators=300;, score=0.703 total time=   9.4s\n",
      "[CV 2/2] END max_depth=30, max_features=log2, min_samples_leaf=4, min_samples_split=10, n_estimators=300;, score=0.702 total time=   9.5s\n",
      "[CV 1/2] END max_depth=30, max_features=None, min_samples_leaf=2, min_samples_split=5, n_estimators=100;, score=0.738 total time=11.2min\n",
      "[CV 2/2] END max_depth=30, max_features=None, min_samples_leaf=2, min_samples_split=5, n_estimators=100;, score=0.740 total time=10.4min\n",
      "[CV 1/2] END max_depth=30, max_features=None, min_samples_leaf=2, min_samples_split=5, n_estimators=300;, score=0.741 total time=33.3min\n",
      "[CV 2/2] END max_depth=30, max_features=None, min_samples_leaf=2, min_samples_split=5, n_estimators=300;, score=0.740 total time=36.7min\n",
      "[CV 1/2] END max_depth=30, max_features=None, min_samples_leaf=2, min_samples_split=10, n_estimators=100;, score=0.740 total time=11.8min\n",
      "[CV 2/2] END max_depth=30, max_features=None, min_samples_leaf=2, min_samples_split=10, n_estimators=100;, score=0.739 total time=12.7min\n",
      "[CV 1/2] END max_depth=30, max_features=None, min_samples_leaf=2, min_samples_split=10, n_estimators=300;, score=0.740 total time=33.9min\n",
      "[CV 2/2] END max_depth=30, max_features=None, min_samples_leaf=2, min_samples_split=10, n_estimators=300;, score=0.741 total time=30.9min\n",
      "[CV 1/2] END max_depth=30, max_features=None, min_samples_leaf=4, min_samples_split=5, n_estimators=100;, score=0.740 total time=10.2min\n",
      "[CV 2/2] END max_depth=30, max_features=None, min_samples_leaf=4, min_samples_split=5, n_estimators=100;, score=0.740 total time=10.0min\n",
      "[CV 1/2] END max_depth=30, max_features=None, min_samples_leaf=4, min_samples_split=5, n_estimators=300;, score=0.740 total time=30.4min\n",
      "[CV 2/2] END max_depth=30, max_features=None, min_samples_leaf=4, min_samples_split=5, n_estimators=300;, score=0.741 total time=31.0min\n",
      "[CV 1/2] END max_depth=30, max_features=None, min_samples_leaf=4, min_samples_split=10, n_estimators=100;, score=0.740 total time=10.0min\n",
      "[CV 2/2] END max_depth=30, max_features=None, min_samples_leaf=4, min_samples_split=10, n_estimators=100;, score=0.740 total time= 9.8min\n",
      "[CV 1/2] END max_depth=30, max_features=None, min_samples_leaf=4, min_samples_split=10, n_estimators=300;, score=0.742 total time=33.0min\n",
      "[CV 2/2] END max_depth=30, max_features=None, min_samples_leaf=4, min_samples_split=10, n_estimators=300;, score=0.741 total time=35.0min\n",
      "Best Hyperparameters: {'max_depth': 30, 'max_features': 'sqrt', 'min_samples_leaf': 4, 'min_samples_split': 10, 'n_estimators': 300}\n",
      "Best Accuracy Score: 0.7558840579710144\n"
     ]
    }
   ],
   "source": [
    "random_forest = RandomForestClassifier()\n",
    "\n",
    "# Define a parameter grid to search through\n",
    "param_grid = {\n",
    "    'n_estimators': [100, 300],                 # Number of trees in the forest\n",
    "    'max_depth': [10, 30],                 # Maximum depth of the trees\n",
    "    'min_samples_split': [ 5, 10],                # Minimum samples required to split an internal node\n",
    "    'min_samples_leaf': [ 2, 4],                  # Minimum samples required to be at a leaf node\n",
    "    'max_features': ['sqrt', 'log2', None]  # Number of features to consider at each split\n",
    "}\n",
    "\n",
    "# Create a GridSearchCV object with the model and parameter grid\n",
    "grid_search = GridSearchCV(random_forest, param_grid, cv=2, scoring='accuracy', verbose = 4)\n",
    "\n",
    "# Fit the grid search to your training data\n",
    "grid_search.fit(x_train, y_train)\n",
    "\n",
    "# Print the best hyperparameters and corresponding accuracy score\n",
    "print(\"Best Hyperparameters:\", grid_search.best_params_)\n",
    "print(\"Best Accuracy Score:\", grid_search.best_score_)\n",
    "\n",
    "# Use the best estimator to make predictions on the test data\n",
    "best_model = grid_search.best_estimator_\n",
    "y_pred = best_model.predict(x_test)\n",
    "\n"
   ]
  },
  {
   "cell_type": "code",
   "execution_count": 9,
   "id": "4c362b78",
   "metadata": {},
   "outputs": [
    {
     "name": "stdout",
     "output_type": "stream",
     "text": [
      "Test Accuracy: 0.768927536231884\n",
      "Confusion Matrix:\n",
      " [[   0   27    0    0  255    5]\n",
      " [   0 1677    0    0  197    2]\n",
      " [   0   24   78    0   60    3]\n",
      " [   0  100    0    0  723   12]\n",
      " [   1  230    0   61 3069  114]\n",
      " [   0    0    0    0  179 1808]]\n",
      "Classification Report:\n",
      "               precision    recall  f1-score   support\n",
      "\n",
      "           0       0.00      0.00      0.00       287\n",
      "           1       0.81      0.89      0.85      1876\n",
      "           2       1.00      0.47      0.64       165\n",
      "           3       0.00      0.00      0.00       835\n",
      "           4       0.68      0.88      0.77      3475\n",
      "           5       0.93      0.91      0.92      1987\n",
      "\n",
      "    accuracy                           0.77      8625\n",
      "   macro avg       0.57      0.53      0.53      8625\n",
      "weighted avg       0.69      0.77      0.72      8625\n",
      "\n"
     ]
    }
   ],
   "source": [
    "# Evaluate the model's performance on the test data\n",
    "accuracy = accuracy_score(y_test, y_pred)\n",
    "conf_matrix = confusion_matrix(y_test, y_pred)\n",
    "class_report = classification_report(y_test, y_pred)\n",
    "\n",
    "print(\"Test Accuracy:\", accuracy)\n",
    "print(\"Confusion Matrix:\\n\", conf_matrix)\n",
    "print(\"Classification Report:\\n\", class_report)\n"
   ]
  },
  {
   "cell_type": "code",
   "execution_count": null,
   "id": "731089ab",
   "metadata": {},
   "outputs": [],
   "source": []
  }
 ],
 "metadata": {
  "kernelspec": {
   "display_name": "Python 3 (ipykernel)",
   "language": "python",
   "name": "python3"
  },
  "language_info": {
   "codemirror_mode": {
    "name": "ipython",
    "version": 3
   },
   "file_extension": ".py",
   "mimetype": "text/x-python",
   "name": "python",
   "nbconvert_exporter": "python",
   "pygments_lexer": "ipython3",
   "version": "3.7.5"
  }
 },
 "nbformat": 4,
 "nbformat_minor": 5
}
