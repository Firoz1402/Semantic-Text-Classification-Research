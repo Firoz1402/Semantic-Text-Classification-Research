{
 "cells": [
  {
   "cell_type": "code",
   "execution_count": 1,
   "id": "a4af10e1",
   "metadata": {},
   "outputs": [],
   "source": [
    "import sklearn\n",
    "import pandas as pd\n",
    "import numpy as np\n"
   ]
  },
  {
   "cell_type": "code",
   "execution_count": 2,
   "id": "112fc8cf",
   "metadata": {},
   "outputs": [],
   "source": [
    "df = pd.read_csv('data/CleanedData.csv')"
   ]
  },
  {
   "cell_type": "code",
   "execution_count": 3,
   "id": "478078f3",
   "metadata": {
    "scrolled": true
   },
   "outputs": [
    {
     "data": {
      "text/html": [
       "<div>\n",
       "<style scoped>\n",
       "    .dataframe tbody tr th:only-of-type {\n",
       "        vertical-align: middle;\n",
       "    }\n",
       "\n",
       "    .dataframe tbody tr th {\n",
       "        vertical-align: top;\n",
       "    }\n",
       "\n",
       "    .dataframe thead th {\n",
       "        text-align: right;\n",
       "    }\n",
       "</style>\n",
       "<table border=\"1\" class=\"dataframe\">\n",
       "  <thead>\n",
       "    <tr style=\"text-align: right;\">\n",
       "      <th></th>\n",
       "      <th>subject</th>\n",
       "      <th>transformed text</th>\n",
       "    </tr>\n",
       "  </thead>\n",
       "  <tbody>\n",
       "    <tr>\n",
       "      <th>0</th>\n",
       "      <td>1</td>\n",
       "      <td>donald trump wish american happi new year leav...</td>\n",
       "    </tr>\n",
       "    <tr>\n",
       "      <th>1</th>\n",
       "      <td>1</td>\n",
       "      <td>hous intellig committe chairman devin nune go ...</td>\n",
       "    </tr>\n",
       "    <tr>\n",
       "      <th>2</th>\n",
       "      <td>1</td>\n",
       "      <td>friday reveal former milwauke sheriff david cl...</td>\n",
       "    </tr>\n",
       "    <tr>\n",
       "      <th>3</th>\n",
       "      <td>1</td>\n",
       "      <td>christma day donald trump announc would back w...</td>\n",
       "    </tr>\n",
       "    <tr>\n",
       "      <th>4</th>\n",
       "      <td>1</td>\n",
       "      <td>pope franci use annual christma day messag reb...</td>\n",
       "    </tr>\n",
       "  </tbody>\n",
       "</table>\n",
       "</div>"
      ],
      "text/plain": [
       "   subject                                   transformed text\n",
       "0        1  donald trump wish american happi new year leav...\n",
       "1        1  hous intellig committe chairman devin nune go ...\n",
       "2        1  friday reveal former milwauke sheriff david cl...\n",
       "3        1  christma day donald trump announc would back w...\n",
       "4        1  pope franci use annual christma day messag reb..."
      ]
     },
     "execution_count": 3,
     "metadata": {},
     "output_type": "execute_result"
    }
   ],
   "source": [
    "df.head()"
   ]
  },
  {
   "cell_type": "code",
   "execution_count": 4,
   "id": "b962ed23",
   "metadata": {},
   "outputs": [
    {
     "data": {
      "text/plain": [
       "(43244, 2)"
      ]
     },
     "execution_count": 4,
     "metadata": {},
     "output_type": "execute_result"
    }
   ],
   "source": [
    "df.shape"
   ]
  },
  {
   "cell_type": "code",
   "execution_count": 5,
   "id": "556fbc39",
   "metadata": {},
   "outputs": [],
   "source": [
    "from sklearn.feature_extraction.text import CountVectorizer,TfidfVectorizer\n",
    "cv = CountVectorizer()\n",
    "tfidf = TfidfVectorizer(max_features=2000)"
   ]
  },
  {
   "cell_type": "code",
   "execution_count": 6,
   "id": "36f5a879",
   "metadata": {},
   "outputs": [],
   "source": [
    "X= tfidf.fit_transform(df['transformed text']).toarray()\n",
    "y= df['subject'].values"
   ]
  },
  {
   "cell_type": "code",
   "execution_count": 7,
   "id": "6c34a4bc",
   "metadata": {},
   "outputs": [],
   "source": [
    "from sklearn.model_selection import train_test_split\n",
    "X_train,X_test,y_train,y_test= train_test_split(X,y,test_size=0.2,random_state=42)"
   ]
  },
  {
   "cell_type": "code",
   "execution_count": 8,
   "id": "0fee406d",
   "metadata": {},
   "outputs": [],
   "source": [
    "from sklearn.naive_bayes import GaussianNB,MultinomialNB,BernoulliNB\n",
    "from sklearn.metrics import accuracy_score,confusion_matrix,precision_score\n",
    "gnb = GaussianNB()\n",
    "bnb= BernoulliNB()\n",
    "mnb= MultinomialNB()"
   ]
  },
  {
   "cell_type": "code",
   "execution_count": 9,
   "id": "356c58e5",
   "metadata": {},
   "outputs": [
    {
     "name": "stdout",
     "output_type": "stream",
     "text": [
      "accuracy_score = 0.6160249739854319\n",
      "Confusion Matrix:\n",
      " [[ 112   33   18   67   25   18]\n",
      " [ 115 1391   75  213   70   10]\n",
      " [   4    8  124    7    9    2]\n",
      " [ 189  164   63  377   33   21]\n",
      " [ 474  429  187  572 1461  373]\n",
      " [  24    8   12   28   70 1863]]\n",
      "weighted precision_score = 0.7288051071572783\n"
     ]
    }
   ],
   "source": [
    "gnb.fit(X_train,y_train)\n",
    "y_pred1= gnb.predict(X_test)\n",
    "print(\"accuracy_score =\",accuracy_score(y_test,y_pred1))\n",
    "print(\"Confusion Matrix:\\n\",confusion_matrix(y_test,y_pred1))\n",
    "print(\"weighted precision_score =\" ,precision_score(y_test,y_pred1, average = 'weighted'))"
   ]
  },
  {
   "cell_type": "code",
   "execution_count": 10,
   "id": "459c66cb",
   "metadata": {},
   "outputs": [
    {
     "name": "stdout",
     "output_type": "stream",
     "text": [
      "accuracy_score = 0.7203144872239565\n",
      "Confusion Matrix:\n",
      " [[   3   33    0   37  186   14]\n",
      " [   0 1501    0   45  321    7]\n",
      " [   0   10   77   10   45   12]\n",
      " [   0  238    0  221  364   24]\n",
      " [   0  408    0  226 2609  253]\n",
      " [   0    3    0    7  176 1819]]\n",
      "weighted precision_score = 0.7203185797401375\n"
     ]
    }
   ],
   "source": [
    "mnb.fit(X_train,y_train)\n",
    "y_pred2= mnb.predict(X_test)\n",
    "print(\"accuracy_score =\",accuracy_score(y_test,y_pred2))\n",
    "print(\"Confusion Matrix:\\n\",confusion_matrix(y_test,y_pred2))\n",
    "print(\"weighted precision_score =\" ,precision_score(y_test,y_pred2, average = 'weighted'))"
   ]
  },
  {
   "cell_type": "code",
   "execution_count": 11,
   "id": "2784d155",
   "metadata": {},
   "outputs": [
    {
     "name": "stdout",
     "output_type": "stream",
     "text": [
      "accuracy_score = 0.7136085096542953\n",
      "Confusion Matrix:\n",
      " [[  95    7   31  100   35    5]\n",
      " [  43 1646   27   90   67    1]\n",
      " [  10    0   75   58    7    4]\n",
      " [  89   51   78  558   65    6]\n",
      " [ 176   88  189  789 1955  299]\n",
      " [   7    0   69   18   68 1843]]\n",
      "weighted precision_score = 0.800549735723183\n"
     ]
    }
   ],
   "source": [
    "bnb.fit(X_train,y_train)\n",
    "y_pred3= bnb.predict(X_test)\n",
    "print(\"accuracy_score =\",accuracy_score(y_test,y_pred3))\n",
    "print(\"Confusion Matrix:\\n\",confusion_matrix(y_test,y_pred3))\n",
    "print(\"weighted precision_score =\" ,precision_score(y_test,y_pred3, average = 'weighted'))"
   ]
  },
  {
   "cell_type": "markdown",
   "id": "7686e776",
   "metadata": {},
   "source": [
    "## Bernoulli Naive Bayes gives the best accuracy, so we will proceed with it"
   ]
  },
  {
   "cell_type": "code",
   "execution_count": null,
   "id": "beefbc55",
   "metadata": {},
   "outputs": [],
   "source": []
  }
 ],
 "metadata": {
  "kernelspec": {
   "display_name": "Python 3 (ipykernel)",
   "language": "python",
   "name": "python3"
  },
  "language_info": {
   "codemirror_mode": {
    "name": "ipython",
    "version": 3
   },
   "file_extension": ".py",
   "mimetype": "text/x-python",
   "name": "python",
   "nbconvert_exporter": "python",
   "pygments_lexer": "ipython3",
   "version": "3.7.5"
  }
 },
 "nbformat": 4,
 "nbformat_minor": 5
}
