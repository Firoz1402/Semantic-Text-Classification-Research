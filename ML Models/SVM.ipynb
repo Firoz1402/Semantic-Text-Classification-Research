{
 "cells": [
  {
   "cell_type": "code",
   "execution_count": 1,
   "id": "b282dce2",
   "metadata": {},
   "outputs": [],
   "source": [
    "from sklearn import svm\n",
    "from sklearn.model_selection import train_test_split\n",
    "from sklearn.metrics import accuracy_score\n",
    "import time\n",
    "import pandas as pd\n",
    "from sklearn.model_selection import GridSearchCV\n",
    "import numpy as np\n",
    "from stringkernels.kernels import polynomial_string_kernel\n",
    "from stringkernels.kernels import string_kernel\n",
    "import scipy\n"
   ]
  },
  {
   "cell_type": "code",
   "execution_count": 2,
   "id": "6dd30670",
   "metadata": {},
   "outputs": [],
   "source": [
    "df = pd.read_csv('../Data/CleanedData.csv')"
   ]
  },
  {
   "cell_type": "code",
   "execution_count": 3,
   "id": "f53d7960",
   "metadata": {},
   "outputs": [],
   "source": [
    "from sklearn.feature_extraction.text import CountVectorizer\n",
    "cv= CountVectorizer(max_features=5000)"
   ]
  },
  {
   "cell_type": "code",
   "execution_count": 4,
   "id": "879f1c17",
   "metadata": {},
   "outputs": [],
   "source": [
    "x= cv.fit_transform(df['transformed text']).toarray()\n",
    "y= df['subject'].values"
   ]
  },
  {
   "cell_type": "code",
   "execution_count": 5,
   "id": "1d8c00a7",
   "metadata": {},
   "outputs": [
    {
     "data": {
      "text/plain": [
       "(43125, 5000)"
      ]
     },
     "execution_count": 5,
     "metadata": {},
     "output_type": "execute_result"
    }
   ],
   "source": [
    "x.shape"
   ]
  },
  {
   "cell_type": "code",
   "execution_count": 6,
   "id": "dacb2777",
   "metadata": {},
   "outputs": [],
   "source": [
    "x_train, x_test, y_train, y_test = train_test_split(x, y, test_size=0.2, random_state=42)\n"
   ]
  },
  {
   "cell_type": "markdown",
   "id": "0eef4c29",
   "metadata": {},
   "source": [
    "# String Kernel"
   ]
  },
  {
   "cell_type": "code",
   "execution_count": 7,
   "id": "e0ba98fa",
   "metadata": {},
   "outputs": [],
   "source": [
    "def edit_distance(str1, str2):\n",
    "    m, n = len(str1), len(str2)\n",
    "    \n",
    "    # Create a matrix to store the edit distances\n",
    "    dp = [[0] * (n + 1) for _ in range(m + 1)]\n",
    "    \n",
    "    # Initialize the matrix\n",
    "    for i in range(m + 1):\n",
    "        dp[i][0] = i\n",
    "    for j in range(n + 1):\n",
    "        dp[0][j] = j\n",
    "    \n",
    "    # Calculate edit distance using dynamic programming\n",
    "    for i in range(1, m + 1):\n",
    "        for j in range(1, n + 1):\n",
    "            if str1[i - 1] == str2[j - 1]:\n",
    "                cost = 0\n",
    "            else:\n",
    "                cost = 1\n",
    "            dp[i][j] = min(\n",
    "                dp[i - 1][j] + 1,  # Deletion\n",
    "                dp[i][j - 1] + 1,  # Insertion\n",
    "                dp[i - 1][j - 1] + cost  # Substitution\n",
    "            )\n",
    "    \n",
    "    return dp[m][n]\n"
   ]
  },
  {
   "cell_type": "code",
   "execution_count": 8,
   "id": "5cce34b5",
   "metadata": {},
   "outputs": [],
   "source": [
    "def string_kernel(X1, X2):\n",
    "    kernel_matrix = np.zeros((X1.shape[0], X2.shape[0]))\n",
    "    for i in range(X1.shape[0]):\n",
    "        for j in range(X2.shape[0]):\n",
    "            kernel_matrix[i, j] = edit_distance(X1[i], X2[j])\n",
    "    return kernel_matrix"
   ]
  },
  {
   "cell_type": "code",
   "execution_count": null,
   "id": "7abb13e2",
   "metadata": {},
   "outputs": [],
   "source": [
    "\n",
    "start = time.time()\n",
    "svm_classifier = svm.SVC(kernel=string_kernel)\n",
    "svm_classifier.fit(x_train, y_train)\n",
    "end = time.time()\n",
    "print(\"The time of execution of above program is :\",\n",
    "      (end-start) * 10**3, \"ms\")\n",
    "y_pred = svm_classifier.predict(x_test)\n",
    "accuracy = accuracy_score(y_test, y_pred)\n",
    "print(\"Accuracy:\", accuracy)"
   ]
  },
  {
   "cell_type": "markdown",
   "id": "c0963a07",
   "metadata": {},
   "source": [
    "# GridSearchCV"
   ]
  },
  {
   "cell_type": "code",
   "execution_count": 6,
   "id": "47c9a85b",
   "metadata": {},
   "outputs": [],
   "source": [
    "model_params= {\n",
    "    'svm': {\n",
    "        'model': svm.SVC(gamma='auto'),\n",
    "        'params': {\n",
    "            'C': [0.2],\n",
    "            'kernel': [string_kernel]\n",
    "        }\n",
    "    }\n",
    "}"
   ]
  },
  {
   "cell_type": "code",
   "execution_count": null,
   "id": "1d6f25c0",
   "metadata": {},
   "outputs": [
    {
     "name": "stdout",
     "output_type": "stream",
     "text": [
      "Fitting 2 folds for each of 2 candidates, totalling 4 fits\n"
     ]
    }
   ],
   "source": [
    "scores= []\n",
    "start = time.time()\n",
    "for model_name, mp in model_params.items():\n",
    "    clf= GridSearchCV(mp['model'], mp['params'], cv=2, verbose = 4, return_train_score=False)\n",
    "    clf.fit(x_train, y_train)\n",
    "    scores.append({\n",
    "        'model': model_name,\n",
    "        'best_score': clf.best_score_,\n",
    "        'best_params': clf.best_params_\n",
    "    })\n",
    "    \n",
    "\n",
    "end = time.time()\n",
    "print(\"The time of execution of above program is :\",\n",
    "      (end-start) * 10**3, \"ms\")"
   ]
  },
  {
   "cell_type": "markdown",
   "id": "9134e49d",
   "metadata": {},
   "source": [
    "# HyperParameter Tuning Using HyperOpt"
   ]
  },
  {
   "cell_type": "code",
   "execution_count": 8,
   "id": "54fd34ac",
   "metadata": {},
   "outputs": [],
   "source": [
    "from hyperopt import fmin, tpe, hp\n",
    "from sklearn.model_selection import cross_val_score"
   ]
  },
  {
   "cell_type": "code",
   "execution_count": 9,
   "id": "1cbe87e9",
   "metadata": {},
   "outputs": [],
   "source": [
    "# Define the hyperparameter search space\n",
    "space = {\n",
    "    'C': hp.loguniform('C', np.log(0.001), np.log(10)),  # Regularization parameter\n",
    "    'kernel': hp.choice('kernel', ['rbf']),\n",
    "    'gamma': hp.loguniform('gamma', np.log(0.001), np.log(10))\n",
    "}"
   ]
  },
  {
   "cell_type": "code",
   "execution_count": 10,
   "id": "73afcc18",
   "metadata": {},
   "outputs": [
    {
     "name": "stdout",
     "output_type": "stream",
     "text": [
      "[CV] END ................................ score: (test=0.723) total time=16.3min\n",
      "[CV] END ................................ score: (test=0.723) total time=17.0min\n",
      "[CV] END ................................ score: (test=0.408) total time=28.3min\n",
      "[CV] END ................................ score: (test=0.408) total time=27.1min\n",
      "[CV] END ................................ score: (test=0.408) total time=33.8min\n",
      "[CV] END ................................ score: (test=0.408) total time=34.0min\n",
      "[CV] END ................................ score: (test=0.370) total time=57.7min\n",
      "[CV] END ................................ score: (test=0.367) total time=56.7min\n",
      "[CV] END ................................ score: (test=0.408) total time=34.2min\n",
      "[CV] END ................................ score: (test=0.408) total time=35.4min\n",
      "100%|██████| 5/5 [5:40:30<00:00, 4086.17s/trial, best loss: -0.7229565217391305]\n",
      "The time of execution of above program is : 340.51402212778726 mins\n",
      "Best Hyperparameters:\n",
      "{'C': 0.09624152050519157, 'gamma': 0.0016902116206715884, 'kernel': 0}\n"
     ]
    }
   ],
   "source": [
    "# Define the objective function to maximize (e.g., cross-validated accuracy)\n",
    "start = time.time()\n",
    "def objective(params):\n",
    "    clf = svm.SVC(**params, decision_function_shape='ovo')  # Multi-class SVM using one-vs-one (ovr)\n",
    "    score = cross_val_score(clf, x_train, y_train, cv=2, scoring='accuracy', verbose =4).mean()\n",
    "    return -score  # Hyperopt minimizes, so we negate the score\n",
    "\n",
    "# Use Hyperopt to search for the best hyperparameters\n",
    "best = fmin(fn=objective, space=space, algo=tpe.suggest, max_evals=5)\n",
    "end = time.time()\n",
    "print(\"The time of execution of above program is :\",\n",
    "      (end-start) * (10**3/1000)/60, \"mins\")\n",
    "print(\"Best Hyperparameters:\")\n",
    "print(best)"
   ]
  },
  {
   "cell_type": "code",
   "execution_count": 12,
   "id": "d102484a",
   "metadata": {},
   "outputs": [
    {
     "name": "stdout",
     "output_type": "stream",
     "text": [
      "The time of execution of above program is : 1632622.5192546844 ms\n",
      "Accuracy: 0.7479420289855072\n"
     ]
    }
   ],
   "source": [
    "start = time.time()\n",
    "svm_classifier = svm.SVC(kernel='rbf',gamma = 0.0016902116206715884, C = 0.09624152050519157)\n",
    "svm_classifier.fit(x_train, y_train)\n",
    "end = time.time()\n",
    "print(\"The time of execution of above program is :\",\n",
    "      (end-start) * 10**3, \"ms\")\n",
    "y_pred = svm_classifier.predict(x_test)\n",
    "accuracy = accuracy_score(y_test, y_pred)\n",
    "print(\"Accuracy:\", accuracy)"
   ]
  },
  {
   "cell_type": "code",
   "execution_count": null,
   "id": "c369ebe8",
   "metadata": {},
   "outputs": [],
   "source": []
  }
 ],
 "metadata": {
  "kernelspec": {
   "display_name": "Python 3 (ipykernel)",
   "language": "python",
   "name": "python3"
  },
  "language_info": {
   "codemirror_mode": {
    "name": "ipython",
    "version": 3
   },
   "file_extension": ".py",
   "mimetype": "text/x-python",
   "name": "python",
   "nbconvert_exporter": "python",
   "pygments_lexer": "ipython3",
   "version": "3.7.5"
  }
 },
 "nbformat": 4,
 "nbformat_minor": 5
}
