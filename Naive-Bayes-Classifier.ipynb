{
 "cells": [
  {
   "cell_type": "code",
   "execution_count": 1,
   "id": "a4af10e1",
   "metadata": {},
   "outputs": [],
   "source": [
    "import sklearn\n",
    "import pandas as pd\n",
    "import numpy as np\n"
   ]
  },
  {
   "cell_type": "code",
   "execution_count": 3,
   "id": "112fc8cf",
   "metadata": {},
   "outputs": [],
   "source": [
    "df = pd.read_csv('data/cleaned_text.csv')"
   ]
  },
  {
   "cell_type": "code",
   "execution_count": 4,
   "id": "478078f3",
   "metadata": {},
   "outputs": [
    {
     "data": {
      "text/html": [
       "<div>\n",
       "<style scoped>\n",
       "    .dataframe tbody tr th:only-of-type {\n",
       "        vertical-align: middle;\n",
       "    }\n",
       "\n",
       "    .dataframe tbody tr th {\n",
       "        vertical-align: top;\n",
       "    }\n",
       "\n",
       "    .dataframe thead th {\n",
       "        text-align: right;\n",
       "    }\n",
       "</style>\n",
       "<table border=\"1\" class=\"dataframe\">\n",
       "  <thead>\n",
       "    <tr style=\"text-align: right;\">\n",
       "      <th></th>\n",
       "      <th>category</th>\n",
       "      <th>transformed text</th>\n",
       "    </tr>\n",
       "  </thead>\n",
       "  <tbody>\n",
       "    <tr>\n",
       "      <th>0</th>\n",
       "      <td>4</td>\n",
       "      <td>tv futur hand viewer home theatr system plasma...</td>\n",
       "    </tr>\n",
       "    <tr>\n",
       "      <th>1</th>\n",
       "      <td>0</td>\n",
       "      <td>worldcom boss leav book alon former worldcom b...</td>\n",
       "    </tr>\n",
       "    <tr>\n",
       "      <th>2</th>\n",
       "      <td>3</td>\n",
       "      <td>tiger wari farrel gambl leicest say rush make ...</td>\n",
       "    </tr>\n",
       "    <tr>\n",
       "      <th>3</th>\n",
       "      <td>3</td>\n",
       "      <td>yead face newcastl fa cup premiership side new...</td>\n",
       "    </tr>\n",
       "    <tr>\n",
       "      <th>4</th>\n",
       "      <td>1</td>\n",
       "      <td>ocean twelv raid box offic ocean twelv crime c...</td>\n",
       "    </tr>\n",
       "  </tbody>\n",
       "</table>\n",
       "</div>"
      ],
      "text/plain": [
       "   category                                   transformed text\n",
       "0         4  tv futur hand viewer home theatr system plasma...\n",
       "1         0  worldcom boss leav book alon former worldcom b...\n",
       "2         3  tiger wari farrel gambl leicest say rush make ...\n",
       "3         3  yead face newcastl fa cup premiership side new...\n",
       "4         1  ocean twelv raid box offic ocean twelv crime c..."
      ]
     },
     "execution_count": 4,
     "metadata": {},
     "output_type": "execute_result"
    }
   ],
   "source": [
    "df.head()"
   ]
  },
  {
   "cell_type": "code",
   "execution_count": 5,
   "id": "556fbc39",
   "metadata": {},
   "outputs": [],
   "source": [
    "from sklearn.feature_extraction.text import CountVectorizer,TfidfVectorizer\n",
    "cv = CountVectorizer()\n",
    "tfidf = TfidfVectorizer(max_features=3000)"
   ]
  },
  {
   "cell_type": "code",
   "execution_count": 6,
   "id": "36f5a879",
   "metadata": {},
   "outputs": [],
   "source": [
    "X= tfidf.fit_transform(df['transformed text']).toarray()\n",
    "y= df['category'].values"
   ]
  },
  {
   "cell_type": "code",
   "execution_count": 7,
   "id": "6c34a4bc",
   "metadata": {},
   "outputs": [],
   "source": [
    "from sklearn.model_selection import train_test_split\n",
    "X_train,X_test,y_train,y_test= train_test_split(X,y,test_size=0.2,random_state=42)"
   ]
  },
  {
   "cell_type": "code",
   "execution_count": 8,
   "id": "0fee406d",
   "metadata": {},
   "outputs": [],
   "source": [
    "from sklearn.naive_bayes import GaussianNB,MultinomialNB,BernoulliNB\n",
    "from sklearn.metrics import accuracy_score,confusion_matrix,precision_score\n",
    "gnb = GaussianNB()\n",
    "bnb= BernoulliNB()\n",
    "mnb= MultinomialNB()"
   ]
  },
  {
   "cell_type": "code",
   "execution_count": 15,
   "id": "356c58e5",
   "metadata": {},
   "outputs": [
    {
     "name": "stdout",
     "output_type": "stream",
     "text": [
      "accuracy_score 0.9084507042253521\n",
      "Confusion Matrix:\n",
      " [[ 79   3   5   0   9]\n",
      " [  0  61   2   0   5]\n",
      " [  4   3  76   0   0]\n",
      " [  0   1   0 107   1]\n",
      " [  4   1   1   0  64]]\n",
      "weighted precision_score - 0.9110151518235229\n"
     ]
    }
   ],
   "source": [
    "gnb.fit(X_train,y_train)\n",
    "y_pred1= gnb.predict(X_test)\n",
    "print(\"accuracy_score\",accuracy_score(y_test,y_pred1))\n",
    "print(\"Confusion Matrix:\\n\",confusion_matrix(y_test,y_pred1))\n",
    "print(\"weighted precision_score -\" ,precision_score(y_test,y_pred1, average = 'weighted'))"
   ]
  },
  {
   "cell_type": "code",
   "execution_count": 17,
   "id": "459c66cb",
   "metadata": {},
   "outputs": [
    {
     "name": "stdout",
     "output_type": "stream",
     "text": [
      "accuracy_score 0.971830985915493\n",
      "Confusion Matrix:\n",
      " [[ 94   0   1   0   1]\n",
      " [  0  66   2   0   0]\n",
      " [  3   0  79   1   0]\n",
      " [  0   0   0 109   0]\n",
      " [  1   1   1   1  66]]\n",
      "weighted precision_score - 0.9719670591468543\n"
     ]
    }
   ],
   "source": [
    "mnb.fit(X_train,y_train)\n",
    "y_pred2= mnb.predict(X_test)\n",
    "print(\"accuracy_score\",accuracy_score(y_test,y_pred2))\n",
    "print(\"Confusion Matrix:\\n\",confusion_matrix(y_test,y_pred2))\n",
    "print(\"weighted precision_score -\" ,precision_score(y_test,y_pred2, average = 'weighted'))"
   ]
  },
  {
   "cell_type": "code",
   "execution_count": 18,
   "id": "2784d155",
   "metadata": {},
   "outputs": [
    {
     "name": "stdout",
     "output_type": "stream",
     "text": [
      "accuracy_score 0.9624413145539906\n",
      "Confusion Matrix:\n",
      " [[ 93   0   1   0   2]\n",
      " [  0  67   0   0   1]\n",
      " [  1   2  80   0   0]\n",
      " [  0   0   0 109   0]\n",
      " [  5   3   1   0  61]]\n",
      "weighted precision_score - 0.9628027129476374\n"
     ]
    }
   ],
   "source": [
    "bnb.fit(X_train,y_train)\n",
    "y_pred3= bnb.predict(X_test)\n",
    "print(\"accuracy_score\",accuracy_score(y_test,y_pred3))\n",
    "print(\"Confusion Matrix:\\n\",confusion_matrix(y_test,y_pred3))\n",
    "print(\"weighted precision_score -\" ,precision_score(y_test,y_pred3, average = 'weighted'))"
   ]
  },
  {
   "cell_type": "markdown",
   "id": "7686e776",
   "metadata": {},
   "source": [
    "## Multinomial Naive Bayes gives the best accuracy, so we will proceed with it"
   ]
  },
  {
   "cell_type": "code",
   "execution_count": null,
   "id": "beefbc55",
   "metadata": {},
   "outputs": [],
   "source": []
  }
 ],
 "metadata": {
  "kernelspec": {
   "display_name": "Python 3 (ipykernel)",
   "language": "python",
   "name": "python3"
  },
  "language_info": {
   "codemirror_mode": {
    "name": "ipython",
    "version": 3
   },
   "file_extension": ".py",
   "mimetype": "text/x-python",
   "name": "python",
   "nbconvert_exporter": "python",
   "pygments_lexer": "ipython3",
   "version": "3.7.5"
  }
 },
 "nbformat": 4,
 "nbformat_minor": 5
}
