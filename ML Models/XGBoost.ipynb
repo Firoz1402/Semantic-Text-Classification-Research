{
 "cells": [
  {
   "cell_type": "code",
   "execution_count": 1,
   "id": "8c5a462a",
   "metadata": {},
   "outputs": [],
   "source": [
    "import numpy as np\n",
    "import pandas as pd\n",
    "import xgboost as xgb\n",
    "from sklearn.feature_extraction.text import TfidfVectorizer\n",
    "from sklearn.model_selection import train_test_split\n",
    "from sklearn.metrics import f1_score\n",
    "from hyperopt import fmin, tpe, hp, Trials\n",
    "from imblearn.over_sampling import RandomOverSampler\n",
    "from imblearn.over_sampling import SMOTE\n",
    "import hyperopt"
   ]
  },
  {
   "cell_type": "code",
   "execution_count": 2,
   "id": "15ba462d",
   "metadata": {},
   "outputs": [],
   "source": [
    "data = pd.read_csv(\"../Data/CleanedData.csv\")"
   ]
  },
  {
   "cell_type": "code",
   "execution_count": 3,
   "id": "dc06f858",
   "metadata": {},
   "outputs": [],
   "source": [
    "tfidf_vectorizer = TfidfVectorizer(max_features=5000)  # Adjust max_features as needed\n",
    "X = tfidf_vectorizer.fit_transform(data['transformed text'])\n",
    "y = data['subject'].values"
   ]
  },
  {
   "cell_type": "code",
   "execution_count": 4,
   "id": "bc995b2a",
   "metadata": {},
   "outputs": [],
   "source": [
    "X_train, X_test, y_train, y_test = train_test_split(X, y, test_size=0.2, random_state=42)"
   ]
  },
  {
   "cell_type": "code",
   "execution_count": 5,
   "id": "1153de37",
   "metadata": {},
   "outputs": [],
   "source": [
    "oversampler = SMOTE(random_state=42)\n",
    "X_train, y_train = oversampler.fit_resample(X_train, y_train)"
   ]
  },
  {
   "cell_type": "code",
   "execution_count": 6,
   "id": "4cb7cb4d",
   "metadata": {},
   "outputs": [],
   "source": [
    "xg_clf = xgb.XGBClassifier(objective='multi:softprob', num_class=6)"
   ]
  },
  {
   "cell_type": "code",
   "execution_count": 7,
   "id": "3b880cac",
   "metadata": {},
   "outputs": [],
   "source": [
    "search_space = {\n",
    "    'n_estimators': hyperopt.hp.choice('n_estimators', [100, 200, 300, 400, 500]),\n",
    "    'max_depth': hyperopt.hp.choice('max_depth', [3, 4, 5, 6, 7]),\n",
    "    'learning_rate': hyperopt.hp.choice('learning_rate', [0.01, 0.05, 0.1]),\n",
    "    'reg_alpha': hyperopt.hp.uniform('reg_alpha', 0, 1),\n",
    "    'reg_lambda': hyperopt.hp.uniform('reg_lambda', 0, 1)\n",
    "}"
   ]
  },
  {
   "cell_type": "code",
   "execution_count": 8,
   "id": "dff92df7",
   "metadata": {},
   "outputs": [],
   "source": [
    "def objective(params):\n",
    "    xg_clf = xgb.XGBClassifier(**params)\n",
    "    xg_clf.fit(X_train, y_train)\n",
    "\n",
    "    y_pred = xg_clf.predict(X_test)\n",
    "    f1 = f1_score(y_test, y_pred, average='weighted')\n",
    "\n",
    "    return -f1"
   ]
  },
  {
   "cell_type": "code",
   "execution_count": 9,
   "id": "6eed7b67",
   "metadata": {},
   "outputs": [
    {
     "name": "stdout",
     "output_type": "stream",
     "text": [
      "100%|████| 50/50 [11:14:17<00:00, 809.15s/trial, best loss: -0.7723709195044903]\n"
     ]
    }
   ],
   "source": [
    "best_params = hyperopt.fmin(fn=objective, space=search_space, algo=hyperopt.tpe.suggest, max_evals=50)"
   ]
  },
  {
   "cell_type": "code",
   "execution_count": 15,
   "id": "e3c237ad",
   "metadata": {},
   "outputs": [
    {
     "name": "stdout",
     "output_type": "stream",
     "text": [
      "Best parameters: {'learning_rate': 2, 'max_depth': 0, 'n_estimators': 3, 'reg_alpha': 0.7896796965233772, 'reg_lambda': 0.6670024028587416}\n"
     ]
    }
   ],
   "source": [
    "print('Best parameters:', best_params)\n"
   ]
  },
  {
   "cell_type": "code",
   "execution_count": 16,
   "id": "83948ca8",
   "metadata": {},
   "outputs": [
    {
     "name": "stdout",
     "output_type": "stream",
     "text": [
      "F1 score on test set: 0.7469063790095996\n"
     ]
    }
   ],
   "source": [
    "# Train the XGBoost classifier with the best parameters\n",
    "xg_clf = xgb.XGBClassifier(learning_rate=0.1,max_depth =6,n_estimators=400,reg_alpha=0.7896796965233772,reg_lambda=0.6670024028587416)\n",
    "xg_clf.fit(X_train, y_train)\n",
    "\n",
    "# Evaluate the XGBoost classifier on the test set\n",
    "y_pred = xg_clf.predict(X_test)\n",
    "f1 = f1_score(y_test, y_pred, average='weighted')\n",
    "\n",
    "print('F1 score on test set:', f1)"
   ]
  },
  {
   "cell_type": "code",
   "execution_count": null,
   "id": "8ba4dfb7",
   "metadata": {},
   "outputs": [],
   "source": []
  }
 ],
 "metadata": {
  "kernelspec": {
   "display_name": "Python 3 (ipykernel)",
   "language": "python",
   "name": "python3"
  },
  "language_info": {
   "codemirror_mode": {
    "name": "ipython",
    "version": 3
   },
   "file_extension": ".py",
   "mimetype": "text/x-python",
   "name": "python",
   "nbconvert_exporter": "python",
   "pygments_lexer": "ipython3",
   "version": "3.7.5"
  }
 },
 "nbformat": 4,
 "nbformat_minor": 5
}
