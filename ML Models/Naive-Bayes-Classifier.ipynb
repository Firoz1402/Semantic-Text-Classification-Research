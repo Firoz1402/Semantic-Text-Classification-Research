{
 "cells": [
  {
   "cell_type": "code",
   "execution_count": 1,
   "id": "a4af10e1",
   "metadata": {},
   "outputs": [],
   "source": [
    "import sklearn\n",
    "import pandas as pd\n",
    "import numpy as np\n",
    "from sklearn.model_selection import train_test_split, GridSearchCV\n",
    "from sklearn.naive_bayes import MultinomialNB, GaussianNB, BernoulliNB\n",
    "from sklearn.metrics import f1_score, classification_report,accuracy_score\n",
    "from hyperopt import fmin, tpe, hp, STATUS_OK, Trials, space_eval\n",
    "from sklearn.model_selection import cross_val_score\n",
    "from sklearn.preprocessing import LabelEncoder\n",
    "\n"
   ]
  },
  {
   "cell_type": "code",
   "execution_count": 2,
   "id": "112fc8cf",
   "metadata": {},
   "outputs": [],
   "source": [
    "df = pd.read_csv('../Data/CleanedEcommerce.csv')"
   ]
  },
  {
   "cell_type": "code",
   "execution_count": 3,
   "id": "478078f3",
   "metadata": {
    "scrolled": true
   },
   "outputs": [
    {
     "data": {
      "text/html": [
       "<div>\n",
       "<style scoped>\n",
       "    .dataframe tbody tr th:only-of-type {\n",
       "        vertical-align: middle;\n",
       "    }\n",
       "\n",
       "    .dataframe tbody tr th {\n",
       "        vertical-align: top;\n",
       "    }\n",
       "\n",
       "    .dataframe thead th {\n",
       "        text-align: right;\n",
       "    }\n",
       "</style>\n",
       "<table border=\"1\" class=\"dataframe\">\n",
       "  <thead>\n",
       "    <tr style=\"text-align: right;\">\n",
       "      <th></th>\n",
       "      <th>label</th>\n",
       "      <th>desc</th>\n",
       "    </tr>\n",
       "  </thead>\n",
       "  <tbody>\n",
       "    <tr>\n",
       "      <th>0</th>\n",
       "      <td>Household</td>\n",
       "      <td>paper plane design frame wall hang motiv offic...</td>\n",
       "    </tr>\n",
       "    <tr>\n",
       "      <th>1</th>\n",
       "      <td>Household</td>\n",
       "      <td>saf frame paint wood 30 inch x 10 inch special...</td>\n",
       "    </tr>\n",
       "    <tr>\n",
       "      <th>2</th>\n",
       "      <td>Household</td>\n",
       "      <td>saf textur modern art print frame paint synthe...</td>\n",
       "    </tr>\n",
       "    <tr>\n",
       "      <th>3</th>\n",
       "      <td>Household</td>\n",
       "      <td>saf flower print frame paint synthet 13 5 inch...</td>\n",
       "    </tr>\n",
       "    <tr>\n",
       "      <th>4</th>\n",
       "      <td>Household</td>\n",
       "      <td>incred gift india wooden happi birthday uniqu ...</td>\n",
       "    </tr>\n",
       "  </tbody>\n",
       "</table>\n",
       "</div>"
      ],
      "text/plain": [
       "       label                                               desc\n",
       "0  Household  paper plane design frame wall hang motiv offic...\n",
       "1  Household  saf frame paint wood 30 inch x 10 inch special...\n",
       "2  Household  saf textur modern art print frame paint synthe...\n",
       "3  Household  saf flower print frame paint synthet 13 5 inch...\n",
       "4  Household  incred gift india wooden happi birthday uniqu ..."
      ]
     },
     "execution_count": 3,
     "metadata": {},
     "output_type": "execute_result"
    }
   ],
   "source": [
    "df.head()"
   ]
  },
  {
   "cell_type": "code",
   "execution_count": 4,
   "id": "df84f1ab",
   "metadata": {},
   "outputs": [],
   "source": [
    "text = 'desc'\n",
    "label = 'label'\n",
    "num_classes = df[label].nunique()"
   ]
  },
  {
   "cell_type": "code",
   "execution_count": 5,
   "id": "b962ed23",
   "metadata": {},
   "outputs": [
    {
     "data": {
      "text/plain": [
       "(27802, 2)"
      ]
     },
     "execution_count": 5,
     "metadata": {},
     "output_type": "execute_result"
    }
   ],
   "source": [
    "df.shape"
   ]
  },
  {
   "cell_type": "code",
   "execution_count": 6,
   "id": "556fbc39",
   "metadata": {},
   "outputs": [],
   "source": [
    "from sklearn.feature_extraction.text import TfidfVectorizer\n",
    "tfidf = TfidfVectorizer(max_features=5000)"
   ]
  },
  {
   "cell_type": "code",
   "execution_count": 7,
   "id": "b5649c33",
   "metadata": {},
   "outputs": [],
   "source": [
    "df = df.dropna()"
   ]
  },
  {
   "cell_type": "code",
   "execution_count": 8,
   "id": "a3abeb2f",
   "metadata": {},
   "outputs": [],
   "source": [
    "label_encoder = LabelEncoder()\n",
    "\n",
    "df[label] = label_encoder.fit_transform(df[label])"
   ]
  },
  {
   "cell_type": "code",
   "execution_count": 9,
   "id": "36f5a879",
   "metadata": {},
   "outputs": [],
   "source": [
    "X= tfidf.fit_transform(df[text]).toarray()\n",
    "y= df[label].values"
   ]
  },
  {
   "cell_type": "code",
   "execution_count": 11,
   "id": "6c34a4bc",
   "metadata": {},
   "outputs": [],
   "source": [
    "from sklearn.model_selection import train_test_split\n",
    "X_train,X_test,y_train,y_test= train_test_split(X,y,test_size=0.2,random_state=42, stratify = y)\n",
    "X_val,X_test,y_val,y_test= train_test_split(X_test,y_test,test_size=0.4,random_state=42)\n"
   ]
  },
  {
   "cell_type": "code",
   "execution_count": 12,
   "id": "65170561",
   "metadata": {},
   "outputs": [],
   "source": [
    "from imblearn.over_sampling import SMOTE\n",
    "smote = SMOTE(sampling_strategy='auto', random_state=42)\n",
    "X_train, y_train = smote.fit_resample(X_train, y_train)\n"
   ]
  },
  {
   "cell_type": "code",
   "execution_count": 14,
   "id": "a9a9235a",
   "metadata": {},
   "outputs": [
    {
     "name": "stdout",
     "output_type": "stream",
     "text": [
      "Counter({3: 10564, 0: 6255, 1: 5674, 2: 5308})\n"
     ]
    }
   ],
   "source": [
    "from collections import Counter\n",
    "\n",
    "label_distribution = Counter(y)\n",
    "\n",
    "print(label_distribution)"
   ]
  },
  {
   "cell_type": "code",
   "execution_count": 19,
   "id": "bfaf7d6d",
   "metadata": {},
   "outputs": [],
   "source": [
    "def objective(params):\n",
    "    if params['classifier']['type'] == 'MultinomialNB':\n",
    "        classifier = MultinomialNB(alpha=params['classifier']['alpha'])\n",
    "    elif params['classifier']['type'] == 'GaussianNB':\n",
    "        classifier = GaussianNB(var_smoothing=params['classifier']['var_smoothing'])\n",
    "    else:\n",
    "        classifier = BernoulliNB(alpha=params['classifier']['alpha'], binarize=params['classifier']['binarize'])\n",
    "    \n",
    "   # Train the classifier\n",
    "    classifier.fit(X_train, y_train)\n",
    "    \n",
    "    # Make predictions on the test set\n",
    "    y_pred = classifier.predict(X_val)\n",
    "    \n",
    "    # Calculate F1 score\n",
    "    f1 = f1_score(y_val, y_pred, average='weighted')\n",
    "    \n",
    "    return {'loss': -f1, 'status': STATUS_OK}\n"
   ]
  },
  {
   "cell_type": "code",
   "execution_count": 20,
   "id": "647d2b6a",
   "metadata": {},
   "outputs": [],
   "source": [
    "space = {\n",
    "    'classifier': hp.choice('classifier', [\n",
    "        {\n",
    "            'type': 'MultinomialNB',\n",
    "            'alpha': hp.loguniform('alpha_mnb', 1e-6, 2),\n",
    "        },\n",
    "        {\n",
    "            'type': 'GaussianNB',\n",
    "            'var_smoothing': hp.loguniform('var_smoothing', 1e-9, 1e-1),\n",
    "        },\n",
    "        {\n",
    "            'type': 'BernoulliNB',\n",
    "            'alpha': hp.loguniform('alpha_bnb', 1e-5, 1),\n",
    "            'binarize': hp.uniform('binarize_bnb', 0.0, 1.0),\n",
    "        }\n",
    "    ])\n",
    "}\n"
   ]
  },
  {
   "cell_type": "code",
   "execution_count": 21,
   "id": "75202143",
   "metadata": {},
   "outputs": [
    {
     "name": "stdout",
     "output_type": "stream",
     "text": [
      "100%|██████| 100/100 [01:08<00:00,  1.45trial/s, best loss: -0.9316053826853495]\n",
      "Best Hyperparameters:\n",
      "{'alpha_mnb': 1.158728145418749, 'classifier': 0}\n"
     ]
    }
   ],
   "source": [
    "best = fmin(fn=objective, space=space, algo=tpe.suggest, max_evals=100, rstate=np.random.default_rng(42))\n",
    "\n",
    "print(\"Best Hyperparameters:\")\n",
    "print(best)"
   ]
  },
  {
   "cell_type": "code",
   "execution_count": 18,
   "id": "f4adc865",
   "metadata": {},
   "outputs": [
    {
     "name": "stdout",
     "output_type": "stream",
     "text": [
      "Accuracy : 0.9303370786516854\n",
      "F1 Score : 0.9303328087539924\n",
      "              precision    recall  f1-score   support\n",
      "\n",
      "           0       0.94      0.93      0.93       489\n",
      "           1       0.94      0.97      0.95       449\n",
      "           2       0.89      0.91      0.90       410\n",
      "           3       0.94      0.92      0.93       877\n",
      "\n",
      "    accuracy                           0.93      2225\n",
      "   macro avg       0.93      0.93      0.93      2225\n",
      "weighted avg       0.93      0.93      0.93      2225\n",
      "\n"
     ]
    }
   ],
   "source": [
    "mnb = (alpha = 1.23443343650026,binarize = 0.12838447657183444)\n",
    "bnb.fit(X_train,y_train)\n",
    "y_pred = bnb.predict(X_test)\n",
    "acc = accuracy_score(y_test,y_pred)\n",
    "f1= f1_score(y_test,y_pred, average='weighted')\n",
    "class_report = classification_report(y_test,y_pred)\n",
    "print('Accuracy :', acc)\n",
    "print('F1 Score :',f1)\n",
    "print(class_report)"
   ]
  },
  {
   "cell_type": "markdown",
   "id": "7686e776",
   "metadata": {},
   "source": [
    "## Multinomial Naive Bayes gives the best accuracy, so we will proceed with it"
   ]
  },
  {
   "cell_type": "code",
   "execution_count": null,
   "id": "71a5516a",
   "metadata": {},
   "outputs": [],
   "source": []
  },
  {
   "cell_type": "markdown",
   "id": "6d91abf2",
   "metadata": {},
   "source": [
    "# Using Word2Vec vectors for training"
   ]
  },
  {
   "cell_type": "code",
   "execution_count": 26,
   "id": "bf724692",
   "metadata": {},
   "outputs": [],
   "source": [
    "df = pd.read_csv('word2vecData.csv')\n"
   ]
  },
  {
   "cell_type": "code",
   "execution_count": 27,
   "id": "611c65d2",
   "metadata": {},
   "outputs": [
    {
     "name": "stdout",
     "output_type": "stream",
     "text": [
      "<class 'pandas.core.frame.DataFrame'>\n",
      "RangeIndex: 43125 entries, 0 to 43124\n",
      "Data columns (total 2 columns):\n",
      " #   Column   Non-Null Count  Dtype \n",
      "---  ------   --------------  ----- \n",
      " 0   subject  43125 non-null  int64 \n",
      " 1   vec      43125 non-null  object\n",
      "dtypes: int64(1), object(1)\n",
      "memory usage: 674.0+ KB\n"
     ]
    }
   ],
   "source": [
    "df.info()"
   ]
  },
  {
   "cell_type": "code",
   "execution_count": 31,
   "id": "cd9b17cc",
   "metadata": {},
   "outputs": [
    {
     "name": "stdout",
     "output_type": "stream",
     "text": [
      "<class 'list'>\n"
     ]
    }
   ],
   "source": [
    "import ast\n",
    "\n",
    "# Convert the string representation to a list\n",
    "df['vec'] = df['vec'].apply(ast.literal_eval)\n",
    "\n",
    "# Verify the data type of the column\n",
    "print(type(df['vec'].iloc[0]))"
   ]
  },
  {
   "cell_type": "code",
   "execution_count": 32,
   "id": "41057138",
   "metadata": {},
   "outputs": [],
   "source": [
    "X = df['vec'].to_list()\n",
    "y = df['subject'].to_list()"
   ]
  },
  {
   "cell_type": "code",
   "execution_count": 33,
   "id": "4d59e90b",
   "metadata": {},
   "outputs": [
    {
     "data": {
      "text/plain": [
       "[0.017181913731461863,\n",
       " 0.054051674018471926,\n",
       " 0.02501760364252295,\n",
       " 0.1145188498631709,\n",
       " -0.07854115222133486,\n",
       " 0.013064093508962857,\n",
       " 0.03582854190115201,\n",
       " -0.06757971122439972,\n",
       " 0.07362481025652697,\n",
       " 0.06868105958410575,\n",
       " -0.04545136360125353,\n",
       " -0.07671412236272952,\n",
       " -0.0677699288405941,\n",
       " 0.027317779885847018,\n",
       " -0.07981907041732875,\n",
       " 0.07597549352268715,\n",
       " 0.0445443708344368,\n",
       " 0.0843538618357168,\n",
       " -0.014792016670528778,\n",
       " -0.10628513831876765,\n",
       " 0.006775034349516961,\n",
       " 0.018582618842690676,\n",
       " 0.07434383489317813,\n",
       " -0.03250578971905897,\n",
       " 0.025516833289194914,\n",
       " 0.015695469527594787,\n",
       " -0.06637474641961566,\n",
       " 0.05962376136564265,\n",
       " 0.06179611292262535,\n",
       " -0.01286162899038886,\n",
       " 0.005549328475348694,\n",
       " 0.011451300928148172,\n",
       " -0.053575073931850285,\n",
       " -0.01066235903292726,\n",
       " 0.017091136867717162,\n",
       " 0.004068493169579802,\n",
       " 0.01690352703891905,\n",
       " 0.029450562040684587,\n",
       " 0.033840976865951625,\n",
       " 0.06556245836160951,\n",
       " 0.09580701892658816,\n",
       " -0.0669507387667726,\n",
       " 0.11927528165828037,\n",
       " 0.04103657350701801,\n",
       " -0.02093949829791225,\n",
       " -0.10171866551630915,\n",
       " -0.0018307529600326625,\n",
       " 0.009238129955227091,\n",
       " -0.03124655168608757,\n",
       " 0.025724809722038312,\n",
       " -0.07308740130925583,\n",
       " 0.040010349898688534,\n",
       " -0.0070409397620939266,\n",
       " 0.007748404465152719,\n",
       " 0.013911349625237244,\n",
       " 0.037327545510847014,\n",
       " -0.09286399884412518,\n",
       " -0.07418884799978827,\n",
       " 0.042140615861968135,\n",
       " -0.09442354191494527,\n",
       " -0.004317633849752825,\n",
       " 0.06027943670412915,\n",
       " -0.0644919831874007,\n",
       " -0.015670345327948445,\n",
       " 0.028214018223649363,\n",
       " -0.0403554453014654,\n",
       " -0.06476683535818327,\n",
       " 0.04283655026538224,\n",
       " -0.017644505042814264,\n",
       " 0.08225435591013418,\n",
       " 0.06330174881186189,\n",
       " 0.06358708096089336,\n",
       " 0.05050583882520428,\n",
       " 0.045068255925582626,\n",
       " -0.1129375393107786,\n",
       " -0.04436781716212041,\n",
       " 0.03778300312279308,\n",
       " 0.0741039211467161,\n",
       " 0.05573216669977048,\n",
       " 0.11159252446923552,\n",
       " -0.01744878090034097,\n",
       " -0.01951937486896407,\n",
       " -0.0013493036819716632,\n",
       " -0.016133798717778956,\n",
       " -0.014798094323799435,\n",
       " -0.01179784570036635,\n",
       " -0.09169946013197387,\n",
       " 0.1106832471944518,\n",
       " 0.015573514383391471,\n",
       " 0.03254122114450918,\n",
       " 0.03593134475966631,\n",
       " 0.027268560592737575,\n",
       " -0.10536545144636078,\n",
       " -0.0745801332980226,\n",
       " -0.010940250030345162,\n",
       " -0.01937288618357168,\n",
       " 0.02862018649860964,\n",
       " 0.06465778243070268,\n",
       " 0.05753303786455575,\n",
       " -0.026137874624823445,\n",
       " -0.04917321501478637,\n",
       " -0.0028704627085540256,\n",
       " 0.0344246039956303,\n",
       " -0.008866541803219897,\n",
       " -0.035270906437588276,\n",
       " -0.054162472654870675,\n",
       " -0.042481546348097636,\n",
       " -0.040589122448937365,\n",
       " 0.033509680106814974,\n",
       " -0.0523802331611935,\n",
       " -0.09280254342461709,\n",
       " -0.03640216892048464,\n",
       " -0.010129120390293962,\n",
       " 0.03129096607030448,\n",
       " 0.12119211315435205,\n",
       " -0.015959831280896893,\n",
       " 0.005366869565457274,\n",
       " -0.07660248319981462,\n",
       " 0.03778991052659891,\n",
       " 0.027335735364148846,\n",
       " -0.012119950547730182,\n",
       " -0.013994292350812147,\n",
       " -0.06985527512717382,\n",
       " 0.052567993853725285,\n",
       " 0.042996131767660886,\n",
       " -0.07219913719737597,\n",
       " -0.011876036218330685,\n",
       " -0.019140900865112994,\n",
       " 0.01854731672901218,\n",
       " -0.03045438777255473,\n",
       " -0.0849473166600459,\n",
       " -0.06562658622439972,\n",
       " -0.016244586578196725,\n",
       " 0.03152189955199506,\n",
       " -0.04135080111228814,\n",
       " -0.008392290880451094,\n",
       " -0.0310036718508618,\n",
       " 0.020313672426730225,\n",
       " 0.03470079238805394,\n",
       " 0.05768072268383651,\n",
       " 0.0686598093496204,\n",
       " -0.06731022549214336,\n",
       " -0.0057370029600326625,\n",
       " 0.005141565355203919,\n",
       " 0.01368881484209481,\n",
       " 0.008396859896385063,\n",
       " -0.025464849956965043,\n",
       " -0.08076916710805085,\n",
       " -0.0005365369346855724,\n",
       " -0.08995245809608933,\n",
       " 0.0976891813978637,\n",
       " -0.01113081247793079,\n",
       " -0.0637833762303584,\n",
       " 0.040206629004182114,\n",
       " -0.029808561680680613,\n",
       " -0.035213535114870236,\n",
       " -0.04749974827308439,\n",
       " -0.05749597926597811,\n",
       " -0.055452723961091986,\n",
       " -0.057361581231241174,\n",
       " -0.027403060999293787,\n",
       " 0.03995363052281956,\n",
       " 0.028158371057887537,\n",
       " -0.01880589716852048,\n",
       " 0.03390951210496116,\n",
       " -0.1038570080773305,\n",
       " 0.06781859317068327,\n",
       " -0.07930863375044138,\n",
       " -0.021520646951966368,\n",
       " 0.02105514612575035,\n",
       " -0.0860108844304489,\n",
       " -0.011287365929555085,\n",
       " -0.022097657629325564,\n",
       " -0.08061239813680703,\n",
       " 0.00669940582102975,\n",
       " 0.0325244968220339,\n",
       " 0.10029796018438825,\n",
       " -0.0591314923291826,\n",
       " 0.004205736063294492,\n",
       " -0.013865670241878531,\n",
       " -0.07854961675439177,\n",
       " -0.0749703962250618,\n",
       " 0.023339826508430438,\n",
       " -0.0185321872517214,\n",
       " -0.004278840318237994,\n",
       " -0.012150080190540034,\n",
       " -0.040755277299611585,\n",
       " -3.896594721045198e-05,\n",
       " 0.041482440495895126,\n",
       " 0.013770755401438912,\n",
       " 0.06295983266022245,\n",
       " 0.040652905480336336,\n",
       " -0.016896608859132238,\n",
       " -0.0013017816058659957,\n",
       " 0.026081968835518186,\n",
       " 0.057987536414194914,\n",
       " -0.01823878961767854,\n",
       " -0.012613759875971044,\n",
       " -0.0646138164283192,\n",
       " -0.0565844174832274,\n",
       " -0.06335897499558615,\n",
       " 0.08127243774758894,\n",
       " -0.007255080056055791,\n",
       " -0.036622839458918165,\n",
       " -0.026784433483403956,\n",
       " -0.04164037327308439,\n",
       " -0.010442787644553319,\n",
       " 0.009498639295330156,\n",
       " -0.039306640625,\n",
       " 0.0022669215660310734,\n",
       " 0.015502110712945797,\n",
       " 0.06259466699287716,\n",
       " -0.026659173480534957,\n",
       " -0.005037684898591984,\n",
       " -0.10207526427877825,\n",
       " 0.01016117354570809,\n",
       " 0.07605277885824947,\n",
       " -0.06359951644294005,\n",
       " -0.10389580160884535,\n",
       " 0.01677992653712041,\n",
       " -0.053791455629855225,\n",
       " 0.021353770110566737,\n",
       " -0.005281836299572961,\n",
       " 0.005684394620906162,\n",
       " 0.05685200664283192,\n",
       " -0.052611636576679464,\n",
       " 0.05817499537925936,\n",
       " 0.013425579178804731,\n",
       " -0.005328981216344456,\n",
       " -0.03233570163532839,\n",
       " 0.01126749502063471,\n",
       " 0.010534943833862994,\n",
       " -0.026633612853659075,\n",
       " 0.042398829918123236,\n",
       " 0.0604962709933351,\n",
       " 0.02114010395976783,\n",
       " 0.01620762226945263,\n",
       " -0.053913849221784514,\n",
       " 0.08038506804213012,\n",
       " 0.03758175090207892,\n",
       " 0.08068081484002582,\n",
       " 0.021598147807148218,\n",
       " -0.0034879695224223164,\n",
       " -0.027732353425968838,\n",
       " -0.05299187784141066,\n",
       " 0.034013996016507765,\n",
       " -0.024523999057920638,\n",
       " 0.0685737739175053,\n",
       " -0.003933664095603814,\n",
       " -0.059446043887380826,\n",
       " 0.02175765387756003,\n",
       " 0.07542109422091037,\n",
       " 0.043478841835496114,\n",
       " 0.09643740034372793,\n",
       " 0.06444217660332803,\n",
       " -0.005923438206904352,\n",
       " -0.017874942661005224,\n",
       " 0.04378927629546257,\n",
       " -0.03722976425946769,\n",
       " -0.05929207667119085,\n",
       " 0.028375657938294493,\n",
       " 0.014698653571349753,\n",
       " -0.05810512391860876,\n",
       " 0.001060830671234993,\n",
       " 0.04000156208620233,\n",
       " 0.07290843381720075,\n",
       " -0.056214327192575915,\n",
       " 0.011068613515735347,\n",
       " -0.05991298869504767,\n",
       " -0.020733935684807556,\n",
       " 0.008014829818811794,\n",
       " 0.03896732653601695,\n",
       " 0.1073761417367364,\n",
       " -0.0399820791125971,\n",
       " 0.03061275158898305,\n",
       " -0.07489272295418432,\n",
       " -0.06278612384688383,\n",
       " -0.08272780941031073,\n",
       " -0.042769782287252825,\n",
       " 0.04819962668553584,\n",
       " 0.007317688505528337,\n",
       " 0.024177680581302968,\n",
       " 0.0012850141794668079,\n",
       " 0.06432638329974676,\n",
       " 0.006397829217425847,\n",
       " -0.023468017578125,\n",
       " -0.08534529518946415,\n",
       " 0.030405680338541668,\n",
       " 0.04841415491481285,\n",
       " 0.0019144176763329801,\n",
       " 0.05733326195323535,\n",
       " 0.07282235528116172,\n",
       " -0.08629702982929467,\n",
       " -0.023721662618346132,\n",
       " -0.04532912087305791,\n",
       " -0.10642496744791667,\n",
       " -0.008088532140699484,\n",
       " -0.04456756613348837,\n",
       " -0.010519081589865819,\n",
       " 0.01683966857565325]"
      ]
     },
     "execution_count": 33,
     "metadata": {},
     "output_type": "execute_result"
    }
   ],
   "source": [
    "X[0]"
   ]
  },
  {
   "cell_type": "code",
   "execution_count": 34,
   "id": "5f248d21",
   "metadata": {},
   "outputs": [],
   "source": [
    "from sklearn.model_selection import train_test_split\n",
    "X_train, X_test, y_train, y_test = train_test_split(X, y, test_size=0.2,stratify=y)"
   ]
  },
  {
   "cell_type": "code",
   "execution_count": 13,
   "id": "e7f287ad",
   "metadata": {},
   "outputs": [
    {
     "name": "stdout",
     "output_type": "stream",
     "text": [
      "Weighted F1 Score: 0.7303612414248749\n",
      "Classification Report:\n",
      "               precision    recall  f1-score   support\n",
      "\n",
      "           0       0.66      0.64      0.65      3597\n",
      "           1       0.72      0.78      0.75      3496\n",
      "           2       0.94      0.89      0.92      3520\n",
      "           3       0.55      0.62      0.58      3443\n",
      "           4       0.65      0.52      0.58      3494\n",
      "           5       0.86      0.95      0.90      3522\n",
      "\n",
      "    accuracy                           0.73     21072\n",
      "   macro avg       0.73      0.73      0.73     21072\n",
      "weighted avg       0.73      0.73      0.73     21072\n",
      "\n"
     ]
    }
   ],
   "source": [
    "from sklearn.naive_bayes import MultinomialNB\n",
    "from sklearn.metrics import f1_score, classification_report\n",
    "\n",
    "mnb = MultinomialNB()\n",
    "mnb.fit(X_train, y_train)\n",
    "\n",
    "# Make predictions on the test data\n",
    "y_pred = mnb.predict(X_test)\n",
    "\n",
    "# Calculate weighted F1 score\n",
    "f1 = f1_score(y_test, y_pred, average='weighted')\n",
    "\n",
    "# Print the classification report, including precision, recall, and F1 score for each class\n",
    "class_report = classification_report(y_test, y_pred)\n",
    "\n",
    "print(\"Weighted F1 Score:\",f1)\n",
    "print(\"Classification Report:\\n\", class_report)"
   ]
  },
  {
   "cell_type": "code",
   "execution_count": null,
   "id": "7e0febea",
   "metadata": {},
   "outputs": [],
   "source": []
  }
 ],
 "metadata": {
  "kernelspec": {
   "display_name": "Python 3 (ipykernel)",
   "language": "python",
   "name": "python3"
  },
  "language_info": {
   "codemirror_mode": {
    "name": "ipython",
    "version": 3
   },
   "file_extension": ".py",
   "mimetype": "text/x-python",
   "name": "python",
   "nbconvert_exporter": "python",
   "pygments_lexer": "ipython3",
   "version": "3.7.5"
  }
 },
 "nbformat": 4,
 "nbformat_minor": 5
}
