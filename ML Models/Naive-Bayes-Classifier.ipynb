{
 "cells": [
  {
   "cell_type": "code",
   "execution_count": 1,
   "id": "a4af10e1",
   "metadata": {},
   "outputs": [],
   "source": [
    "import sklearn\n",
    "import pandas as pd\n",
    "import numpy as np\n",
    "from sklearn.model_selection import train_test_split, GridSearchCV\n",
    "from sklearn.naive_bayes import MultinomialNB, GaussianNB, BernoulliNB"
   ]
  },
  {
   "cell_type": "code",
   "execution_count": 2,
   "id": "112fc8cf",
   "metadata": {},
   "outputs": [],
   "source": [
    "df = pd.read_csv('../Data/CleanedData.csv')"
   ]
  },
  {
   "cell_type": "code",
   "execution_count": 3,
   "id": "478078f3",
   "metadata": {
    "scrolled": true
   },
   "outputs": [
    {
     "data": {
      "text/html": [
       "<div>\n",
       "<style scoped>\n",
       "    .dataframe tbody tr th:only-of-type {\n",
       "        vertical-align: middle;\n",
       "    }\n",
       "\n",
       "    .dataframe tbody tr th {\n",
       "        vertical-align: top;\n",
       "    }\n",
       "\n",
       "    .dataframe thead th {\n",
       "        text-align: right;\n",
       "    }\n",
       "</style>\n",
       "<table border=\"1\" class=\"dataframe\">\n",
       "  <thead>\n",
       "    <tr style=\"text-align: right;\">\n",
       "      <th></th>\n",
       "      <th>subject</th>\n",
       "      <th>transformed text</th>\n",
       "    </tr>\n",
       "  </thead>\n",
       "  <tbody>\n",
       "    <tr>\n",
       "      <th>0</th>\n",
       "      <td>1</td>\n",
       "      <td>donald trump wish american happi new year leav...</td>\n",
       "    </tr>\n",
       "    <tr>\n",
       "      <th>1</th>\n",
       "      <td>1</td>\n",
       "      <td>hous intellig committe chairman devin nune go ...</td>\n",
       "    </tr>\n",
       "    <tr>\n",
       "      <th>2</th>\n",
       "      <td>1</td>\n",
       "      <td>friday reveal former milwauke sheriff david cl...</td>\n",
       "    </tr>\n",
       "    <tr>\n",
       "      <th>3</th>\n",
       "      <td>1</td>\n",
       "      <td>christma day donald trump announc would back w...</td>\n",
       "    </tr>\n",
       "    <tr>\n",
       "      <th>4</th>\n",
       "      <td>1</td>\n",
       "      <td>pope franci use annual christma day messag reb...</td>\n",
       "    </tr>\n",
       "  </tbody>\n",
       "</table>\n",
       "</div>"
      ],
      "text/plain": [
       "   subject                                   transformed text\n",
       "0        1  donald trump wish american happi new year leav...\n",
       "1        1  hous intellig committe chairman devin nune go ...\n",
       "2        1  friday reveal former milwauke sheriff david cl...\n",
       "3        1  christma day donald trump announc would back w...\n",
       "4        1  pope franci use annual christma day messag reb..."
      ]
     },
     "execution_count": 3,
     "metadata": {},
     "output_type": "execute_result"
    }
   ],
   "source": [
    "df.head()"
   ]
  },
  {
   "cell_type": "code",
   "execution_count": 4,
   "id": "b962ed23",
   "metadata": {},
   "outputs": [
    {
     "data": {
      "text/plain": [
       "(43125, 2)"
      ]
     },
     "execution_count": 4,
     "metadata": {},
     "output_type": "execute_result"
    }
   ],
   "source": [
    "df.shape"
   ]
  },
  {
   "cell_type": "code",
   "execution_count": 5,
   "id": "556fbc39",
   "metadata": {},
   "outputs": [],
   "source": [
    "from sklearn.feature_extraction.text import CountVectorizer,TfidfVectorizer\n",
    "cv = CountVectorizer()\n",
    "tfidf = TfidfVectorizer(max_features=5000)"
   ]
  },
  {
   "cell_type": "code",
   "execution_count": 6,
   "id": "b5649c33",
   "metadata": {},
   "outputs": [
    {
     "data": {
      "text/plain": [
       "subject             0\n",
       "transformed text    0\n",
       "dtype: int64"
      ]
     },
     "execution_count": 6,
     "metadata": {},
     "output_type": "execute_result"
    }
   ],
   "source": [
    "df.isnull().sum()"
   ]
  },
  {
   "cell_type": "code",
   "execution_count": 7,
   "id": "36f5a879",
   "metadata": {},
   "outputs": [],
   "source": [
    "X= tfidf.fit_transform(df['transformed text']).toarray()\n",
    "y= df['subject'].values"
   ]
  },
  {
   "cell_type": "code",
   "execution_count": 8,
   "id": "6c34a4bc",
   "metadata": {},
   "outputs": [],
   "source": [
    "from sklearn.model_selection import train_test_split\n",
    "X_train,X_test,y_train,y_test= train_test_split(X,y,test_size=0.2,random_state=42)"
   ]
  },
  {
   "cell_type": "code",
   "execution_count": 9,
   "id": "9d0933ab",
   "metadata": {},
   "outputs": [],
   "source": [
    "classifiers = {\n",
    "    'Multinomial Naive Bayes': {\n",
    "        'model': MultinomialNB(),\n",
    "        'param_grid': {\n",
    "            'alpha': [0.001,0.01],      # Additive smoothing parameter\n",
    "        }\n",
    "    },\n",
    "    'Gaussian Naive Bayes': {\n",
    "        'model': GaussianNB(),\n",
    "        'param_grid': {}  # Gaussian Naive Bayes has no hyperparameters to tune\n",
    "    },\n",
    "    'Bernoulli Naive Bayes': {\n",
    "        'model': BernoulliNB(),\n",
    "        'param_grid': {\n",
    "            'alpha': [0.001, 0.01],      # Additive smoothing parameter\n",
    "            'binarize': [0.0,0.00001]    # Threshold for binarizing input features\n",
    "        }\n",
    "    }\n",
    "}"
   ]
  },
  {
   "cell_type": "code",
   "execution_count": 10,
   "id": "9dd2824c",
   "metadata": {},
   "outputs": [
    {
     "name": "stdout",
     "output_type": "stream",
     "text": [
      "Multinomial Naive Bayes - Best Hyperparameters: {'alpha': 0.001}\n",
      "Multinomial Naive Bayes - Best Accuracy Score: 0.710927536231884\n",
      "\n",
      "\n",
      "Gaussian Naive Bayes - Best Hyperparameters: {}\n",
      "Gaussian Naive Bayes - Best Accuracy Score: 0.5283188405797101\n",
      "\n",
      "\n",
      "Bernoulli Naive Bayes - Best Hyperparameters: {'alpha': 0.001, 'binarize': 0.0}\n",
      "Bernoulli Naive Bayes - Best Accuracy Score: 0.696695652173913\n",
      "\n",
      "\n"
     ]
    }
   ],
   "source": [
    "best_model_name = None\n",
    "best_model = None\n",
    "best_accuracy = 0.0\n",
    "\n",
    "# Perform Grid Search CV for each classifier\n",
    "for clf_name, clf_params in classifiers.items():\n",
    "    model = clf_params['model']\n",
    "    param_grid = clf_params['param_grid']\n",
    "    \n",
    "    # Create a GridSearchCV object with the model and parameter grid\n",
    "    grid_search = GridSearchCV(model, param_grid, cv=5, scoring='accuracy')\n",
    "    \n",
    "    # Fit the grid search to your training data\n",
    "    grid_search.fit(X_train, y_train)\n",
    "    \n",
    "    # Get the best hyperparameters and corresponding accuracy score\n",
    "    best_params = grid_search.best_params_\n",
    "    best_score = grid_search.best_score_\n",
    "    \n",
    "    # Check if the current model is the best so far\n",
    "    if best_score > best_accuracy:\n",
    "        best_accuracy = best_score\n",
    "        best_model_name = clf_name\n",
    "        best_model = grid_search.best_estimator_\n",
    "    \n",
    "    # Print the results for the current classifier\n",
    "    print(f\"{clf_name} - Best Hyperparameters:\", best_params)\n",
    "    print(f\"{clf_name} - Best Accuracy Score:\", best_score)\n",
    "    print(\"\\n\")\n",
    "\n"
   ]
  },
  {
   "cell_type": "code",
   "execution_count": 11,
   "id": "561aadc2",
   "metadata": {},
   "outputs": [
    {
     "name": "stdout",
     "output_type": "stream",
     "text": [
      "Best Model: Multinomial Naive Bayes\n",
      "Best Model Accuracy: 0.710927536231884\n",
      "Best Model - Test Accuracy: 0.713159420289855\n",
      "Best Model - Confusion Matrix:\n",
      " [[   7   45    0   38  185   12]\n",
      " [   1 1432    0   87  351    5]\n",
      " [   2   16   91   11   35   10]\n",
      " [  10  219    0  282  300   24]\n",
      " [  19  355    1  340 2505  255]\n",
      " [   0    1    0   11  141 1834]]\n",
      "Best Model - Classification Report:\n",
      "               precision    recall  f1-score   support\n",
      "\n",
      "           0       0.18      0.02      0.04       287\n",
      "           1       0.69      0.76      0.73      1876\n",
      "           2       0.99      0.55      0.71       165\n",
      "           3       0.37      0.34      0.35       835\n",
      "           4       0.71      0.72      0.72      3475\n",
      "           5       0.86      0.92      0.89      1987\n",
      "\n",
      "    accuracy                           0.71      8625\n",
      "   macro avg       0.63      0.55      0.57      8625\n",
      "weighted avg       0.70      0.71      0.70      8625\n",
      "\n"
     ]
    }
   ],
   "source": [
    "# Print the best model among all classifiers\n",
    "print(f\"Best Model: {best_model_name}\")\n",
    "print(f\"Best Model Accuracy: {best_accuracy}\")\n",
    "\n",
    "# Use the best model to make predictions on the test data\n",
    "y_pred = best_model.predict(X_test)\n",
    "\n",
    "# Evaluate the best model's performance on the test data\n",
    "from sklearn.metrics import accuracy_score, classification_report, confusion_matrix\n",
    "accuracy = accuracy_score(y_test, y_pred)\n",
    "conf_matrix = confusion_matrix(y_test, y_pred)\n",
    "class_report = classification_report(y_test, y_pred)\n",
    "\n",
    "print(f\"Best Model - Test Accuracy:\", accuracy)\n",
    "print(f\"Best Model - Confusion Matrix:\\n\", conf_matrix)\n",
    "print(f\"Best Model - Classification Report:\\n\", class_report)"
   ]
  },
  {
   "cell_type": "markdown",
   "id": "7686e776",
   "metadata": {},
   "source": [
    "## Bernoulli Naive Bayes gives the best accuracy, so we will proceed with it"
   ]
  }
 ],
 "metadata": {
  "kernelspec": {
   "display_name": "Python 3 (ipykernel)",
   "language": "python",
   "name": "python3"
  },
  "language_info": {
   "codemirror_mode": {
    "name": "ipython",
    "version": 3
   },
   "file_extension": ".py",
   "mimetype": "text/x-python",
   "name": "python",
   "nbconvert_exporter": "python",
   "pygments_lexer": "ipython3",
   "version": "3.7.5"
  }
 },
 "nbformat": 4,
 "nbformat_minor": 5
}
