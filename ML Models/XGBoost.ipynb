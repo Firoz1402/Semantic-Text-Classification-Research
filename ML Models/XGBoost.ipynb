{
 "cells": [
  {
   "cell_type": "code",
   "execution_count": 1,
   "id": "8c5a462a",
   "metadata": {},
   "outputs": [],
   "source": [
    "import numpy as np\n",
    "import pandas as pd\n",
    "import xgboost as xgb\n",
    "from sklearn.feature_extraction.text import TfidfVectorizer\n",
    "from sklearn.model_selection import train_test_split\n",
    "from sklearn.metrics import f1_score, classification_report\n",
    "from hyperopt import fmin, tpe, hp, Trials\n",
    "from imblearn.over_sampling import RandomOverSampler\n",
    "from imblearn.over_sampling import SMOTE\n",
    "import hyperopt\n",
    "import time\n",
    "from sklearn.preprocessing import LabelEncoder"
   ]
  },
  {
   "cell_type": "code",
   "execution_count": 2,
   "id": "15ba462d",
   "metadata": {},
   "outputs": [],
   "source": [
    "df = pd.read_csv('../Data/CleanedEcommerce.csv')"
   ]
  },
  {
   "cell_type": "code",
   "execution_count": 3,
   "id": "99d0b916",
   "metadata": {},
   "outputs": [],
   "source": [
    "df = df.dropna()"
   ]
  },
  {
   "cell_type": "code",
   "execution_count": 4,
   "id": "cbcd8d78",
   "metadata": {},
   "outputs": [],
   "source": [
    "text = 'desc'\n",
    "label = 'label'\n",
    "num_classes = df[label].nunique()"
   ]
  },
  {
   "cell_type": "code",
   "execution_count": 5,
   "id": "7048fa0f",
   "metadata": {},
   "outputs": [],
   "source": [
    "label_encoder = LabelEncoder()\n",
    "\n",
    "df[label] = label_encoder.fit_transform(df[label])"
   ]
  },
  {
   "cell_type": "code",
   "execution_count": 6,
   "id": "dc06f858",
   "metadata": {},
   "outputs": [],
   "source": [
    "tfidf_vectorizer = TfidfVectorizer(max_features=5000)  # Adjust max_features as needed\n",
    "X = tfidf_vectorizer.fit_transform(df[text]).toarray()\n",
    "y = df[label].values"
   ]
  },
  {
   "cell_type": "code",
   "execution_count": 7,
   "id": "bc995b2a",
   "metadata": {},
   "outputs": [],
   "source": [
    "X_train, X_test, y_train, y_test = train_test_split(X, y, test_size=0.2, random_state=42, stratify = y)\n",
    "X_val, X_test, y_val, y_test = train_test_split(X_test, y_test, test_size=0.4, random_state=42)"
   ]
  },
  {
   "cell_type": "code",
   "execution_count": 8,
   "id": "1153de37",
   "metadata": {},
   "outputs": [],
   "source": [
    "oversampler = SMOTE(random_state=42)\n",
    "X_train, y_train = oversampler.fit_resample(X_train, y_train)"
   ]
  },
  {
   "cell_type": "code",
   "execution_count": 9,
   "id": "4cb7cb4d",
   "metadata": {},
   "outputs": [],
   "source": [
    "xg_clf = xgb.XGBClassifier(objective='multi:softprob', num_class=num_classes, verbose = 4, n_jobs=-1)"
   ]
  },
  {
   "cell_type": "code",
   "execution_count": 10,
   "id": "89d53b4a",
   "metadata": {},
   "outputs": [
    {
     "name": "stdout",
     "output_type": "stream",
     "text": [
      "[14:45:59] WARNING: ../src/learner.cc:627: \n",
      "Parameters: { \"verbose\" } might not be used.\n",
      "\n",
      "  This could be a false alarm, with some parameters getting used by language bindings but\n",
      "  then being mistakenly passed down to XGBoost core, or some parameter actually being used\n",
      "  but getting flagged wrongly here. Please open an issue if you find any such cases.\n",
      "\n",
      "\n",
      "Time taken for Tuning 3.5330618699391683 Mins\n",
      "F1 SCore: 0.9284842023567392\n",
      "Classification Report :/n               precision    recall  f1-score   support\n",
      "\n",
      "           0       0.89      0.93      0.91       489\n",
      "           1       0.95      0.97      0.96       449\n",
      "           2       0.93      0.89      0.91       410\n",
      "           3       0.94      0.92      0.93       877\n",
      "\n",
      "    accuracy                           0.93      2225\n",
      "   macro avg       0.93      0.93      0.93      2225\n",
      "weighted avg       0.93      0.93      0.93      2225\n",
      "\n"
     ]
    }
   ],
   "source": [
    "start = time.time()\n",
    "xg_clf.fit(X_train, y_train)\n",
    "end = time.time()\n",
    "print(\"Time taken for Tuning\", (end-start)/60, \"Mins\")\n",
    "\n",
    "y_pred = xg_clf.predict(X_test)\n",
    "f1 = f1_score(y_test, y_pred, average='weighted')\n",
    "cr = classification_report(y_test,y_pred)\n",
    "print(\"F1 SCore:\", f1)\n",
    "print(\"Classification Report :\\n\", cr)"
   ]
  },
  {
   "cell_type": "code",
   "execution_count": 40,
   "id": "3b880cac",
   "metadata": {},
   "outputs": [],
   "source": [
    "search_space = {\n",
    "    'n_estimators': hyperopt.hp.choice('n_estimators', [10,15,20,30,35,40,50]),\n",
    "    'max_depth': hyperopt.hp.choice('max_depth', [10,20,30,40,50,60,70]),\n",
    "    'learning_rate': hyperopt.hp.choice('learning_rate', [0.01, 0.05, 0.1]),\n",
    "    'reg_alpha': hyperopt.hp.uniform('reg_alpha', 0, 1),\n",
    "    'reg_lambda': hyperopt.hp.uniform('reg_lambda', 0, 1)\n",
    "}"
   ]
  },
  {
   "cell_type": "code",
   "execution_count": 41,
   "id": "dff92df7",
   "metadata": {},
   "outputs": [],
   "source": [
    "def objective(params):\n",
    "    xg_clf = xgb.XGBClassifier(**params,n_jobs=-1)\n",
    "    xg_clf.fit(X_train, y_train)\n",
    "\n",
    "    y_pred = xg_clf.predict(X_val)\n",
    "    f1 = f1_score(y_val, y_pred, average='weighted')\n",
    "    if f1<0.97:\n",
    "        return -f1\n",
    "    else:\n",
    "        return 1.00"
   ]
  },
  {
   "cell_type": "code",
   "execution_count": 42,
   "id": "6eed7b67",
   "metadata": {},
   "outputs": [
    {
     "name": "stdout",
     "output_type": "stream",
     "text": [
      "100%|█████| 30/30 [4:14:09<00:00, 508.33s/trial, best loss: -0.9312937345264315]\n",
      "Time taken for Tuning 4.236089823378457 Hours\n"
     ]
    }
   ],
   "source": [
    "start = time.time()\n",
    "best_params = hyperopt.fmin(\n",
    "    fn=objective, space=search_space, algo=hyperopt.tpe.suggest, max_evals=30)\n",
    "end = time.time()\n",
    "print(\"Time taken for Tuning\", (end-start)/3600, \"Hours\")"
   ]
  },
  {
   "cell_type": "code",
   "execution_count": 43,
   "id": "e3c237ad",
   "metadata": {},
   "outputs": [
    {
     "name": "stdout",
     "output_type": "stream",
     "text": [
      "Best parameters: {'learning_rate': 2, 'max_depth': 6, 'n_estimators': 6, 'reg_alpha': 0.004474355059321249, 'reg_lambda': 0.9357284038747243}\n"
     ]
    }
   ],
   "source": [
    "print('Best parameters:', best_params)\n"
   ]
  },
  {
   "cell_type": "code",
   "execution_count": 45,
   "id": "83948ca8",
   "metadata": {},
   "outputs": [
    {
     "name": "stdout",
     "output_type": "stream",
     "text": [
      "F1 score on test set: 0.9276117454095436\n",
      "Classification Report on test set:\n",
      "               precision    recall  f1-score   support\n",
      "\n",
      "           0       0.91      0.92      0.92       489\n",
      "           1       0.96      0.96      0.96       449\n",
      "           2       0.92      0.90      0.91       410\n",
      "           3       0.92      0.92      0.92       877\n",
      "\n",
      "    accuracy                           0.93      2225\n",
      "   macro avg       0.93      0.93      0.93      2225\n",
      "weighted avg       0.93      0.93      0.93      2225\n",
      "\n"
     ]
    }
   ],
   "source": [
    "# Train the XGBoost classifier with the best parameters\n",
    "xg_clf = xgb.XGBClassifier(\n",
    "    learning_rate=0.1,\n",
    "    max_depth =60,\n",
    "    n_estimators=40,\n",
    "    reg_alpha=0.004474355059321249,\n",
    "    reg_lambda=0.9357284038,\n",
    "    n_jobs=-1\n",
    ")\n",
    "xg_clf.fit(X_train, y_train)\n",
    "\n",
    "# Evaluate the XGBoost classifier on the test set\n",
    "y_pred = xg_clf.predict(X_test)\n",
    "f1 = f1_score(y_test, y_pred, average='weighted')\n",
    "clr_report = classification_report(y_test,y_pred)\n",
    "print('F1 score on test set:', f1)\n",
    "print('Classification Report on test set:\\n', clr_report)\n"
   ]
  },
  {
   "cell_type": "code",
   "execution_count": null,
   "id": "8ba4dfb7",
   "metadata": {},
   "outputs": [],
   "source": []
  }
 ],
 "metadata": {
  "kernelspec": {
   "display_name": "Python 3 (ipykernel)",
   "language": "python",
   "name": "python3"
  },
  "language_info": {
   "codemirror_mode": {
    "name": "ipython",
    "version": 3
   },
   "file_extension": ".py",
   "mimetype": "text/x-python",
   "name": "python",
   "nbconvert_exporter": "python",
   "pygments_lexer": "ipython3",
   "version": "3.7.5"
  }
 },
 "nbformat": 4,
 "nbformat_minor": 5
}
