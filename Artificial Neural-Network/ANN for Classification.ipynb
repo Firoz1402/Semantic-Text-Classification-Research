{
 "cells": [
  {
   "cell_type": "code",
   "execution_count": 1,
   "id": "d2399a2e",
   "metadata": {},
   "outputs": [
    {
     "name": "stderr",
     "output_type": "stream",
     "text": [
      "2023-09-16 15:28:51.225145: I tensorflow/core/platform/cpu_feature_guard.cc:193] This TensorFlow binary is optimized with oneAPI Deep Neural Network Library (oneDNN) to use the following CPU instructions in performance-critical operations:  AVX2 FMA\n",
      "To enable them in other operations, rebuild TensorFlow with the appropriate compiler flags.\n",
      "2023-09-16 15:28:52.430606: W tensorflow/compiler/xla/stream_executor/platform/default/dso_loader.cc:64] Could not load dynamic library 'libnvinfer.so.7'; dlerror: libnvinfer.so.7: cannot open shared object file: No such file or directory; LD_LIBRARY_PATH: /home/roronoa/.conda/envs/tf/lib/python3.7/site-packages/nvidia/cudnn/lib:/home/roronoa/.conda/envs/tf/lib/:\n",
      "2023-09-16 15:28:52.430699: W tensorflow/compiler/xla/stream_executor/platform/default/dso_loader.cc:64] Could not load dynamic library 'libnvinfer_plugin.so.7'; dlerror: libnvinfer_plugin.so.7: cannot open shared object file: No such file or directory; LD_LIBRARY_PATH: /home/roronoa/.conda/envs/tf/lib/python3.7/site-packages/nvidia/cudnn/lib:/home/roronoa/.conda/envs/tf/lib/:\n",
      "2023-09-16 15:28:52.430711: W tensorflow/compiler/tf2tensorrt/utils/py_utils.cc:38] TF-TRT Warning: Cannot dlopen some TensorRT libraries. If you would like to use Nvidia GPU with TensorRT, please make sure the missing libraries mentioned above are installed properly.\n"
     ]
    }
   ],
   "source": [
    "import tensorflow as tf\n",
    "from tensorflow import keras\n",
    "import numpy as np\n",
    "import pandas as pd\n",
    "import matplotlib.pyplot as plt"
   ]
  },
  {
   "cell_type": "code",
   "execution_count": 3,
   "id": "635169ab",
   "metadata": {},
   "outputs": [],
   "source": [
    "df = pd.read_csv('../Data/CleanedData.csv')"
   ]
  },
  {
   "cell_type": "code",
   "execution_count": 4,
   "id": "309ee729",
   "metadata": {},
   "outputs": [
    {
     "data": {
      "text/html": [
       "<div>\n",
       "<style scoped>\n",
       "    .dataframe tbody tr th:only-of-type {\n",
       "        vertical-align: middle;\n",
       "    }\n",
       "\n",
       "    .dataframe tbody tr th {\n",
       "        vertical-align: top;\n",
       "    }\n",
       "\n",
       "    .dataframe thead th {\n",
       "        text-align: right;\n",
       "    }\n",
       "</style>\n",
       "<table border=\"1\" class=\"dataframe\">\n",
       "  <thead>\n",
       "    <tr style=\"text-align: right;\">\n",
       "      <th></th>\n",
       "      <th>subject</th>\n",
       "      <th>transformed text</th>\n",
       "    </tr>\n",
       "  </thead>\n",
       "  <tbody>\n",
       "    <tr>\n",
       "      <th>0</th>\n",
       "      <td>1</td>\n",
       "      <td>donald trump wish american happi new year leav...</td>\n",
       "    </tr>\n",
       "    <tr>\n",
       "      <th>1</th>\n",
       "      <td>1</td>\n",
       "      <td>hous intellig committe chairman devin nune go ...</td>\n",
       "    </tr>\n",
       "    <tr>\n",
       "      <th>2</th>\n",
       "      <td>1</td>\n",
       "      <td>friday reveal former milwauke sheriff david cl...</td>\n",
       "    </tr>\n",
       "    <tr>\n",
       "      <th>3</th>\n",
       "      <td>1</td>\n",
       "      <td>christma day donald trump announc would back w...</td>\n",
       "    </tr>\n",
       "    <tr>\n",
       "      <th>4</th>\n",
       "      <td>1</td>\n",
       "      <td>pope franci use annual christma day messag reb...</td>\n",
       "    </tr>\n",
       "  </tbody>\n",
       "</table>\n",
       "</div>"
      ],
      "text/plain": [
       "   subject                                   transformed text\n",
       "0        1  donald trump wish american happi new year leav...\n",
       "1        1  hous intellig committe chairman devin nune go ...\n",
       "2        1  friday reveal former milwauke sheriff david cl...\n",
       "3        1  christma day donald trump announc would back w...\n",
       "4        1  pope franci use annual christma day messag reb..."
      ]
     },
     "execution_count": 4,
     "metadata": {},
     "output_type": "execute_result"
    }
   ],
   "source": [
    "df.head()"
   ]
  },
  {
   "cell_type": "code",
   "execution_count": 5,
   "id": "0a67fc48",
   "metadata": {},
   "outputs": [],
   "source": [
    "from sklearn.feature_extraction.text import CountVectorizer,TfidfVectorizer\n",
    "cv = CountVectorizer()\n",
    "tfidf = TfidfVectorizer(max_features=512)"
   ]
  },
  {
   "cell_type": "code",
   "execution_count": 7,
   "id": "a94e9086",
   "metadata": {},
   "outputs": [],
   "source": [
    "X= tfidf.fit_transform(df['transformed text']).toarray()\n",
    "y= df['subject'].values"
   ]
  },
  {
   "cell_type": "code",
   "execution_count": 8,
   "id": "d58bc51d",
   "metadata": {},
   "outputs": [],
   "source": [
    "from sklearn.model_selection import train_test_split\n",
    "X_train,X_test,y_train,y_test= train_test_split(X,y,test_size=0.2,random_state=42)"
   ]
  },
  {
   "cell_type": "code",
   "execution_count": 10,
   "id": "26941d82",
   "metadata": {},
   "outputs": [
    {
     "data": {
      "text/plain": [
       "(34500, 512)"
      ]
     },
     "execution_count": 10,
     "metadata": {},
     "output_type": "execute_result"
    }
   ],
   "source": [
    "X_train.shape"
   ]
  },
  {
   "cell_type": "code",
   "execution_count": 18,
   "id": "c82220eb",
   "metadata": {},
   "outputs": [],
   "source": [
    "# Model Architecture\n",
    "ann = tf.keras.models.Sequential()\n",
    "ann.add(tf.keras.Input(shape=512))\n",
    "ann.add(tf.keras.layers.Dense(units=256, activation='relu'))\n",
    "ann.add(tf.keras.layers.Dropout(0.5))\n",
    "ann.add(tf.keras.layers.Dense(units=128, activation='relu'))\n",
    "ann.add(tf.keras.layers.Dropout(0.5))\n",
    "ann.add(tf.keras.layers.Dense(units=64, activation='relu'))\n",
    "ann.add(tf.keras.layers.Dropout(0.5))\n",
    "ann.add(tf.keras.layers.Dense(units=32, activation='relu'))\n",
    "ann.add(tf.keras.layers.Dense(units=5, activation='softmax'))\n",
    "ann.compile(optimizer = 'adam', loss = 'categorical_crossentropy', metrics ='categorical_accuracy')"
   ]
  },
  {
   "cell_type": "code",
   "execution_count": 19,
   "id": "651b8c65",
   "metadata": {},
   "outputs": [
    {
     "name": "stdout",
     "output_type": "stream",
     "text": [
      "Model: \"sequential_3\"\n",
      "_________________________________________________________________\n",
      " Layer (type)                Output Shape              Param #   \n",
      "=================================================================\n",
      " dense_15 (Dense)            (None, 256)               131328    \n",
      "                                                                 \n",
      " dropout_9 (Dropout)         (None, 256)               0         \n",
      "                                                                 \n",
      " dense_16 (Dense)            (None, 128)               32896     \n",
      "                                                                 \n",
      " dropout_10 (Dropout)        (None, 128)               0         \n",
      "                                                                 \n",
      " dense_17 (Dense)            (None, 64)                8256      \n",
      "                                                                 \n",
      " dropout_11 (Dropout)        (None, 64)                0         \n",
      "                                                                 \n",
      " dense_18 (Dense)            (None, 32)                2080      \n",
      "                                                                 \n",
      " dense_19 (Dense)            (None, 5)                 165       \n",
      "                                                                 \n",
      "=================================================================\n",
      "Total params: 174,725\n",
      "Trainable params: 174,725\n",
      "Non-trainable params: 0\n",
      "_________________________________________________________________\n"
     ]
    }
   ],
   "source": [
    "ann.summary()"
   ]
  },
  {
   "cell_type": "code",
   "execution_count": 20,
   "id": "0b762785",
   "metadata": {},
   "outputs": [
    {
     "name": "stdout",
     "output_type": "stream",
     "text": [
      "Epoch 1/100\n",
      "145/145 [==============================] - 1s 3ms/step - loss: 1.4108 - categorical_accuracy: 0.0886 - val_loss: 0.8395 - val_categorical_accuracy: 0.2275\n",
      "Epoch 2/100\n",
      "145/145 [==============================] - 0s 2ms/step - loss: 0.5737 - categorical_accuracy: 0.2567 - val_loss: 0.1747 - val_categorical_accuracy: 0.2157\n",
      "Epoch 3/100\n",
      "145/145 [==============================] - 0s 2ms/step - loss: 0.2341 - categorical_accuracy: 0.2429 - val_loss: 0.1534 - val_categorical_accuracy: 0.2235\n",
      "Epoch 4/100\n",
      "145/145 [==============================] - 0s 2ms/step - loss: 0.1191 - categorical_accuracy: 0.2450 - val_loss: 0.1458 - val_categorical_accuracy: 0.2000\n",
      "Epoch 5/100\n",
      "145/145 [==============================] - 0s 2ms/step - loss: 0.1081 - categorical_accuracy: 0.2401 - val_loss: 0.1228 - val_categorical_accuracy: 0.2196\n",
      "Epoch 6/100\n",
      "145/145 [==============================] - 0s 2ms/step - loss: 0.0745 - categorical_accuracy: 0.2415 - val_loss: 0.1161 - val_categorical_accuracy: 0.2275\n",
      "Epoch 7/100\n",
      "145/145 [==============================] - 0s 2ms/step - loss: 0.0391 - categorical_accuracy: 0.2443 - val_loss: 0.1093 - val_categorical_accuracy: 0.2235\n",
      "Epoch 8/100\n",
      "145/145 [==============================] - 0s 2ms/step - loss: 0.0263 - categorical_accuracy: 0.2429 - val_loss: 0.1587 - val_categorical_accuracy: 0.2275\n",
      "Epoch 9/100\n",
      "145/145 [==============================] - 0s 2ms/step - loss: 0.0228 - categorical_accuracy: 0.2436 - val_loss: 0.1281 - val_categorical_accuracy: 0.2196\n",
      "Epoch 10/100\n",
      "145/145 [==============================] - 0s 2ms/step - loss: 0.0152 - categorical_accuracy: 0.2443 - val_loss: 0.1288 - val_categorical_accuracy: 0.2196\n",
      "Epoch 11/100\n",
      "145/145 [==============================] - 0s 2ms/step - loss: 0.0192 - categorical_accuracy: 0.2429 - val_loss: 0.1276 - val_categorical_accuracy: 0.2196\n",
      "Epoch 12/100\n",
      "145/145 [==============================] - 0s 2ms/step - loss: 0.0265 - categorical_accuracy: 0.2429 - val_loss: 0.1463 - val_categorical_accuracy: 0.2235\n",
      "Epoch 13/100\n",
      "145/145 [==============================] - 0s 2ms/step - loss: 0.0217 - categorical_accuracy: 0.2450 - val_loss: 0.1680 - val_categorical_accuracy: 0.2196\n",
      "Epoch 14/100\n",
      "145/145 [==============================] - 0s 2ms/step - loss: 0.0076 - categorical_accuracy: 0.2436 - val_loss: 0.1685 - val_categorical_accuracy: 0.2235\n",
      "Epoch 15/100\n",
      "145/145 [==============================] - 0s 2ms/step - loss: 0.0129 - categorical_accuracy: 0.2436 - val_loss: 0.1521 - val_categorical_accuracy: 0.2157\n",
      "Epoch 16/100\n",
      "145/145 [==============================] - 0s 2ms/step - loss: 0.0167 - categorical_accuracy: 0.2415 - val_loss: 0.1611 - val_categorical_accuracy: 0.2157\n",
      "Epoch 17/100\n",
      "145/145 [==============================] - 0s 2ms/step - loss: 0.0180 - categorical_accuracy: 0.2436 - val_loss: 0.1367 - val_categorical_accuracy: 0.2235\n",
      "Epoch 18/100\n",
      "145/145 [==============================] - 0s 2ms/step - loss: 0.0106 - categorical_accuracy: 0.2436 - val_loss: 0.2071 - val_categorical_accuracy: 0.2196\n",
      "Epoch 19/100\n",
      "145/145 [==============================] - 0s 2ms/step - loss: 0.0070 - categorical_accuracy: 0.2415 - val_loss: 0.2127 - val_categorical_accuracy: 0.2314\n",
      "Epoch 20/100\n",
      "145/145 [==============================] - 0s 2ms/step - loss: 0.0261 - categorical_accuracy: 0.2436 - val_loss: 0.1424 - val_categorical_accuracy: 0.2196\n",
      "Epoch 21/100\n",
      "145/145 [==============================] - 0s 2ms/step - loss: 0.0253 - categorical_accuracy: 0.2450 - val_loss: 0.1281 - val_categorical_accuracy: 0.2235\n",
      "Epoch 22/100\n",
      "145/145 [==============================] - 0s 2ms/step - loss: 0.0093 - categorical_accuracy: 0.2436 - val_loss: 0.1789 - val_categorical_accuracy: 0.2235\n",
      "Epoch 23/100\n",
      "145/145 [==============================] - 0s 2ms/step - loss: 0.0054 - categorical_accuracy: 0.2443 - val_loss: 0.2121 - val_categorical_accuracy: 0.2235\n",
      "Epoch 24/100\n",
      "145/145 [==============================] - 0s 2ms/step - loss: 0.0055 - categorical_accuracy: 0.2443 - val_loss: 0.2054 - val_categorical_accuracy: 0.2235\n",
      "Epoch 25/100\n",
      "145/145 [==============================] - 0s 2ms/step - loss: 0.0022 - categorical_accuracy: 0.2436 - val_loss: 0.2301 - val_categorical_accuracy: 0.2235\n",
      "Epoch 26/100\n",
      "145/145 [==============================] - 0s 2ms/step - loss: 0.0043 - categorical_accuracy: 0.2429 - val_loss: 0.2222 - val_categorical_accuracy: 0.2196\n",
      "Epoch 27/100\n",
      "145/145 [==============================] - 0s 2ms/step - loss: 0.0020 - categorical_accuracy: 0.2436 - val_loss: 0.2250 - val_categorical_accuracy: 0.2235\n",
      "Epoch 28/100\n",
      "145/145 [==============================] - 0s 2ms/step - loss: 0.0066 - categorical_accuracy: 0.2443 - val_loss: 0.1804 - val_categorical_accuracy: 0.2235\n",
      "Epoch 29/100\n",
      "145/145 [==============================] - 0s 2ms/step - loss: 0.0113 - categorical_accuracy: 0.2429 - val_loss: 0.2627 - val_categorical_accuracy: 0.2275\n",
      "Epoch 30/100\n",
      "145/145 [==============================] - 0s 2ms/step - loss: 0.0100 - categorical_accuracy: 0.2443 - val_loss: 0.1641 - val_categorical_accuracy: 0.2157\n",
      "Epoch 31/100\n",
      "145/145 [==============================] - 0s 2ms/step - loss: 0.0079 - categorical_accuracy: 0.2422 - val_loss: 0.2474 - val_categorical_accuracy: 0.2235\n",
      "Epoch 32/100\n",
      "145/145 [==============================] - 0s 2ms/step - loss: 0.0018 - categorical_accuracy: 0.2436 - val_loss: 0.2228 - val_categorical_accuracy: 0.2235\n",
      "Epoch 33/100\n",
      "145/145 [==============================] - 0s 2ms/step - loss: 0.0217 - categorical_accuracy: 0.2443 - val_loss: 0.1714 - val_categorical_accuracy: 0.2118\n",
      "Epoch 34/100\n",
      "145/145 [==============================] - 0s 2ms/step - loss: 0.0031 - categorical_accuracy: 0.2429 - val_loss: 0.1715 - val_categorical_accuracy: 0.2196\n",
      "Epoch 35/100\n",
      "145/145 [==============================] - 0s 2ms/step - loss: 0.0029 - categorical_accuracy: 0.2429 - val_loss: 0.1652 - val_categorical_accuracy: 0.2196\n",
      "Epoch 36/100\n",
      "145/145 [==============================] - 0s 2ms/step - loss: 0.0037 - categorical_accuracy: 0.2436 - val_loss: 0.2013 - val_categorical_accuracy: 0.2235\n",
      "Epoch 37/100\n",
      "145/145 [==============================] - 0s 2ms/step - loss: 8.6716e-04 - categorical_accuracy: 0.2436 - val_loss: 0.1950 - val_categorical_accuracy: 0.2196\n",
      "Epoch 38/100\n",
      "145/145 [==============================] - 0s 2ms/step - loss: 0.0011 - categorical_accuracy: 0.2436 - val_loss: 0.2249 - val_categorical_accuracy: 0.2235\n",
      "Epoch 39/100\n",
      "145/145 [==============================] - 0s 2ms/step - loss: 0.0055 - categorical_accuracy: 0.2443 - val_loss: 0.2963 - val_categorical_accuracy: 0.2157\n",
      "Epoch 40/100\n",
      "145/145 [==============================] - 0s 2ms/step - loss: 0.0068 - categorical_accuracy: 0.2436 - val_loss: 0.2571 - val_categorical_accuracy: 0.2196\n",
      "Epoch 41/100\n",
      "145/145 [==============================] - 0s 2ms/step - loss: 0.0064 - categorical_accuracy: 0.2450 - val_loss: 0.2102 - val_categorical_accuracy: 0.2157\n",
      "Epoch 42/100\n",
      "145/145 [==============================] - 0s 2ms/step - loss: 0.0257 - categorical_accuracy: 0.2436 - val_loss: 0.2174 - val_categorical_accuracy: 0.2196\n",
      "Epoch 43/100\n",
      "145/145 [==============================] - 0s 2ms/step - loss: 0.0102 - categorical_accuracy: 0.2436 - val_loss: 0.2394 - val_categorical_accuracy: 0.2275\n",
      "Epoch 44/100\n",
      "145/145 [==============================] - 0s 2ms/step - loss: 0.0054 - categorical_accuracy: 0.2443 - val_loss: 0.2666 - val_categorical_accuracy: 0.2157\n",
      "Epoch 45/100\n",
      "145/145 [==============================] - 0s 2ms/step - loss: 0.0092 - categorical_accuracy: 0.2436 - val_loss: 0.2796 - val_categorical_accuracy: 0.2235\n",
      "Epoch 46/100\n",
      "145/145 [==============================] - 0s 2ms/step - loss: 0.0015 - categorical_accuracy: 0.2436 - val_loss: 0.2429 - val_categorical_accuracy: 0.2157\n",
      "Epoch 47/100\n",
      "145/145 [==============================] - 0s 2ms/step - loss: 0.0053 - categorical_accuracy: 0.2429 - val_loss: 0.2809 - val_categorical_accuracy: 0.2157\n",
      "Epoch 48/100\n",
      "145/145 [==============================] - 0s 2ms/step - loss: 0.0014 - categorical_accuracy: 0.2436 - val_loss: 0.2707 - val_categorical_accuracy: 0.2275\n",
      "Epoch 49/100\n",
      "145/145 [==============================] - 0s 2ms/step - loss: 0.0037 - categorical_accuracy: 0.2436 - val_loss: 0.2204 - val_categorical_accuracy: 0.2196\n"
     ]
    },
    {
     "name": "stdout",
     "output_type": "stream",
     "text": [
      "Epoch 50/100\n",
      "145/145 [==============================] - 0s 2ms/step - loss: 7.0838e-04 - categorical_accuracy: 0.2436 - val_loss: 0.2335 - val_categorical_accuracy: 0.2196\n",
      "Epoch 51/100\n",
      "145/145 [==============================] - 0s 2ms/step - loss: 0.0015 - categorical_accuracy: 0.2436 - val_loss: 0.2254 - val_categorical_accuracy: 0.2235\n",
      "Epoch 52/100\n",
      "145/145 [==============================] - 0s 2ms/step - loss: 0.0116 - categorical_accuracy: 0.2443 - val_loss: 0.2103 - val_categorical_accuracy: 0.2157\n",
      "Epoch 53/100\n",
      "145/145 [==============================] - 0s 2ms/step - loss: 0.0026 - categorical_accuracy: 0.2429 - val_loss: 0.2066 - val_categorical_accuracy: 0.2157\n",
      "Epoch 54/100\n",
      "145/145 [==============================] - 0s 2ms/step - loss: 0.0027 - categorical_accuracy: 0.2443 - val_loss: 0.2629 - val_categorical_accuracy: 0.2157\n",
      "Epoch 55/100\n",
      "145/145 [==============================] - 0s 2ms/step - loss: 3.1856e-04 - categorical_accuracy: 0.2436 - val_loss: 0.2700 - val_categorical_accuracy: 0.2196\n",
      "Epoch 56/100\n",
      "145/145 [==============================] - 0s 2ms/step - loss: 0.0108 - categorical_accuracy: 0.2429 - val_loss: 0.2741 - val_categorical_accuracy: 0.2196\n",
      "Epoch 57/100\n",
      "145/145 [==============================] - 0s 2ms/step - loss: 4.7608e-04 - categorical_accuracy: 0.2436 - val_loss: 0.2646 - val_categorical_accuracy: 0.2196\n",
      "Epoch 58/100\n",
      "145/145 [==============================] - 0s 2ms/step - loss: 0.0022 - categorical_accuracy: 0.2436 - val_loss: 0.2876 - val_categorical_accuracy: 0.2196\n",
      "Epoch 59/100\n",
      "145/145 [==============================] - 0s 2ms/step - loss: 0.0027 - categorical_accuracy: 0.2429 - val_loss: 0.2970 - val_categorical_accuracy: 0.2196\n",
      "Epoch 60/100\n",
      "145/145 [==============================] - 0s 2ms/step - loss: 0.0022 - categorical_accuracy: 0.2429 - val_loss: 0.3562 - val_categorical_accuracy: 0.2196\n",
      "Epoch 61/100\n",
      "145/145 [==============================] - 0s 2ms/step - loss: 0.0133 - categorical_accuracy: 0.2429 - val_loss: 0.3445 - val_categorical_accuracy: 0.2235\n",
      "Epoch 62/100\n",
      "145/145 [==============================] - 0s 2ms/step - loss: 0.0049 - categorical_accuracy: 0.2443 - val_loss: 0.2518 - val_categorical_accuracy: 0.2157\n",
      "Epoch 63/100\n",
      "145/145 [==============================] - 0s 2ms/step - loss: 0.0031 - categorical_accuracy: 0.2436 - val_loss: 0.2509 - val_categorical_accuracy: 0.2157\n",
      "Epoch 64/100\n",
      "145/145 [==============================] - 0s 2ms/step - loss: 0.0072 - categorical_accuracy: 0.2429 - val_loss: 0.3645 - val_categorical_accuracy: 0.2275\n",
      "Epoch 65/100\n",
      "145/145 [==============================] - 0s 2ms/step - loss: 0.0058 - categorical_accuracy: 0.2443 - val_loss: 0.2742 - val_categorical_accuracy: 0.2118\n",
      "Epoch 66/100\n",
      "145/145 [==============================] - 0s 2ms/step - loss: 0.0012 - categorical_accuracy: 0.2429 - val_loss: 0.2905 - val_categorical_accuracy: 0.2196\n",
      "Epoch 67/100\n",
      "145/145 [==============================] - 0s 2ms/step - loss: 0.0031 - categorical_accuracy: 0.2436 - val_loss: 0.2534 - val_categorical_accuracy: 0.2157\n",
      "Epoch 68/100\n",
      "145/145 [==============================] - 0s 2ms/step - loss: 5.1077e-04 - categorical_accuracy: 0.2436 - val_loss: 0.2747 - val_categorical_accuracy: 0.2157\n",
      "Epoch 69/100\n",
      "145/145 [==============================] - 0s 2ms/step - loss: 7.6605e-05 - categorical_accuracy: 0.2436 - val_loss: 0.2921 - val_categorical_accuracy: 0.2157\n",
      "Epoch 70/100\n",
      "145/145 [==============================] - 0s 2ms/step - loss: 1.0262e-04 - categorical_accuracy: 0.2436 - val_loss: 0.3057 - val_categorical_accuracy: 0.2196\n",
      "Epoch 71/100\n",
      "145/145 [==============================] - 0s 2ms/step - loss: 6.5254e-04 - categorical_accuracy: 0.2436 - val_loss: 0.2804 - val_categorical_accuracy: 0.2118\n",
      "Epoch 72/100\n",
      "145/145 [==============================] - 0s 2ms/step - loss: 4.6954e-04 - categorical_accuracy: 0.2436 - val_loss: 0.3069 - val_categorical_accuracy: 0.2196\n",
      "Epoch 73/100\n",
      "145/145 [==============================] - 0s 2ms/step - loss: 5.0561e-04 - categorical_accuracy: 0.2436 - val_loss: 0.2859 - val_categorical_accuracy: 0.2157\n",
      "Epoch 74/100\n",
      "145/145 [==============================] - 0s 2ms/step - loss: 1.7800e-04 - categorical_accuracy: 0.2436 - val_loss: 0.2843 - val_categorical_accuracy: 0.2196\n",
      "Epoch 75/100\n",
      "145/145 [==============================] - 0s 2ms/step - loss: 0.0017 - categorical_accuracy: 0.2436 - val_loss: 0.3973 - val_categorical_accuracy: 0.2196\n",
      "Epoch 76/100\n",
      "145/145 [==============================] - 0s 2ms/step - loss: 1.5369e-04 - categorical_accuracy: 0.2436 - val_loss: 0.3553 - val_categorical_accuracy: 0.2118\n",
      "Epoch 77/100\n",
      "145/145 [==============================] - 0s 2ms/step - loss: 7.4546e-04 - categorical_accuracy: 0.2436 - val_loss: 0.3660 - val_categorical_accuracy: 0.2157\n",
      "Epoch 78/100\n",
      "145/145 [==============================] - 0s 2ms/step - loss: 0.0011 - categorical_accuracy: 0.2436 - val_loss: 0.3780 - val_categorical_accuracy: 0.2157\n",
      "Epoch 79/100\n",
      "145/145 [==============================] - 0s 2ms/step - loss: 2.5766e-05 - categorical_accuracy: 0.2436 - val_loss: 0.3618 - val_categorical_accuracy: 0.2157\n",
      "Epoch 80/100\n",
      "145/145 [==============================] - 0s 2ms/step - loss: 3.3785e-04 - categorical_accuracy: 0.2436 - val_loss: 0.3665 - val_categorical_accuracy: 0.2157\n",
      "Epoch 81/100\n",
      "145/145 [==============================] - 0s 2ms/step - loss: 0.0026 - categorical_accuracy: 0.2429 - val_loss: 0.3360 - val_categorical_accuracy: 0.2157\n",
      "Epoch 82/100\n",
      "145/145 [==============================] - 0s 2ms/step - loss: 5.1019e-05 - categorical_accuracy: 0.2436 - val_loss: 0.3429 - val_categorical_accuracy: 0.2157\n",
      "Epoch 83/100\n",
      "145/145 [==============================] - 0s 2ms/step - loss: 0.0028 - categorical_accuracy: 0.2436 - val_loss: 0.3314 - val_categorical_accuracy: 0.2118\n",
      "Epoch 84/100\n",
      "145/145 [==============================] - 0s 2ms/step - loss: 1.0554e-04 - categorical_accuracy: 0.2436 - val_loss: 0.3549 - val_categorical_accuracy: 0.2118\n",
      "Epoch 85/100\n",
      "145/145 [==============================] - 0s 2ms/step - loss: 3.7484e-04 - categorical_accuracy: 0.2436 - val_loss: 0.3746 - val_categorical_accuracy: 0.2157\n",
      "Epoch 86/100\n",
      "145/145 [==============================] - 0s 2ms/step - loss: 4.1354e-04 - categorical_accuracy: 0.2436 - val_loss: 0.3749 - val_categorical_accuracy: 0.2157\n",
      "Epoch 87/100\n",
      "145/145 [==============================] - 0s 2ms/step - loss: 0.0027 - categorical_accuracy: 0.2436 - val_loss: 0.5207 - val_categorical_accuracy: 0.2196\n",
      "Epoch 88/100\n",
      "145/145 [==============================] - 0s 2ms/step - loss: 0.0138 - categorical_accuracy: 0.2436 - val_loss: 0.3823 - val_categorical_accuracy: 0.2157\n",
      "Epoch 89/100\n",
      "145/145 [==============================] - 0s 2ms/step - loss: 0.0049 - categorical_accuracy: 0.2436 - val_loss: 0.3457 - val_categorical_accuracy: 0.2118\n",
      "Epoch 90/100\n",
      "145/145 [==============================] - 0s 2ms/step - loss: 8.9898e-04 - categorical_accuracy: 0.2436 - val_loss: 0.3468 - val_categorical_accuracy: 0.2157\n",
      "Epoch 91/100\n",
      "145/145 [==============================] - 0s 2ms/step - loss: 0.0102 - categorical_accuracy: 0.2436 - val_loss: 0.4046 - val_categorical_accuracy: 0.2157\n",
      "Epoch 92/100\n",
      "145/145 [==============================] - 0s 2ms/step - loss: 0.0024 - categorical_accuracy: 0.2436 - val_loss: 0.4702 - val_categorical_accuracy: 0.2157\n",
      "Epoch 93/100\n",
      "145/145 [==============================] - 0s 2ms/step - loss: 0.0102 - categorical_accuracy: 0.2443 - val_loss: 0.2983 - val_categorical_accuracy: 0.2118\n",
      "Epoch 94/100\n",
      "145/145 [==============================] - 0s 2ms/step - loss: 0.0051 - categorical_accuracy: 0.2443 - val_loss: 0.3792 - val_categorical_accuracy: 0.2157\n",
      "Epoch 95/100\n",
      "145/145 [==============================] - 0s 2ms/step - loss: 0.0101 - categorical_accuracy: 0.2436 - val_loss: 0.3122 - val_categorical_accuracy: 0.2118\n",
      "Epoch 96/100\n",
      "145/145 [==============================] - 0s 2ms/step - loss: 9.1970e-04 - categorical_accuracy: 0.2436 - val_loss: 0.3208 - val_categorical_accuracy: 0.2157\n",
      "Epoch 97/100\n",
      "145/145 [==============================] - 0s 2ms/step - loss: 2.0470e-04 - categorical_accuracy: 0.2436 - val_loss: 0.3274 - val_categorical_accuracy: 0.2157\n",
      "Epoch 98/100\n",
      "145/145 [==============================] - 0s 2ms/step - loss: 1.8653e-04 - categorical_accuracy: 0.2436 - val_loss: 0.3382 - val_categorical_accuracy: 0.2157\n",
      "Epoch 99/100\n",
      "145/145 [==============================] - 0s 2ms/step - loss: 0.0016 - categorical_accuracy: 0.2436 - val_loss: 0.3912 - val_categorical_accuracy: 0.2196\n",
      "Epoch 100/100\n",
      "145/145 [==============================] - 0s 2ms/step - loss: 0.0155 - categorical_accuracy: 0.2429 - val_loss: 0.3219 - val_categorical_accuracy: 0.2196\n"
     ]
    },
    {
     "data": {
      "text/plain": [
       "<keras.callbacks.History at 0x7ffa86f30e90>"
      ]
     },
     "execution_count": 20,
     "metadata": {},
     "output_type": "execute_result"
    }
   ],
   "source": [
    "\n",
    "ann.fit(X_train, y_train, epochs=100, batch_size=10, validation_split=0.15)"
   ]
  },
  {
   "cell_type": "code",
   "execution_count": null,
   "id": "bf92331c",
   "metadata": {},
   "outputs": [],
   "source": []
  }
 ],
 "metadata": {
  "kernelspec": {
   "display_name": "Python 3 (ipykernel)",
   "language": "python",
   "name": "python3"
  },
  "language_info": {
   "codemirror_mode": {
    "name": "ipython",
    "version": 3
   },
   "file_extension": ".py",
   "mimetype": "text/x-python",
   "name": "python",
   "nbconvert_exporter": "python",
   "pygments_lexer": "ipython3",
   "version": "3.7.5"
  }
 },
 "nbformat": 4,
 "nbformat_minor": 5
}
