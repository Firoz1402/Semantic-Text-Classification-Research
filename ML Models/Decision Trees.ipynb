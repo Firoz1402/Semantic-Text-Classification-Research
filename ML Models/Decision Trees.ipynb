{
 "cells": [
  {
   "cell_type": "code",
   "execution_count": 1,
   "id": "7ca26eac",
   "metadata": {},
   "outputs": [],
   "source": [
    "import sklearn\n",
    "import pandas as pd\n",
    "import numpy as np\n",
    "from sklearn.metrics import accuracy_score, classification_report, confusion_matrix\n",
    "from sklearn.model_selection import train_test_split, GridSearchCV\n",
    "from sklearn.tree import DecisionTreeClassifier"
   ]
  },
  {
   "cell_type": "code",
   "execution_count": 2,
   "id": "5dff4d52",
   "metadata": {},
   "outputs": [],
   "source": [
    "df = pd.read_csv('../Data/CleanedData.csv')"
   ]
  },
  {
   "cell_type": "code",
   "execution_count": 3,
   "id": "9df2b580",
   "metadata": {},
   "outputs": [],
   "source": [
    "from sklearn.feature_extraction.text import CountVectorizer\n",
    "cv= CountVectorizer(max_features=5000)"
   ]
  },
  {
   "cell_type": "code",
   "execution_count": 4,
   "id": "d34a8723",
   "metadata": {},
   "outputs": [],
   "source": [
    "x= cv.fit_transform(df['transformed text']).toarray()\n",
    "y= df['subject'].values"
   ]
  },
  {
   "cell_type": "code",
   "execution_count": 5,
   "id": "7cbe8c27",
   "metadata": {},
   "outputs": [],
   "source": [
    "from sklearn.model_selection import train_test_split\n",
    "x_train, x_test, y_train, y_test= train_test_split(x, y, test_size=0.2, random_state = 42)"
   ]
  },
  {
   "cell_type": "code",
   "execution_count": 7,
   "id": "39a361c8",
   "metadata": {},
   "outputs": [
    {
     "name": "stdout",
     "output_type": "stream",
     "text": [
      "Fitting 2 folds for each of 36 candidates, totalling 72 fits\n",
      "[CV 1/2] END criterion=gini, max_depth=None, min_samples_leaf=1, min_samples_split=2;, score=0.658 total time=  23.5s\n",
      "[CV 2/2] END criterion=gini, max_depth=None, min_samples_leaf=1, min_samples_split=2;, score=0.666 total time=  20.1s\n",
      "[CV 1/2] END criterion=gini, max_depth=None, min_samples_leaf=1, min_samples_split=5;, score=0.662 total time=  22.8s\n",
      "[CV 2/2] END criterion=gini, max_depth=None, min_samples_leaf=1, min_samples_split=5;, score=0.670 total time=  20.3s\n",
      "[CV 1/2] END criterion=gini, max_depth=None, min_samples_leaf=1, min_samples_split=10;, score=0.666 total time=  22.0s\n",
      "[CV 2/2] END criterion=gini, max_depth=None, min_samples_leaf=1, min_samples_split=10;, score=0.673 total time=  21.1s\n",
      "[CV 1/2] END criterion=gini, max_depth=None, min_samples_leaf=2, min_samples_split=2;, score=0.661 total time=  20.3s\n",
      "[CV 2/2] END criterion=gini, max_depth=None, min_samples_leaf=2, min_samples_split=2;, score=0.669 total time=  20.7s\n",
      "[CV 1/2] END criterion=gini, max_depth=None, min_samples_leaf=2, min_samples_split=5;, score=0.664 total time=  22.0s\n",
      "[CV 2/2] END criterion=gini, max_depth=None, min_samples_leaf=2, min_samples_split=5;, score=0.671 total time=  21.1s\n",
      "[CV 1/2] END criterion=gini, max_depth=None, min_samples_leaf=2, min_samples_split=10;, score=0.668 total time=  22.0s\n",
      "[CV 2/2] END criterion=gini, max_depth=None, min_samples_leaf=2, min_samples_split=10;, score=0.674 total time=  20.9s\n",
      "[CV 1/2] END criterion=gini, max_depth=10, min_samples_leaf=1, min_samples_split=2;, score=0.716 total time=   6.5s\n",
      "[CV 2/2] END criterion=gini, max_depth=10, min_samples_leaf=1, min_samples_split=2;, score=0.717 total time=   6.4s\n",
      "[CV 1/2] END criterion=gini, max_depth=10, min_samples_leaf=1, min_samples_split=5;, score=0.716 total time=   6.5s\n",
      "[CV 2/2] END criterion=gini, max_depth=10, min_samples_leaf=1, min_samples_split=5;, score=0.718 total time=   6.4s\n",
      "[CV 1/2] END criterion=gini, max_depth=10, min_samples_leaf=1, min_samples_split=10;, score=0.716 total time=   6.5s\n",
      "[CV 2/2] END criterion=gini, max_depth=10, min_samples_leaf=1, min_samples_split=10;, score=0.717 total time=   6.4s\n",
      "[CV 1/2] END criterion=gini, max_depth=10, min_samples_leaf=2, min_samples_split=2;, score=0.716 total time=   6.5s\n",
      "[CV 2/2] END criterion=gini, max_depth=10, min_samples_leaf=2, min_samples_split=2;, score=0.717 total time=   6.4s\n",
      "[CV 1/2] END criterion=gini, max_depth=10, min_samples_leaf=2, min_samples_split=5;, score=0.716 total time=   6.5s\n",
      "[CV 2/2] END criterion=gini, max_depth=10, min_samples_leaf=2, min_samples_split=5;, score=0.718 total time=   6.4s\n",
      "[CV 1/2] END criterion=gini, max_depth=10, min_samples_leaf=2, min_samples_split=10;, score=0.716 total time=   6.5s\n",
      "[CV 2/2] END criterion=gini, max_depth=10, min_samples_leaf=2, min_samples_split=10;, score=0.717 total time=   6.3s\n",
      "[CV 1/2] END criterion=gini, max_depth=20, min_samples_leaf=1, min_samples_split=2;, score=0.697 total time=  10.6s\n",
      "[CV 2/2] END criterion=gini, max_depth=20, min_samples_leaf=1, min_samples_split=2;, score=0.698 total time=   9.2s\n",
      "[CV 1/2] END criterion=gini, max_depth=20, min_samples_leaf=1, min_samples_split=5;, score=0.698 total time=   9.9s\n",
      "[CV 2/2] END criterion=gini, max_depth=20, min_samples_leaf=1, min_samples_split=5;, score=0.699 total time=   9.3s\n",
      "[CV 1/2] END criterion=gini, max_depth=20, min_samples_leaf=1, min_samples_split=10;, score=0.700 total time=   9.2s\n",
      "[CV 2/2] END criterion=gini, max_depth=20, min_samples_leaf=1, min_samples_split=10;, score=0.701 total time=   8.7s\n",
      "[CV 1/2] END criterion=gini, max_depth=20, min_samples_leaf=2, min_samples_split=2;, score=0.698 total time=   9.2s\n",
      "[CV 2/2] END criterion=gini, max_depth=20, min_samples_leaf=2, min_samples_split=2;, score=0.700 total time=   8.7s\n",
      "[CV 1/2] END criterion=gini, max_depth=20, min_samples_leaf=2, min_samples_split=5;, score=0.701 total time=   9.2s\n",
      "[CV 2/2] END criterion=gini, max_depth=20, min_samples_leaf=2, min_samples_split=5;, score=0.699 total time=   8.7s\n",
      "[CV 1/2] END criterion=gini, max_depth=20, min_samples_leaf=2, min_samples_split=10;, score=0.702 total time=   9.3s\n",
      "[CV 2/2] END criterion=gini, max_depth=20, min_samples_leaf=2, min_samples_split=10;, score=0.701 total time=   8.8s\n",
      "[CV 1/2] END criterion=entropy, max_depth=None, min_samples_leaf=1, min_samples_split=2;, score=0.659 total time=   7.9s\n",
      "[CV 2/2] END criterion=entropy, max_depth=None, min_samples_leaf=1, min_samples_split=2;, score=0.663 total time=   8.6s\n",
      "[CV 1/2] END criterion=entropy, max_depth=None, min_samples_leaf=1, min_samples_split=5;, score=0.662 total time=   7.9s\n",
      "[CV 2/2] END criterion=entropy, max_depth=None, min_samples_leaf=1, min_samples_split=5;, score=0.666 total time=   9.5s\n",
      "[CV 1/2] END criterion=entropy, max_depth=None, min_samples_leaf=1, min_samples_split=10;, score=0.670 total time=   8.2s\n",
      "[CV 2/2] END criterion=entropy, max_depth=None, min_samples_leaf=1, min_samples_split=10;, score=0.670 total time=   8.7s\n",
      "[CV 1/2] END criterion=entropy, max_depth=None, min_samples_leaf=2, min_samples_split=2;, score=0.660 total time=   8.6s\n",
      "[CV 2/2] END criterion=entropy, max_depth=None, min_samples_leaf=2, min_samples_split=2;, score=0.665 total time=   9.7s\n",
      "[CV 1/2] END criterion=entropy, max_depth=None, min_samples_leaf=2, min_samples_split=5;, score=0.661 total time=   9.2s\n",
      "[CV 2/2] END criterion=entropy, max_depth=None, min_samples_leaf=2, min_samples_split=5;, score=0.664 total time=   9.3s\n",
      "[CV 1/2] END criterion=entropy, max_depth=None, min_samples_leaf=2, min_samples_split=10;, score=0.667 total time=   9.0s\n",
      "[CV 2/2] END criterion=entropy, max_depth=None, min_samples_leaf=2, min_samples_split=10;, score=0.669 total time=   8.6s\n",
      "[CV 1/2] END criterion=entropy, max_depth=10, min_samples_leaf=1, min_samples_split=2;, score=0.715 total time=   5.9s\n",
      "[CV 2/2] END criterion=entropy, max_depth=10, min_samples_leaf=1, min_samples_split=2;, score=0.719 total time=   6.4s\n",
      "[CV 1/2] END criterion=entropy, max_depth=10, min_samples_leaf=1, min_samples_split=5;, score=0.715 total time=   5.9s\n",
      "[CV 2/2] END criterion=entropy, max_depth=10, min_samples_leaf=1, min_samples_split=5;, score=0.718 total time=   6.3s\n",
      "[CV 1/2] END criterion=entropy, max_depth=10, min_samples_leaf=1, min_samples_split=10;, score=0.715 total time=   5.7s\n",
      "[CV 2/2] END criterion=entropy, max_depth=10, min_samples_leaf=1, min_samples_split=10;, score=0.719 total time=   5.9s\n",
      "[CV 1/2] END criterion=entropy, max_depth=10, min_samples_leaf=2, min_samples_split=2;, score=0.716 total time=   5.9s\n",
      "[CV 2/2] END criterion=entropy, max_depth=10, min_samples_leaf=2, min_samples_split=2;, score=0.718 total time=   6.4s\n",
      "[CV 1/2] END criterion=entropy, max_depth=10, min_samples_leaf=2, min_samples_split=5;, score=0.715 total time=   6.2s\n",
      "[CV 2/2] END criterion=entropy, max_depth=10, min_samples_leaf=2, min_samples_split=5;, score=0.718 total time=   6.3s\n",
      "[CV 1/2] END criterion=entropy, max_depth=10, min_samples_leaf=2, min_samples_split=10;, score=0.715 total time=   6.1s\n",
      "[CV 2/2] END criterion=entropy, max_depth=10, min_samples_leaf=2, min_samples_split=10;, score=0.718 total time=   6.1s\n",
      "[CV 1/2] END criterion=entropy, max_depth=20, min_samples_leaf=1, min_samples_split=2;, score=0.691 total time=   7.8s\n",
      "[CV 2/2] END criterion=entropy, max_depth=20, min_samples_leaf=1, min_samples_split=2;, score=0.689 total time=   7.9s\n",
      "[CV 1/2] END criterion=entropy, max_depth=20, min_samples_leaf=1, min_samples_split=5;, score=0.690 total time=   8.0s\n",
      "[CV 2/2] END criterion=entropy, max_depth=20, min_samples_leaf=1, min_samples_split=5;, score=0.690 total time=   9.0s\n",
      "[CV 1/2] END criterion=entropy, max_depth=20, min_samples_leaf=1, min_samples_split=10;, score=0.695 total time=   7.1s\n",
      "[CV 2/2] END criterion=entropy, max_depth=20, min_samples_leaf=1, min_samples_split=10;, score=0.692 total time=   8.0s\n",
      "[CV 1/2] END criterion=entropy, max_depth=20, min_samples_leaf=2, min_samples_split=2;, score=0.694 total time=   7.6s\n",
      "[CV 2/2] END criterion=entropy, max_depth=20, min_samples_leaf=2, min_samples_split=2;, score=0.689 total time=   8.5s\n",
      "[CV 1/2] END criterion=entropy, max_depth=20, min_samples_leaf=2, min_samples_split=5;, score=0.690 total time=   7.6s\n"
     ]
    },
    {
     "name": "stdout",
     "output_type": "stream",
     "text": [
      "[CV 2/2] END criterion=entropy, max_depth=20, min_samples_leaf=2, min_samples_split=5;, score=0.689 total time=   8.3s\n",
      "[CV 1/2] END criterion=entropy, max_depth=20, min_samples_leaf=2, min_samples_split=10;, score=0.695 total time=   7.5s\n",
      "[CV 2/2] END criterion=entropy, max_depth=20, min_samples_leaf=2, min_samples_split=10;, score=0.693 total time=   8.2s\n",
      "Best Hyperparameters: {'criterion': 'entropy', 'max_depth': 10, 'min_samples_leaf': 1, 'min_samples_split': 10}\n",
      "Best Accuracy Score: 0.717072463768116\n"
     ]
    }
   ],
   "source": [
    "decision_tree = DecisionTreeClassifier()\n",
    "param_grid = {\n",
    "    'criterion': ['gini', 'entropy'],          # Splitting criterion\n",
    "    'max_depth': [None, 10, 20],             # Maximum depth of the tree\n",
    "    'min_samples_split': [2, 5, 10],       # Minimum samples required to split an internal node\n",
    "    'min_samples_leaf': [1, 2],            # Minimum samples required to be at a leaf node\n",
    "}\n",
    "grid_search = GridSearchCV(decision_tree, param_grid, cv=2, scoring='accuracy', verbose = 3)\n",
    "grid_search.fit(x_train, y_train)\n",
    "print(\"Best Hyperparameters:\", grid_search.best_params_)\n",
    "print(\"Best Accuracy Score:\", grid_search.best_score_)\n",
    "# Use the best estimator to make predictions on the test data\n",
    "best_model = grid_search.best_estimator_\n",
    "y_pred = best_model.predict(x_test)\n"
   ]
  },
  {
   "cell_type": "code",
   "execution_count": 8,
   "id": "41821dd8",
   "metadata": {},
   "outputs": [
    {
     "name": "stdout",
     "output_type": "stream",
     "text": [
      "Test Accuracy: 0.7254492753623188\n",
      "Confusion Matrix:\n",
      " [[   0   41    0    3  242    1]\n",
      " [   0 1384    0   12  477    3]\n",
      " [   2   18  119    0   26    0]\n",
      " [   1  169    0    6  658    1]\n",
      " [   4  273    0   25 2986  187]\n",
      " [   1    1    0    0  223 1762]]\n",
      "Classification Report:\n",
      "               precision    recall  f1-score   support\n",
      "\n",
      "           0       0.00      0.00      0.00       287\n",
      "           1       0.73      0.74      0.74      1876\n",
      "           2       1.00      0.72      0.84       165\n",
      "           3       0.13      0.01      0.01       835\n",
      "           4       0.65      0.86      0.74      3475\n",
      "           5       0.90      0.89      0.89      1987\n",
      "\n",
      "    accuracy                           0.73      8625\n",
      "   macro avg       0.57      0.54      0.54      8625\n",
      "weighted avg       0.66      0.73      0.68      8625\n",
      "\n"
     ]
    }
   ],
   "source": [
    "# Evaluate the model's performance on the test data\n",
    "accuracy = accuracy_score(y_test, y_pred)\n",
    "conf_matrix = confusion_matrix(y_test, y_pred)\n",
    "class_report = classification_report(y_test, y_pred)\n",
    "\n",
    "print(\"Test Accuracy:\", accuracy)\n",
    "print(\"Confusion Matrix:\\n\", conf_matrix)\n",
    "print(\"Classification Report:\\n\", class_report)"
   ]
  },
  {
   "cell_type": "code",
   "execution_count": null,
   "id": "46b35e45",
   "metadata": {},
   "outputs": [],
   "source": []
  }
 ],
 "metadata": {
  "kernelspec": {
   "display_name": "Python 3 (ipykernel)",
   "language": "python",
   "name": "python3"
  },
  "language_info": {
   "codemirror_mode": {
    "name": "ipython",
    "version": 3
   },
   "file_extension": ".py",
   "mimetype": "text/x-python",
   "name": "python",
   "nbconvert_exporter": "python",
   "pygments_lexer": "ipython3",
   "version": "3.7.5"
  }
 },
 "nbformat": 4,
 "nbformat_minor": 5
}
