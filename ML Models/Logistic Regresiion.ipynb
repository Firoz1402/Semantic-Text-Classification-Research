{
 "cells": [
  {
   "cell_type": "code",
   "execution_count": 1,
   "id": "13899ff0",
   "metadata": {},
   "outputs": [],
   "source": [
    "from sklearn.linear_model import LogisticRegression\n",
    "from sklearn.model_selection import train_test_split\n",
    "from sklearn.metrics import accuracy_score,classification_report, confusion_matrix\n",
    "import time\n",
    "import pandas as pd\n",
    "from sklearn.model_selection import GridSearchCV"
   ]
  },
  {
   "cell_type": "code",
   "execution_count": 2,
   "id": "39211a7f",
   "metadata": {},
   "outputs": [],
   "source": [
    "df = pd.read_csv('data/CleanedData.csv')"
   ]
  },
  {
   "cell_type": "code",
   "execution_count": 3,
   "id": "8d706fec",
   "metadata": {},
   "outputs": [],
   "source": [
    "from sklearn.feature_extraction.text import CountVectorizer\n",
    "cv= CountVectorizer(max_features=5000)"
   ]
  },
  {
   "cell_type": "code",
   "execution_count": 4,
   "id": "a91c2a61",
   "metadata": {},
   "outputs": [],
   "source": [
    "x= cv.fit_transform(df['transformed text']).toarray()\n",
    "y= df['subject'].values"
   ]
  },
  {
   "cell_type": "code",
   "execution_count": 5,
   "id": "bdfedcfb",
   "metadata": {},
   "outputs": [],
   "source": [
    "x_train, x_test, y_train, y_test = train_test_split(x, y, test_size=0.2, random_state=42)"
   ]
  },
  {
   "cell_type": "code",
   "execution_count": 7,
   "id": "6e078784",
   "metadata": {},
   "outputs": [],
   "source": [
    "model_params= {\n",
    "    'LogisticRegression': {\n",
    "        'model': LogisticRegression(),\n",
    "        'params': {\n",
    "            'C': [0.001, 0.01, 0.1, 1, 10],\n",
    "            'penalty': ['l1', 'l2'],\n",
    "             'solver': ['liblinear', 'saga'],      \n",
    "                  }\n",
    "    }\n",
    "}"
   ]
  },
  {
   "cell_type": "code",
   "execution_count": 8,
   "id": "ced8305c",
   "metadata": {},
   "outputs": [
    {
     "name": "stdout",
     "output_type": "stream",
     "text": [
      "Fitting 2 folds for each of 20 candidates, totalling 40 fits\n",
      "[CV 1/2] END C=0.001, penalty=l1, solver=liblinear;, score=0.648 total time=   1.5s\n",
      "[CV 2/2] END C=0.001, penalty=l1, solver=liblinear;, score=0.660 total time=   1.5s\n"
     ]
    },
    {
     "name": "stderr",
     "output_type": "stream",
     "text": [
      "/home/roronoa/.conda/envs/tf/lib/python3.7/site-packages/sklearn/linear_model/_sag.py:354: ConvergenceWarning: The max_iter was reached which means the coef_ did not converge\n",
      "  ConvergenceWarning,\n"
     ]
    },
    {
     "name": "stdout",
     "output_type": "stream",
     "text": [
      "[CV 1/2] END ..C=0.001, penalty=l1, solver=saga;, score=0.655 total time= 3.6min\n"
     ]
    },
    {
     "name": "stderr",
     "output_type": "stream",
     "text": [
      "/home/roronoa/.conda/envs/tf/lib/python3.7/site-packages/sklearn/linear_model/_sag.py:354: ConvergenceWarning: The max_iter was reached which means the coef_ did not converge\n",
      "  ConvergenceWarning,\n"
     ]
    },
    {
     "name": "stdout",
     "output_type": "stream",
     "text": [
      "[CV 2/2] END ..C=0.001, penalty=l1, solver=saga;, score=0.646 total time= 3.6min\n",
      "[CV 1/2] END C=0.001, penalty=l2, solver=liblinear;, score=0.752 total time=   2.4s\n",
      "[CV 2/2] END C=0.001, penalty=l2, solver=liblinear;, score=0.762 total time=   2.5s\n"
     ]
    },
    {
     "name": "stderr",
     "output_type": "stream",
     "text": [
      "/home/roronoa/.conda/envs/tf/lib/python3.7/site-packages/sklearn/linear_model/_sag.py:354: ConvergenceWarning: The max_iter was reached which means the coef_ did not converge\n",
      "  ConvergenceWarning,\n"
     ]
    },
    {
     "name": "stdout",
     "output_type": "stream",
     "text": [
      "[CV 1/2] END ..C=0.001, penalty=l2, solver=saga;, score=0.761 total time= 2.7min\n"
     ]
    },
    {
     "name": "stderr",
     "output_type": "stream",
     "text": [
      "/home/roronoa/.conda/envs/tf/lib/python3.7/site-packages/sklearn/linear_model/_sag.py:354: ConvergenceWarning: The max_iter was reached which means the coef_ did not converge\n",
      "  ConvergenceWarning,\n"
     ]
    },
    {
     "name": "stdout",
     "output_type": "stream",
     "text": [
      "[CV 2/2] END ..C=0.001, penalty=l2, solver=saga;, score=0.767 total time= 2.6min\n",
      "[CV 1/2] END C=0.01, penalty=l1, solver=liblinear;, score=0.739 total time=   1.4s\n",
      "[CV 2/2] END C=0.01, penalty=l1, solver=liblinear;, score=0.747 total time=   1.5s\n"
     ]
    },
    {
     "name": "stderr",
     "output_type": "stream",
     "text": [
      "/home/roronoa/.conda/envs/tf/lib/python3.7/site-packages/sklearn/linear_model/_sag.py:354: ConvergenceWarning: The max_iter was reached which means the coef_ did not converge\n",
      "  ConvergenceWarning,\n"
     ]
    },
    {
     "name": "stdout",
     "output_type": "stream",
     "text": [
      "[CV 1/2] END ...C=0.01, penalty=l1, solver=saga;, score=0.733 total time= 3.6min\n"
     ]
    },
    {
     "name": "stderr",
     "output_type": "stream",
     "text": [
      "/home/roronoa/.conda/envs/tf/lib/python3.7/site-packages/sklearn/linear_model/_sag.py:354: ConvergenceWarning: The max_iter was reached which means the coef_ did not converge\n",
      "  ConvergenceWarning,\n"
     ]
    },
    {
     "name": "stdout",
     "output_type": "stream",
     "text": [
      "[CV 2/2] END ...C=0.01, penalty=l1, solver=saga;, score=0.747 total time= 3.6min\n",
      "[CV 1/2] END C=0.01, penalty=l2, solver=liblinear;, score=0.765 total time=   4.6s\n",
      "[CV 2/2] END C=0.01, penalty=l2, solver=liblinear;, score=0.774 total time=   4.3s\n"
     ]
    },
    {
     "name": "stderr",
     "output_type": "stream",
     "text": [
      "/home/roronoa/.conda/envs/tf/lib/python3.7/site-packages/sklearn/linear_model/_sag.py:354: ConvergenceWarning: The max_iter was reached which means the coef_ did not converge\n",
      "  ConvergenceWarning,\n"
     ]
    },
    {
     "name": "stdout",
     "output_type": "stream",
     "text": [
      "[CV 1/2] END ...C=0.01, penalty=l2, solver=saga;, score=0.765 total time= 2.6min\n"
     ]
    },
    {
     "name": "stderr",
     "output_type": "stream",
     "text": [
      "/home/roronoa/.conda/envs/tf/lib/python3.7/site-packages/sklearn/linear_model/_sag.py:354: ConvergenceWarning: The max_iter was reached which means the coef_ did not converge\n",
      "  ConvergenceWarning,\n"
     ]
    },
    {
     "name": "stdout",
     "output_type": "stream",
     "text": [
      "[CV 2/2] END ...C=0.01, penalty=l2, solver=saga;, score=0.771 total time= 2.6min\n",
      "[CV 1/2] END C=0.1, penalty=l1, solver=liblinear;, score=0.770 total time=   1.7s\n",
      "[CV 2/2] END C=0.1, penalty=l1, solver=liblinear;, score=0.778 total time=   1.7s\n"
     ]
    },
    {
     "name": "stderr",
     "output_type": "stream",
     "text": [
      "/home/roronoa/.conda/envs/tf/lib/python3.7/site-packages/sklearn/linear_model/_sag.py:354: ConvergenceWarning: The max_iter was reached which means the coef_ did not converge\n",
      "  ConvergenceWarning,\n"
     ]
    },
    {
     "name": "stdout",
     "output_type": "stream",
     "text": [
      "[CV 1/2] END ....C=0.1, penalty=l1, solver=saga;, score=0.764 total time= 5.5min\n"
     ]
    },
    {
     "name": "stderr",
     "output_type": "stream",
     "text": [
      "/home/roronoa/.conda/envs/tf/lib/python3.7/site-packages/sklearn/linear_model/_sag.py:354: ConvergenceWarning: The max_iter was reached which means the coef_ did not converge\n",
      "  ConvergenceWarning,\n"
     ]
    },
    {
     "name": "stdout",
     "output_type": "stream",
     "text": [
      "[CV 2/2] END ....C=0.1, penalty=l1, solver=saga;, score=0.775 total time= 5.0min\n",
      "[CV 1/2] END C=0.1, penalty=l2, solver=liblinear;, score=0.751 total time=  11.3s\n"
     ]
    },
    {
     "name": "stderr",
     "output_type": "stream",
     "text": [
      "/home/roronoa/.conda/envs/tf/lib/python3.7/site-packages/sklearn/svm/_base.py:1208: ConvergenceWarning: Liblinear failed to converge, increase the number of iterations.\n",
      "  ConvergenceWarning,\n"
     ]
    },
    {
     "name": "stdout",
     "output_type": "stream",
     "text": [
      "[CV 2/2] END C=0.1, penalty=l2, solver=liblinear;, score=0.759 total time=  12.0s\n"
     ]
    },
    {
     "name": "stderr",
     "output_type": "stream",
     "text": [
      "/home/roronoa/.conda/envs/tf/lib/python3.7/site-packages/sklearn/linear_model/_sag.py:354: ConvergenceWarning: The max_iter was reached which means the coef_ did not converge\n",
      "  ConvergenceWarning,\n"
     ]
    },
    {
     "name": "stdout",
     "output_type": "stream",
     "text": [
      "[CV 1/2] END ....C=0.1, penalty=l2, solver=saga;, score=0.765 total time= 2.7min\n"
     ]
    },
    {
     "name": "stderr",
     "output_type": "stream",
     "text": [
      "/home/roronoa/.conda/envs/tf/lib/python3.7/site-packages/sklearn/linear_model/_sag.py:354: ConvergenceWarning: The max_iter was reached which means the coef_ did not converge\n",
      "  ConvergenceWarning,\n"
     ]
    },
    {
     "name": "stdout",
     "output_type": "stream",
     "text": [
      "[CV 2/2] END ....C=0.1, penalty=l2, solver=saga;, score=0.769 total time= 2.8min\n",
      "[CV 1/2] END .C=1, penalty=l1, solver=liblinear;, score=0.737 total time=   6.6s\n",
      "[CV 2/2] END .C=1, penalty=l1, solver=liblinear;, score=0.745 total time=   5.4s\n"
     ]
    },
    {
     "name": "stderr",
     "output_type": "stream",
     "text": [
      "/home/roronoa/.conda/envs/tf/lib/python3.7/site-packages/sklearn/linear_model/_sag.py:354: ConvergenceWarning: The max_iter was reached which means the coef_ did not converge\n",
      "  ConvergenceWarning,\n"
     ]
    },
    {
     "name": "stdout",
     "output_type": "stream",
     "text": [
      "[CV 1/2] END ......C=1, penalty=l1, solver=saga;, score=0.765 total time= 9.3min\n"
     ]
    },
    {
     "name": "stderr",
     "output_type": "stream",
     "text": [
      "/home/roronoa/.conda/envs/tf/lib/python3.7/site-packages/sklearn/linear_model/_sag.py:354: ConvergenceWarning: The max_iter was reached which means the coef_ did not converge\n",
      "  ConvergenceWarning,\n"
     ]
    },
    {
     "name": "stdout",
     "output_type": "stream",
     "text": [
      "[CV 2/2] END ......C=1, penalty=l1, solver=saga;, score=0.770 total time= 9.7min\n"
     ]
    },
    {
     "name": "stderr",
     "output_type": "stream",
     "text": [
      "/home/roronoa/.conda/envs/tf/lib/python3.7/site-packages/sklearn/svm/_base.py:1208: ConvergenceWarning: Liblinear failed to converge, increase the number of iterations.\n",
      "  ConvergenceWarning,\n"
     ]
    },
    {
     "name": "stdout",
     "output_type": "stream",
     "text": [
      "[CV 1/2] END .C=1, penalty=l2, solver=liblinear;, score=0.733 total time=  24.6s\n"
     ]
    },
    {
     "name": "stderr",
     "output_type": "stream",
     "text": [
      "/home/roronoa/.conda/envs/tf/lib/python3.7/site-packages/sklearn/svm/_base.py:1208: ConvergenceWarning: Liblinear failed to converge, increase the number of iterations.\n",
      "  ConvergenceWarning,\n"
     ]
    },
    {
     "name": "stdout",
     "output_type": "stream",
     "text": [
      "[CV 2/2] END .C=1, penalty=l2, solver=liblinear;, score=0.744 total time=  20.5s\n"
     ]
    },
    {
     "name": "stderr",
     "output_type": "stream",
     "text": [
      "/home/roronoa/.conda/envs/tf/lib/python3.7/site-packages/sklearn/linear_model/_sag.py:354: ConvergenceWarning: The max_iter was reached which means the coef_ did not converge\n",
      "  ConvergenceWarning,\n"
     ]
    },
    {
     "name": "stdout",
     "output_type": "stream",
     "text": [
      "[CV 1/2] END ......C=1, penalty=l2, solver=saga;, score=0.766 total time= 2.7min\n"
     ]
    },
    {
     "name": "stderr",
     "output_type": "stream",
     "text": [
      "/home/roronoa/.conda/envs/tf/lib/python3.7/site-packages/sklearn/linear_model/_sag.py:354: ConvergenceWarning: The max_iter was reached which means the coef_ did not converge\n",
      "  ConvergenceWarning,\n"
     ]
    },
    {
     "name": "stdout",
     "output_type": "stream",
     "text": [
      "[CV 2/2] END ......C=1, penalty=l2, solver=saga;, score=0.768 total time= 2.9min\n",
      "[CV 1/2] END C=10, penalty=l1, solver=liblinear;, score=0.700 total time=  36.6s\n",
      "[CV 2/2] END C=10, penalty=l1, solver=liblinear;, score=0.707 total time=  34.2s\n"
     ]
    },
    {
     "name": "stderr",
     "output_type": "stream",
     "text": [
      "/home/roronoa/.conda/envs/tf/lib/python3.7/site-packages/sklearn/linear_model/_sag.py:354: ConvergenceWarning: The max_iter was reached which means the coef_ did not converge\n",
      "  ConvergenceWarning,\n"
     ]
    },
    {
     "name": "stdout",
     "output_type": "stream",
     "text": [
      "[CV 1/2] END .....C=10, penalty=l1, solver=saga;, score=0.765 total time= 8.3min\n"
     ]
    },
    {
     "name": "stderr",
     "output_type": "stream",
     "text": [
      "/home/roronoa/.conda/envs/tf/lib/python3.7/site-packages/sklearn/linear_model/_sag.py:354: ConvergenceWarning: The max_iter was reached which means the coef_ did not converge\n",
      "  ConvergenceWarning,\n"
     ]
    },
    {
     "name": "stdout",
     "output_type": "stream",
     "text": [
      "[CV 2/2] END .....C=10, penalty=l1, solver=saga;, score=0.769 total time= 8.2min\n"
     ]
    },
    {
     "name": "stderr",
     "output_type": "stream",
     "text": [
      "/home/roronoa/.conda/envs/tf/lib/python3.7/site-packages/sklearn/svm/_base.py:1208: ConvergenceWarning: Liblinear failed to converge, increase the number of iterations.\n",
      "  ConvergenceWarning,\n"
     ]
    },
    {
     "name": "stdout",
     "output_type": "stream",
     "text": [
      "[CV 1/2] END C=10, penalty=l2, solver=liblinear;, score=0.736 total time=  19.9s\n"
     ]
    },
    {
     "name": "stderr",
     "output_type": "stream",
     "text": [
      "/home/roronoa/.conda/envs/tf/lib/python3.7/site-packages/sklearn/svm/_base.py:1208: ConvergenceWarning: Liblinear failed to converge, increase the number of iterations.\n",
      "  ConvergenceWarning,\n"
     ]
    },
    {
     "name": "stdout",
     "output_type": "stream",
     "text": [
      "[CV 2/2] END C=10, penalty=l2, solver=liblinear;, score=0.745 total time=  18.9s\n"
     ]
    },
    {
     "name": "stderr",
     "output_type": "stream",
     "text": [
      "/home/roronoa/.conda/envs/tf/lib/python3.7/site-packages/sklearn/linear_model/_sag.py:354: ConvergenceWarning: The max_iter was reached which means the coef_ did not converge\n",
      "  ConvergenceWarning,\n"
     ]
    },
    {
     "name": "stdout",
     "output_type": "stream",
     "text": [
      "[CV 1/2] END .....C=10, penalty=l2, solver=saga;, score=0.765 total time= 2.7min\n"
     ]
    },
    {
     "name": "stderr",
     "output_type": "stream",
     "text": [
      "/home/roronoa/.conda/envs/tf/lib/python3.7/site-packages/sklearn/linear_model/_sag.py:354: ConvergenceWarning: The max_iter was reached which means the coef_ did not converge\n",
      "  ConvergenceWarning,\n"
     ]
    },
    {
     "name": "stdout",
     "output_type": "stream",
     "text": [
      "[CV 2/2] END .....C=10, penalty=l2, solver=saga;, score=0.768 total time= 2.7min\n"
     ]
    },
    {
     "ename": "NameError",
     "evalue": "name 'clf_name' is not defined",
     "output_type": "error",
     "traceback": [
      "\u001b[0;31m---------------------------------------------------------------------------\u001b[0m",
      "\u001b[0;31mNameError\u001b[0m                                 Traceback (most recent call last)",
      "\u001b[0;32m/tmp/ipykernel_8414/3241799935.py\u001b[0m in \u001b[0;36m<module>\u001b[0;34m\u001b[0m\n\u001b[1;32m     16\u001b[0m \u001b[0mlass_report\u001b[0m \u001b[0;34m=\u001b[0m \u001b[0mclassification_report\u001b[0m\u001b[0;34m(\u001b[0m\u001b[0my_test\u001b[0m\u001b[0;34m,\u001b[0m \u001b[0my_pred\u001b[0m\u001b[0;34m)\u001b[0m\u001b[0;34m\u001b[0m\u001b[0;34m\u001b[0m\u001b[0m\n\u001b[1;32m     17\u001b[0m \u001b[0;34m\u001b[0m\u001b[0m\n\u001b[0;32m---> 18\u001b[0;31m \u001b[0mprint\u001b[0m\u001b[0;34m(\u001b[0m\u001b[0;34mf\"{clf_name} - Test Accuracy:\"\u001b[0m\u001b[0;34m,\u001b[0m \u001b[0maccuracy\u001b[0m\u001b[0;34m)\u001b[0m\u001b[0;34m\u001b[0m\u001b[0;34m\u001b[0m\u001b[0m\n\u001b[0m\u001b[1;32m     19\u001b[0m \u001b[0mprnt\u001b[0m\u001b[0;34m(\u001b[0m\u001b[0;34mf\"{clf_name} - Confusion Matrix:\\n\"\u001b[0m\u001b[0;34m,\u001b[0m \u001b[0mconf_matrix\u001b[0m\u001b[0;34m)\u001b[0m\u001b[0;34m\u001b[0m\u001b[0;34m\u001b[0m\u001b[0m\n\u001b[1;32m     20\u001b[0m \u001b[0mprint\u001b[0m\u001b[0;34m(\u001b[0m\u001b[0;34mf\"{clf_name} - Classification Report:\\n\"\u001b[0m\u001b[0;34m,\u001b[0m \u001b[0mclass_report\u001b[0m\u001b[0;34m)\u001b[0m\u001b[0;34m\u001b[0m\u001b[0;34m\u001b[0m\u001b[0m\n",
      "\u001b[0;31mNameError\u001b[0m: name 'clf_name' is not defined"
     ]
    }
   ],
   "source": [
    "scores= []\n",
    "start = time.time()\n",
    "for model_name, mp in model_params.items():\n",
    "    clf= GridSearchCV(mp['model'], mp['params'], cv=2, verbose = 4, return_train_score=False)\n",
    "    clf.fit(x_train, y_train)\n",
    "    scores.append({\n",
    "        'model': model_name,\n",
    "        'best_score': clf.best_score_,\n",
    "        'best_params': clf.best_params_\n",
    "    })\n",
    "    \n",
    "best_model = clf.best_estimator_\n",
    "y_pred = best_model.predict(x_test)\n",
    "accuracy = accuracy_score(y_test, y_pred)\n",
    "conf_matrix = confusion_matrix(y_test, y_pred)\n",
    "lass_report = classification_report(y_test, y_pred)\n",
    "    \n",
    "print(f\"{clf_name} - Test Accuracy:\", accuracy)\n",
    "print(f\"{clf_name} - Confusion Matrix:\\n\", conf_matrix)\n",
    "print(f\"{clf_name} - Classification Report:\\n\", class_report)\n",
    "print(\"\\n\")\n",
    "\n",
    "end = time.time()\n",
    "print(\"The time of execution of above program is :\",\n",
    "      (end-start) * 10**3, \"ms\")"
   ]
  },
  {
   "cell_type": "code",
   "execution_count": 9,
   "id": "a80703e2",
   "metadata": {},
   "outputs": [
    {
     "data": {
      "text/html": [
       "<div>\n",
       "<style scoped>\n",
       "    .dataframe tbody tr th:only-of-type {\n",
       "        vertical-align: middle;\n",
       "    }\n",
       "\n",
       "    .dataframe tbody tr th {\n",
       "        vertical-align: top;\n",
       "    }\n",
       "\n",
       "    .dataframe thead th {\n",
       "        text-align: right;\n",
       "    }\n",
       "</style>\n",
       "<table border=\"1\" class=\"dataframe\">\n",
       "  <thead>\n",
       "    <tr style=\"text-align: right;\">\n",
       "      <th></th>\n",
       "      <th>model</th>\n",
       "      <th>best_score</th>\n",
       "      <th>best_params</th>\n",
       "    </tr>\n",
       "  </thead>\n",
       "  <tbody>\n",
       "    <tr>\n",
       "      <th>0</th>\n",
       "      <td>LogisticRegression</td>\n",
       "      <td>0.774</td>\n",
       "      <td>{'C': 0.1, 'penalty': 'l1', 'solver': 'libline...</td>\n",
       "    </tr>\n",
       "  </tbody>\n",
       "</table>\n",
       "</div>"
      ],
      "text/plain": [
       "                model  best_score  \\\n",
       "0  LogisticRegression       0.774   \n",
       "\n",
       "                                         best_params  \n",
       "0  {'C': 0.1, 'penalty': 'l1', 'solver': 'libline...  "
      ]
     },
     "execution_count": 9,
     "metadata": {},
     "output_type": "execute_result"
    }
   ],
   "source": [
    "df= pd.DataFrame(scores, columns=['model', 'best_score', 'best_params'])\n",
    "df"
   ]
  },
  {
   "cell_type": "code",
   "execution_count": 13,
   "id": "d4a5c9c8",
   "metadata": {},
   "outputs": [],
   "source": [
    "best_model = clf.best_estimator_\n",
    "y_pred = best_model.predict(x_test)\n",
    "accuracy = accuracy_score(y_test, y_pred)\n",
    "conf_matrix = confusion_matrix(y_test, y_pred)\n",
    "class_report = classification_report(y_test, y_pred)"
   ]
  },
  {
   "cell_type": "code",
   "execution_count": 17,
   "id": "be9e6f0c",
   "metadata": {},
   "outputs": [
    {
     "name": "stdout",
     "output_type": "stream",
     "text": [
      "Accuracy score 0.7895652173913044\n",
      "Confusion Matrix:\n",
      " [[  21   20    0   48  192    6]\n",
      " [   5 1717    2   34  116    2]\n",
      " [   1    7  139    6   11    1]\n",
      " [  12   91    2  154  568    8]\n",
      " [  38  116    3  270 2930  118]\n",
      " [   0    0    0    0  138 1849]]\n",
      "Report:\n",
      "               precision    recall  f1-score   support\n",
      "\n",
      "           0       0.27      0.07      0.12       287\n",
      "           1       0.88      0.92      0.90      1876\n",
      "           2       0.95      0.84      0.89       165\n",
      "           3       0.30      0.18      0.23       835\n",
      "           4       0.74      0.84      0.79      3475\n",
      "           5       0.93      0.93      0.93      1987\n",
      "\n",
      "    accuracy                           0.79      8625\n",
      "   macro avg       0.68      0.63      0.64      8625\n",
      "weighted avg       0.76      0.79      0.77      8625\n",
      "\n"
     ]
    }
   ],
   "source": [
    "print('Accuracy score',accuracy)\n",
    "print('Confusion Matrix:\\n',conf_matrix)\n",
    "print('Report:\\n',class_report)"
   ]
  },
  {
   "cell_type": "code",
   "execution_count": null,
   "id": "afd70ad2",
   "metadata": {},
   "outputs": [],
   "source": []
  }
 ],
 "metadata": {
  "kernelspec": {
   "display_name": "Python 3 (ipykernel)",
   "language": "python",
   "name": "python3"
  },
  "language_info": {
   "codemirror_mode": {
    "name": "ipython",
    "version": 3
   },
   "file_extension": ".py",
   "mimetype": "text/x-python",
   "name": "python",
   "nbconvert_exporter": "python",
   "pygments_lexer": "ipython3",
   "version": "3.7.5"
  }
 },
 "nbformat": 4,
 "nbformat_minor": 5
}
