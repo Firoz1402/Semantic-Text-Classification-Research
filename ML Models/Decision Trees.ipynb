{
 "cells": [
  {
   "cell_type": "code",
   "execution_count": 1,
   "id": "7ca26eac",
   "metadata": {},
   "outputs": [],
   "source": [
    "import sklearn\n",
    "import pandas as pd\n",
    "import numpy as np\n",
    "from sklearn.metrics import accuracy_score, classification_report, confusion_matrix,f1_score\n",
    "from sklearn.model_selection import train_test_split, GridSearchCV\n",
    "from sklearn.tree import DecisionTreeClassifier\n",
    "import gensim\n",
    "from gensim.models import Word2Vec"
   ]
  },
  {
   "cell_type": "code",
   "execution_count": 2,
   "id": "5dff4d52",
   "metadata": {},
   "outputs": [],
   "source": [
    "df = pd.read_csv('../Data/CleanedData.csv')"
   ]
  },
  {
   "cell_type": "code",
   "execution_count": 3,
   "id": "9df2b580",
   "metadata": {},
   "outputs": [],
   "source": [
    "from sklearn.feature_extraction.text import TfidfVectorizer\n",
    "tfidf= TfidfVectorizer(max_features=5000)"
   ]
  },
  {
   "cell_type": "code",
   "execution_count": 4,
   "id": "b8f423b1",
   "metadata": {},
   "outputs": [],
   "source": [
    "X = tfidf.fit_transform(df['transformed text'])\n",
    "y = df['subject'].values"
   ]
  },
  {
   "cell_type": "code",
   "execution_count": 5,
   "id": "7cbe8c27",
   "metadata": {},
   "outputs": [],
   "source": [
    "from sklearn.model_selection import train_test_split\n",
    "X_train, X_test, y_train, y_test= train_test_split(X, y, test_size=0.2, random_state = 42)"
   ]
  },
  {
   "cell_type": "code",
   "execution_count": 6,
   "id": "85a2c9ec",
   "metadata": {},
   "outputs": [],
   "source": [
    "from imblearn.over_sampling import SMOTE\n",
    "smote = SMOTE(sampling_strategy='auto', random_state=42)\n",
    "X_resampled, y_resampled = smote.fit_resample(X_train, y_train)"
   ]
  },
  {
   "cell_type": "code",
   "execution_count": 10,
   "id": "39a361c8",
   "metadata": {},
   "outputs": [
    {
     "ename": "NameError",
     "evalue": "name 'x_train' is not defined",
     "output_type": "error",
     "traceback": [
      "\u001b[0;31m---------------------------------------------------------------------------\u001b[0m",
      "\u001b[0;31mNameError\u001b[0m                                 Traceback (most recent call last)",
      "\u001b[0;32m/tmp/ipykernel_5124/2651316181.py\u001b[0m in \u001b[0;36m<module>\u001b[0;34m\u001b[0m\n\u001b[1;32m      7\u001b[0m }\n\u001b[1;32m      8\u001b[0m \u001b[0mgrid_search\u001b[0m \u001b[0;34m=\u001b[0m \u001b[0mGridSearchCV\u001b[0m\u001b[0;34m(\u001b[0m\u001b[0mdecision_tree\u001b[0m\u001b[0;34m,\u001b[0m \u001b[0mparam_grid\u001b[0m\u001b[0;34m,\u001b[0m \u001b[0mcv\u001b[0m\u001b[0;34m=\u001b[0m\u001b[0;36m2\u001b[0m\u001b[0;34m,\u001b[0m \u001b[0mscoring\u001b[0m\u001b[0;34m=\u001b[0m\u001b[0;34m'accuracy'\u001b[0m\u001b[0;34m,\u001b[0m \u001b[0mverbose\u001b[0m \u001b[0;34m=\u001b[0m \u001b[0;36m3\u001b[0m\u001b[0;34m)\u001b[0m\u001b[0;34m\u001b[0m\u001b[0;34m\u001b[0m\u001b[0m\n\u001b[0;32m----> 9\u001b[0;31m \u001b[0mgrid_search\u001b[0m\u001b[0;34m.\u001b[0m\u001b[0mfit\u001b[0m\u001b[0;34m(\u001b[0m\u001b[0mx_train\u001b[0m\u001b[0;34m,\u001b[0m \u001b[0my_train\u001b[0m\u001b[0;34m)\u001b[0m\u001b[0;34m\u001b[0m\u001b[0;34m\u001b[0m\u001b[0m\n\u001b[0m\u001b[1;32m     10\u001b[0m \u001b[0mprint\u001b[0m\u001b[0;34m(\u001b[0m\u001b[0;34m\"Best Hyperparameters:\"\u001b[0m\u001b[0;34m,\u001b[0m \u001b[0mgrid_search\u001b[0m\u001b[0;34m.\u001b[0m\u001b[0mbest_params_\u001b[0m\u001b[0;34m)\u001b[0m\u001b[0;34m\u001b[0m\u001b[0;34m\u001b[0m\u001b[0m\n\u001b[1;32m     11\u001b[0m \u001b[0mprint\u001b[0m\u001b[0;34m(\u001b[0m\u001b[0;34m\"Best Accuracy Score:\"\u001b[0m\u001b[0;34m,\u001b[0m \u001b[0mgrid_search\u001b[0m\u001b[0;34m.\u001b[0m\u001b[0mbest_score_\u001b[0m\u001b[0;34m)\u001b[0m\u001b[0;34m\u001b[0m\u001b[0;34m\u001b[0m\u001b[0m\n",
      "\u001b[0;31mNameError\u001b[0m: name 'x_train' is not defined"
     ]
    }
   ],
   "source": [
    "decision_tree = DecisionTreeClassifier()\n",
    "param_grid = {\n",
    "    'criterion': ['gini', 'entropy'],          # Splitting criterion\n",
    "    'max_depth': [40, 50, 60 , 70],             # Maximum depth of the tree\n",
    "    'min_samples_split': [2, 5, 10],       # Minimum samples required to split an internal node\n",
    "    'min_samples_leaf': [1, 2],            # Minimum samples required to be at a leaf node\n",
    "}\n",
    "grid_search = GridSearchCV(decision_tree, param_grid, cv=2, scoring='accuracy', verbose = 3)\n",
    "grid_search.fit(x_train, y_train)\n",
    "print(\"Best Hyperparameters:\", grid_search.best_params_)\n",
    "print(\"Best Accuracy Score:\", grid_search.best_score_)\n",
    "# Use the best estimator to make predictions on the test data\n",
    "best_model = grid_search.best_estimator_\n",
    "y_pred = best_model.predict(x_test)\n"
   ]
  },
  {
   "cell_type": "code",
   "execution_count": 8,
   "id": "41821dd8",
   "metadata": {},
   "outputs": [
    {
     "name": "stdout",
     "output_type": "stream",
     "text": [
      "Test Accuracy: 0.7254492753623188\n",
      "Confusion Matrix:\n",
      " [[   0   41    0    3  242    1]\n",
      " [   0 1384    0   12  477    3]\n",
      " [   2   18  119    0   26    0]\n",
      " [   1  169    0    6  658    1]\n",
      " [   4  273    0   25 2986  187]\n",
      " [   1    1    0    0  223 1762]]\n",
      "Classification Report:\n",
      "               precision    recall  f1-score   support\n",
      "\n",
      "           0       0.00      0.00      0.00       287\n",
      "           1       0.73      0.74      0.74      1876\n",
      "           2       1.00      0.72      0.84       165\n",
      "           3       0.13      0.01      0.01       835\n",
      "           4       0.65      0.86      0.74      3475\n",
      "           5       0.90      0.89      0.89      1987\n",
      "\n",
      "    accuracy                           0.73      8625\n",
      "   macro avg       0.57      0.54      0.54      8625\n",
      "weighted avg       0.66      0.73      0.68      8625\n",
      "\n"
     ]
    }
   ],
   "source": [
    "# Evaluate the model's performance on the test data\n",
    "accuracy = accuracy_score(y_test, y_pred)\n",
    "conf_matrix = confusion_matrix(y_test, y_pred)\n",
    "class_report = classification_report(y_test, y_pred)\n",
    "\n",
    "print(\"Test Accuracy:\", accuracy)\n",
    "print(\"Confusion Matrix:\\n\", conf_matrix)\n",
    "print(\"Classification Report:\\n\", class_report)"
   ]
  },
  {
   "cell_type": "markdown",
   "id": "caa04f89",
   "metadata": {},
   "source": [
    "# HyperParameter Tuning using HyperOpt"
   ]
  },
  {
   "cell_type": "code",
   "execution_count": 11,
   "id": "452e54dd",
   "metadata": {},
   "outputs": [],
   "source": [
    "\n",
    "from sklearn.feature_extraction.text import TfidfVectorizer\n",
    "from sklearn.model_selection import train_test_split\n",
    "from sklearn.tree import DecisionTreeClassifier\n",
    "from sklearn.metrics import f1_score\n",
    "from hyperopt import fmin, tpe, hp, STATUS_OK, Trials, space_eval\n"
   ]
  },
  {
   "cell_type": "code",
   "execution_count": 13,
   "id": "37f9c08b",
   "metadata": {},
   "outputs": [],
   "source": [
    "space = {\n",
    "    'max_depth': hp.quniform('max_depth', 1, 100, 1),\n",
    "    'min_samples_split': hp.quniform('min_samples_split', 2, 50, 1),\n",
    "    'min_samples_leaf': hp.quniform('min_samples_leaf', 1, 50, 1),\n",
    "    'max_features': hp.choice('max_features', ['auto', 'sqrt', None, 0.5, 0.75,1,2,3,4]),\n",
    "    'criterion': hp.choice('criterion', ['gini', 'entropy'])\n",
    "}\n"
   ]
  },
  {
   "cell_type": "code",
   "execution_count": 14,
   "id": "63ce11be",
   "metadata": {},
   "outputs": [],
   "source": [
    "def objective(params):\n",
    "    # Define hyperparameters\n",
    "    max_depth = int(params['max_depth'])\n",
    "    min_samples_split = int(params['min_samples_split'])\n",
    "    min_samples_leaf = int(params['min_samples_leaf'])\n",
    "    max_features = params['max_features']\n",
    "    criterion = params['criterion']\n",
    "    \n",
    "    # Create a Decision Tree Classifier with the specified hyperparameters\n",
    "    clf = DecisionTreeClassifier(max_depth=max_depth, min_samples_split=min_samples_split,\n",
    "                                 min_samples_leaf=min_samples_leaf, max_features=max_features,\n",
    "                                 criterion=criterion, random_state=42)\n",
    "    \n",
    "    # Train the classifier\n",
    "    clf.fit(X_resampled, y_resampled)\n",
    "    \n",
    "    # Make predictions on the test set\n",
    "    y_pred = clf.predict(X_test)\n",
    "    \n",
    "    # Calculate F1 score\n",
    "    f1 = f1_score(y_test, y_pred, average='weighted')\n",
    "    \n",
    "    return {'loss': -f1, 'status': STATUS_OK}"
   ]
  },
  {
   "cell_type": "code",
   "execution_count": 15,
   "id": "9a79aed2",
   "metadata": {},
   "outputs": [
    {
     "name": "stdout",
     "output_type": "stream",
     "text": [
      "100%|████████| 50/50 [18:39<00:00, 22.39s/trial, best loss: -0.7157264824553061]\n",
      "The time of execution of the above program is: 1119761.221408844 ms\n",
      "Best Hyperparameters:\n",
      "{'criterion': 'gini', 'max_depth': 87.0, 'max_features': None, 'min_samples_leaf': 50.0, 'min_samples_split': 36.0}\n",
      "Best Weighted F1 Score (Loss): 0.7157264824553061\n"
     ]
    }
   ],
   "source": [
    "import time\n",
    "trials = Trials()\n",
    "start  =time.time()\n",
    "best = fmin(fn=objective,\n",
    "            space=space,\n",
    "            algo=tpe.suggest,\n",
    "            max_evals=50,  # Number of optimization iterations\n",
    "            trials=trials,\n",
    "            rstate=np.random.default_rng(42))\n",
    "\n",
    "# Get the best hyperparameters and the corresponding loss\n",
    "best_hyperparams = space_eval(space, best)\n",
    "best_loss = -trials.best_trial['result']['loss']\n",
    "end = time.time()\n",
    "print(\"The time of execution of the above program is:\", (end - start) * 1000, \"ms\")\n",
    "# Print the best hyperparameters and corresponding loss\n",
    "print(\"Best Hyperparameters:\")\n",
    "print(best_hyperparams)\n",
    "print(\"Best Weighted F1 Score (Loss):\", best_loss)"
   ]
  },
  {
   "cell_type": "code",
   "execution_count": 7,
   "id": "710a37fb",
   "metadata": {},
   "outputs": [
    {
     "name": "stdout",
     "output_type": "stream",
     "text": [
      "Weighted F1 Score: 0.62\n"
     ]
    }
   ],
   "source": [
    "decision_tree_classifier = DecisionTreeClassifier(max_depth = 87)\n",
    "decision_tree_classifier.fit(X_train, y_train)\n",
    "y_pred = decision_tree_classifier.predict(X_test)\n",
    "f1_weighted = f1_score(y_test, y_pred, average='weighted')\n",
    "\n",
    "print(f\"Weighted F1 Score: {f1_weighted:.2f}\")"
   ]
  },
  {
   "cell_type": "code",
   "execution_count": 16,
   "id": "5c894990",
   "metadata": {},
   "outputs": [
    {
     "name": "stdout",
     "output_type": "stream",
     "text": [
      "Weighted F1 Score after OverSampling: 0.72\n"
     ]
    }
   ],
   "source": [
    "decision_tree_classifier = DecisionTreeClassifier(criterion = 'gini',max_depth = 87,max_features= None,min_samples_leaf=50,min_samples_split=36)\n",
    "decision_tree_classifier.fit(X_resampled, y_resampled)\n",
    "y_pred = decision_tree_classifier.predict(X_test)\n",
    "f1_weighted = f1_score(y_test, y_pred, average='weighted')\n",
    "\n",
    "print(f\"Weighted F1 Score after OverSampling: {f1_weighted:.2f}\")"
   ]
  },
  {
   "cell_type": "code",
   "execution_count": null,
   "id": "287db9f6",
   "metadata": {},
   "outputs": [],
   "source": []
  }
 ],
 "metadata": {
  "kernelspec": {
   "display_name": "Python 3 (ipykernel)",
   "language": "python",
   "name": "python3"
  },
  "language_info": {
   "codemirror_mode": {
    "name": "ipython",
    "version": 3
   },
   "file_extension": ".py",
   "mimetype": "text/x-python",
   "name": "python",
   "nbconvert_exporter": "python",
   "pygments_lexer": "ipython3",
   "version": "3.7.5"
  }
 },
 "nbformat": 4,
 "nbformat_minor": 5
}
